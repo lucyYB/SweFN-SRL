{
 "cells": [
  {
   "attachments": {},
   "cell_type": "markdown",
   "metadata": {
    "id": "9ELRVJYj4gsb"
   },
   "source": [
    "# Frame Semantic Transformer: Swedish Training\n",
    "\n",
    "This notebook trains and evaluates a Swedish SRL model based on the [Frame Semantic Transformer library](https://github.com/chanind/frame-semantic-transformer)"
   ]
  },
  {
   "cell_type": "code",
   "execution_count": 1,
   "metadata": {},
   "outputs": [
    {
     "name": "stdout",
     "output_type": "stream",
     "text": [
      "built: True\n",
      "CUDNN version: 8500\n"
     ]
    },
    {
     "data": {
      "text/plain": [
       "True"
      ]
     },
     "execution_count": 1,
     "metadata": {},
     "output_type": "execute_result"
    }
   ],
   "source": [
    "import torch\n",
    "print(f'built: {torch.backends.cuda.is_built()}')\n",
    "print(f'CUDNN version: {torch.backends.cudnn.version()}')\n",
    "torch.cuda.is_available()\n",
    "# torch.cuda.device_count()\n",
    "\n",
    "# torch.__version__\n",
    "# # verify that your graphics card and driver both support the required CUDA version \n",
    "# torch.zeros(1).cuda()\n",
    "\n",
    "# !nvcc --version"
   ]
  },
  {
   "cell_type": "code",
   "execution_count": 2,
   "metadata": {
    "colab": {
     "base_uri": "https://localhost:8080/"
    },
    "id": "xcirNepjfFZ5",
    "outputId": "8c04a64a-763b-4a41-9a90-c0c2a2fdfe87"
   },
   "outputs": [
    {
     "name": "stdout",
     "output_type": "stream",
     "text": [
      "Wed Jun 14 03:12:33 2023       \n",
      "+-----------------------------------------------------------------------------+\n",
      "| NVIDIA-SMI 516.01       Driver Version: 516.01       CUDA Version: 11.7     |\n",
      "|-------------------------------+----------------------+----------------------+\n",
      "| GPU  Name            TCC/WDDM | Bus-Id        Disp.A | Volatile Uncorr. ECC |\n",
      "| Fan  Temp  Perf  Pwr:Usage/Cap|         Memory-Usage | GPU-Util  Compute M. |\n",
      "|                               |                      |               MIG M. |\n",
      "|===============================+======================+======================|\n",
      "|   0  NVIDIA GeForce ... WDDM  | 00000000:07:00.0  On |                  N/A |\n",
      "|  0%   48C    P8    11W / 166W |    348MiB /  8192MiB |      4%      Default |\n",
      "|                               |                      |                  N/A |\n",
      "+-------------------------------+----------------------+----------------------+\n",
      "                                                                               \n",
      "+-----------------------------------------------------------------------------+\n",
      "| Processes:                                                                  |\n",
      "|  GPU   GI   CI        PID   Type   Process name                  GPU Memory |\n",
      "|        ID   ID                                                   Usage      |\n",
      "|=============================================================================|\n",
      "|    0   N/A  N/A       152    C+G   ...lPanel\\SystemSettings.exe    N/A      |\n",
      "|    0   N/A  N/A      4280    C+G   ...n1h2txyewy\\SearchHost.exe    N/A      |\n",
      "|    0   N/A  N/A      5468    C+G   C:\\Windows\\explorer.exe         N/A      |\n",
      "|    0   N/A  N/A      7272    C+G   ...artMenuExperienceHost.exe    N/A      |\n",
      "|    0   N/A  N/A      7344      C   ...3\\envs\\dml_nlp\\python.exe    N/A      |\n",
      "|    0   N/A  N/A      8600      C   ...3\\envs\\dml_nlp\\python.exe    N/A      |\n",
      "|    0   N/A  N/A      8672    C+G   ...2txyewy\\TextInputHost.exe    N/A      |\n",
      "|    0   N/A  N/A      9376    C+G   ...cw5n1h2txyewy\\LockApp.exe    N/A      |\n",
      "|    0   N/A  N/A     13456    C+G   ...oft\\OneDrive\\OneDrive.exe    N/A      |\n",
      "|    0   N/A  N/A     14176    C+G   ...icrosoft VS Code\\Code.exe    N/A      |\n",
      "|    0   N/A  N/A     15048      C   ...3\\envs\\dml_nlp\\python.exe    N/A      |\n",
      "|    0   N/A  N/A     16308    C+G   ...823.43\\msedgewebview2.exe    N/A      |\n",
      "|    0   N/A  N/A     16316    C+G   ...y\\ShellExperienceHost.exe    N/A      |\n",
      "|    0   N/A  N/A     16404    C+G   ...774.57\\msedgewebview2.exe    N/A      |\n",
      "|    0   N/A  N/A     17024    C+G   ...ge\\Application\\msedge.exe    N/A      |\n",
      "|    0   N/A  N/A     18236    C+G   ...8wekyb3d8bbwe\\GameBar.exe    N/A      |\n",
      "+-----------------------------------------------------------------------------+\n",
      "num cpus: 12\n"
     ]
    }
   ],
   "source": [
    "!nvidia-smi\n",
    "\n",
    "import os\n",
    "print(f\"num cpus: {os.cpu_count()}\")"
   ]
  },
  {
   "cell_type": "code",
   "execution_count": 3,
   "metadata": {},
   "outputs": [],
   "source": [
    "# Clone the git repo and switch to the multilingual-training-refactor branch\n",
    "# NOTE: Once this code is merged, you can just do a normal pip install\n",
    "\n",
    "# !rm -rf /frame-semantic-transformer\n",
    "# !git clone https://github.com/chanind/frame-semantic-transformer.git\n",
    "# !git checkout multilingual-training-refactor"
   ]
  },
  {
   "cell_type": "code",
   "execution_count": 4,
   "metadata": {},
   "outputs": [
    {
     "name": "stdout",
     "output_type": "stream",
     "text": [
      "c:\\Users\\lucyy\\Documents\\ADS_thesis\\toGithub\\Model1\\frame-semantic-transformer\n"
     ]
    }
   ],
   "source": [
    "import sys\n",
    "sys.path.append('./frame-semantic-transformer')\n",
    "%cd ./frame-semantic-transformer"
   ]
  },
  {
   "cell_type": "code",
   "execution_count": 4,
   "metadata": {},
   "outputs": [
    {
     "data": {
      "text/plain": [
       "'4.24.0'"
      ]
     },
     "execution_count": 4,
     "metadata": {},
     "output_type": "execute_result"
    }
   ],
   "source": [
    "# check package version\n",
    "# import transformers\n",
    "# transformers.__version__"
   ]
  },
  {
   "cell_type": "code",
   "execution_count": 3,
   "metadata": {
    "colab": {
     "base_uri": "https://localhost:8080/"
    },
    "id": "ZjEg18L0DGet",
    "outputId": "3f28747c-262b-4af7-e968-00967244280b"
   },
   "outputs": [
    {
     "name": "stderr",
     "output_type": "stream",
     "text": [
      "--2023-02-24 11:15:07--  https://svn.spraakdata.gu.se/sb-arkiv/pub/lmf/swefn/swefn.xml\n",
      "Resolving svn.spraakdata.gu.se (svn.spraakdata.gu.se)... 130.241.135.158\n",
      "Connecting to svn.spraakdata.gu.se (svn.spraakdata.gu.se)|130.241.135.158|:443... connected.\n",
      "HTTP request sent, awaiting response... 200 OK\n",
      "Length: 7342238 (7,0M) [text/xml]\n",
      "Saving to: 'swefn.xml'\n",
      "\n",
      "     0K .......... .......... .......... .......... ..........  0% 1,59M 4s\n",
      "    50K .......... .......... .......... .......... ..........  1% 3,16M 3s\n",
      "   100K .......... .......... .......... .......... ..........  2%  109M 2s\n",
      "   150K .......... .......... .......... .......... ..........  2% 3,27M 2s\n",
      "   200K .......... .......... .......... .......... ..........  3%  121M 2s\n",
      "   250K .......... .......... .......... .......... ..........  4%  113M 1s\n",
      "   300K .......... .......... .......... .......... ..........  4%  118M 1s\n",
      "   350K .......... .......... .......... .......... ..........  5% 96,1M 1s\n",
      "   400K .......... .......... .......... .......... ..........  6% 3,48M 1s\n",
      "   450K .......... .......... .......... .......... ..........  6% 88,1M 1s\n",
      "   500K .......... .......... .......... .......... ..........  7%  105M 1s\n",
      "   550K .......... .......... .......... .......... ..........  8% 98,4M 1s\n",
      "   600K .......... .......... .......... .......... ..........  9%  103M 1s\n",
      "   650K .......... .......... .......... .......... ..........  9%  133M 1s\n",
      "   700K .......... .......... .......... .......... .......... 10%  121M 1s\n",
      "   750K .......... .......... .......... .......... .......... 11% 76,8M 1s\n",
      "   800K .......... .......... .......... .......... .......... 11% 4,07M 1s\n",
      "   850K .......... .......... .......... .......... .......... 12%  101M 1s\n",
      "   900K .......... .......... .......... .......... .......... 13%  102M 1s\n",
      "   950K .......... .......... .......... .......... .......... 13%  104M 1s\n",
      "  1000K .......... .......... .......... .......... .......... 14%  106M 1s\n",
      "  1050K .......... .......... .......... .......... .......... 15%  118M 1s\n",
      "  1100K .......... .......... .......... .......... .......... 16%  114M 0s\n",
      "  1150K .......... .......... .......... .......... .......... 16%  108M 0s\n",
      "  1200K .......... .......... .......... .......... .......... 17% 96,0M 0s\n",
      "  1250K .......... .......... .......... .......... .......... 18%  115M 0s\n",
      "  1300K .......... .......... .......... .......... .......... 18% 4,22M 0s\n",
      "  1350K .......... .......... .......... .......... .......... 19%  105M 0s\n",
      "  1400K .......... .......... .......... .......... .......... 20%  115M 0s\n",
      "  1450K .......... .......... .......... .......... .......... 20%  113M 0s\n",
      "  1500K .......... .......... .......... .......... .......... 21%  106M 0s\n",
      "  1550K .......... .......... .......... .......... .......... 22%  131M 0s\n",
      "  1600K .......... .......... .......... .......... .......... 23% 87,0M 0s\n",
      "  1650K .......... .......... .......... .......... .......... 23%  120M 0s\n",
      "  1700K .......... .......... .......... .......... .......... 24%  102M 0s\n",
      "  1750K .......... .......... .......... .......... .......... 25% 99,3M 0s\n",
      "  1800K .......... .......... .......... .......... .......... 25%  115M 0s\n",
      "  1850K .......... .......... .......... .......... .......... 26%  119M 0s\n",
      "  1900K .......... .......... .......... .......... .......... 27%  111M 0s\n",
      "  1950K .......... .......... .......... .......... .......... 27%  121M 0s\n",
      "  2000K .......... .......... .......... .......... .......... 28% 90,5M 0s\n",
      "  2050K .......... .......... .......... .......... .......... 29%  118M 0s\n",
      "  2100K .......... .......... .......... .......... .......... 29%  121M 0s\n",
      "  2150K .......... .......... .......... .......... .......... 30%  100M 0s\n",
      "  2200K .......... .......... .......... .......... .......... 31% 95,3M 0s\n",
      "  2250K .......... .......... .......... .......... .......... 32%  140M 0s\n",
      "  2300K .......... .......... .......... .......... .......... 32% 6,93M 0s\n",
      "  2350K .......... .......... .......... .......... .......... 33% 93,3M 0s\n",
      "  2400K .......... .......... .......... .......... .......... 34% 80,0M 0s\n",
      "  2450K .......... .......... .......... .......... .......... 34%  113M 0s\n",
      "  2500K .......... .......... .......... .......... .......... 35%  122M 0s\n",
      "  2550K .......... .......... .......... .......... .......... 36%  112M 0s\n",
      "  2600K .......... .......... .......... .......... .......... 36%  106M 0s\n",
      "  2650K .......... .......... .......... .......... .......... 37% 78,8M 0s\n",
      "  2700K .......... .......... .......... .......... .......... 38% 99,8M 0s\n",
      "  2750K .......... .......... .......... .......... .......... 39%  114M 0s\n",
      "  2800K .......... .......... .......... .......... .......... 39% 79,4M 0s\n",
      "  2850K .......... .......... .......... .......... .......... 40%  113M 0s\n",
      "  2900K .......... .......... .......... .......... .......... 41%  116M 0s\n",
      "  2950K .......... .......... .......... .......... .......... 41%  121M 0s\n",
      "  3000K .......... .......... .......... .......... .......... 42%  106M 0s\n",
      "  3050K .......... .......... .......... .......... .......... 43% 36,6M 0s\n",
      "  3100K .......... .......... .......... .......... .......... 43% 92,8M 0s\n",
      "  3150K .......... .......... .......... .......... .......... 44%  111M 0s\n",
      "  3200K .......... .......... .......... .......... .......... 45% 34,2M 0s\n",
      "  3250K .......... .......... .......... .......... .......... 46% 41,5M 0s\n",
      "  3300K .......... .......... .......... .......... .......... 46%  101M 0s\n",
      "  3350K .......... .......... .......... .......... .......... 47% 40,1M 0s\n",
      "  3400K .......... .......... .......... .......... .......... 48% 97,9M 0s\n",
      "  3450K .......... .......... .......... .......... .......... 48% 38,1M 0s\n",
      "  3500K .......... .......... .......... .......... .......... 49% 85,5M 0s\n",
      "  3550K .......... .......... .......... .......... .......... 50%  103M 0s\n",
      "  3600K .......... .......... .......... .......... .......... 50% 18,1M 0s\n",
      "  3650K .......... .......... .......... .......... .......... 51% 21,2M 0s\n",
      "  3700K .......... .......... .......... .......... .......... 52%  109M 0s\n",
      "  3750K .......... .......... .......... .......... .......... 52% 26,8M 0s\n",
      "  3800K .......... .......... .......... .......... .......... 53% 78,9M 0s\n",
      "  3850K .......... .......... .......... .......... .......... 54% 29,6M 0s\n",
      "  3900K .......... .......... .......... .......... .......... 55% 76,7M 0s\n",
      "  3950K .......... .......... .......... .......... .......... 55%  127M 0s\n",
      "  4000K .......... .......... .......... .......... .......... 56% 27,1M 0s\n",
      "  4050K .......... .......... .......... .......... .......... 57% 32,5M 0s\n",
      "  4100K .......... .......... .......... .......... .......... 57%  104M 0s\n",
      "  4150K .......... .......... .......... .......... .......... 58% 26,1M 0s\n",
      "  4200K .......... .......... .......... .......... .......... 59%  114M 0s\n",
      "  4250K .......... .......... .......... .......... .......... 59% 30,9M 0s\n",
      "  4300K .......... .......... .......... .......... .......... 60% 99,0M 0s\n",
      "  4350K .......... .......... .......... .......... .......... 61%  116M 0s\n",
      "  4400K .......... .......... .......... .......... .......... 62% 33,3M 0s\n",
      "  4450K .......... .......... .......... .......... .......... 62% 29,7M 0s\n",
      "  4500K .......... .......... .......... .......... .......... 63% 96,3M 0s\n",
      "  4550K .......... .......... .......... .......... .......... 64% 26,3M 0s\n",
      "  4600K .......... .......... .......... .......... .......... 64% 95,7M 0s\n",
      "  4650K .......... .......... .......... .......... .......... 65% 22,7M 0s\n",
      "  4700K .......... .......... .......... .......... .......... 66%  109M 0s\n",
      "  4750K .......... .......... .......... .......... .......... 66%  116M 0s\n",
      "  4800K .......... .......... .......... .......... .......... 67% 24,1M 0s\n",
      "  4850K .......... .......... .......... .......... .......... 68% 33,7M 0s\n",
      "  4900K .......... .......... .......... .......... .......... 69% 92,6M 0s\n",
      "  4950K .......... .......... .......... .......... .......... 69% 25,6M 0s\n",
      "  5000K .......... .......... .......... .......... .......... 70% 72,2M 0s\n",
      "  5050K .......... .......... .......... .......... .......... 71% 26,9M 0s\n",
      "  5100K .......... .......... .......... .......... .......... 71%  120M 0s\n",
      "  5150K .......... .......... .......... .......... .......... 72%  101M 0s\n",
      "  5200K .......... .......... .......... .......... .......... 73% 26,4M 0s\n",
      "  5250K .......... .......... .......... .......... .......... 73% 30,6M 0s\n",
      "  5300K .......... .......... .......... .......... .......... 74%  117M 0s\n",
      "  5350K .......... .......... .......... .......... .......... 75% 34,2M 0s\n",
      "  5400K .......... .......... .......... .......... .......... 76% 80,5M 0s\n",
      "  5450K .......... .......... .......... .......... .......... 76% 25,9M 0s\n",
      "  5500K .......... .......... .......... .......... .......... 77% 76,7M 0s\n",
      "  5550K .......... .......... .......... .......... .......... 78% 97,3M 0s\n",
      "  5600K .......... .......... .......... .......... .......... 78% 18,7M 0s\n",
      "  5650K .......... .......... .......... .......... .......... 79% 31,1M 0s\n",
      "  5700K .......... .......... .......... .......... .......... 80% 91,2M 0s\n",
      "  5750K .......... .......... .......... .......... .......... 80% 28,6M 0s\n",
      "  5800K .......... .......... .......... .......... .......... 81%  109M 0s\n",
      "  5850K .......... .......... .......... .......... .......... 82% 30,6M 0s\n",
      "  5900K .......... .......... .......... .......... .......... 82%  114M 0s\n",
      "  5950K .......... .......... .......... .......... .......... 83% 99,3M 0s\n",
      "  6000K .......... .......... .......... .......... .......... 84% 25,1M 0s\n",
      "  6050K .......... .......... .......... .......... .......... 85% 30,0M 0s\n",
      "  6100K .......... .......... .......... .......... .......... 85% 78,4M 0s\n",
      "  6150K .......... .......... .......... .......... .......... 86% 42,5M 0s\n",
      "  6200K .......... .......... .......... .......... .......... 87% 71,2M 0s\n",
      "  6250K .......... .......... .......... .......... .......... 87% 31,4M 0s\n",
      "  6300K .......... .......... .......... .......... .......... 88% 66,8M 0s\n",
      "  6350K .......... .......... .......... .......... .......... 89% 84,6M 0s\n",
      "  6400K .......... .......... .......... .......... .......... 89% 32,1M 0s\n",
      "  6450K .......... .......... .......... .......... .......... 90% 26,9M 0s\n",
      "  6500K .......... .......... .......... .......... .......... 91%  102M 0s\n",
      "  6550K .......... .......... .......... .......... .......... 92% 32,4M 0s\n",
      "  6600K .......... .......... .......... .......... .......... 92% 98,8M 0s\n",
      "  6650K .......... .......... .......... .......... .......... 93% 24,4M 0s\n",
      "  6700K .......... .......... .......... .......... .......... 94% 89,2M 0s\n",
      "  6750K .......... .......... .......... .......... .......... 94% 70,6M 0s\n",
      "  6800K .......... .......... .......... .......... .......... 95% 18,5M 0s\n",
      "  6850K .......... .......... .......... .......... .......... 96% 26,4M 0s\n",
      "  6900K .......... .......... .......... .......... .......... 96% 93,1M 0s\n",
      "  6950K .......... .......... .......... .......... .......... 97% 25,9M 0s\n",
      "  7000K .......... .......... .......... .......... .......... 98% 78,5M 0s\n",
      "  7050K .......... .......... .......... .......... .......... 99% 29,8M 0s\n",
      "  7100K .......... .......... .......... .......... .......... 99%  107M 0s\n",
      "  7150K .......... ..........                                 100%  133M=0,2s\n",
      "\n",
      "2023-02-24 11:15:08 (31,3 MB/s) - 'swefn.xml' saved [7342238/7342238]\n",
      "\n"
     ]
    }
   ],
   "source": [
    "# !pip install pytorch_lightning sentencepiece\n",
    "# Download swedish Framenet XML\n",
    "# !wget https://svn.spraakdata.gu.se/sb-arkiv/pub/lmf/swefn/swefn.xml"
   ]
  },
  {
   "cell_type": "code",
   "execution_count": 5,
   "metadata": {
    "id": "tjgvVNf_NzG7"
   },
   "outputs": [],
   "source": [
    "# Implement custom Traning and Inference loaders for the Swedish Framenet data\n",
    "# This is the core step necessary to get FrameSemanticTransformer to work with different languages/framenets\n",
    "\n",
    "import xml.etree.ElementTree as ET\n",
    "import random\n",
    "import re\n",
    "from typing import List\n",
    "from frame_semantic_transformer.data.loaders.loader import TrainingLoader, InferenceLoader\n",
    "from frame_semantic_transformer.data.frame_types import Frame, FrameAnnotatedSentence, FrameAnnotation, FrameElementAnnotation\n",
    "from frame_semantic_transformer.data.augmentations import (\n",
    "    DataAugmentation,\n",
    "    LowercaseAugmentation,\n",
    "    RemoveEndPunctuationAugmentation,\n",
    ")\n",
    "from nltk.stem import SnowballStemmer\n",
    "\n",
    "swedish_stemmer = SnowballStemmer(\"swedish\")\n",
    "\n",
    "\n",
    "def extract_frame(xml_frame) -> Frame:\n",
    "    \"\"\"\n",
    "    Extract a Frame element from the Swedish XML for a frame\n",
    "    \"\"\"\n",
    "    name = xml_frame.attrib[\"id\"].replace('swefn--', '')\n",
    "    core_elms = [\n",
    "        ft.attrib[\"val\"] for ft in xml_frame.findall(\".//feat[@att='coreElement']\")\n",
    "    ]\n",
    "    non_core_elms = [\n",
    "        ft.attrib[\"val\"]\n",
    "        for ft in xml_frame.findall(\".//feat[@att='peripheralElement']\")\n",
    "    ]\n",
    "    lus = [ft.attrib[\"val\"] for ft in xml_frame.findall(\".//feat[@att='LU']\")]\n",
    "    # some examples have triggers outside the listed 'LU', but they are usually registerred as 'suggestionForLU'\n",
    "    lus += [ft.attrib[\"val\"] for ft in xml_frame.findall(\".//feat[@att='suggestionForLU']\")]\n",
    "\n",
    "    return Frame(\n",
    "        name=name,\n",
    "        core_elements=core_elms,\n",
    "        non_core_elements=non_core_elms,\n",
    "        lexical_units=lus,\n",
    "    )\n",
    "\n",
    "\n",
    "def extract_example(example_xml, frame_name) -> FrameAnnotatedSentence:\n",
    "    \"\"\"\n",
    "    Extract an annotated training sentence from a Swedish FrameNet Example XML\n",
    "    NOTE: This isn't ideal since only 1 frame is tagged in each example. This may\n",
    "    cause the Swedish FrameSemanticTransformer to only ever tag 1 frame per sentence.\n",
    "    \"\"\"\n",
    "    nodes_to_extract = [n for n in example_xml]\n",
    "    text = \"\"\n",
    "    trigger_locs = []\n",
    "    frame_elements = []\n",
    "    while len(nodes_to_extract) > 0:\n",
    "        node = nodes_to_extract.pop(0)\n",
    "        # sometimes there's nodes in nodes, compound annotation in SweFN\n",
    "        # in this case, push the children of this node to the front of the queue and keep going\n",
    "        if len(node) > 0:\n",
    "            nodes_to_extract = [n for n in node] + nodes_to_extract\n",
    "        else:\n",
    "            cur_index = len(text)\n",
    "            if not node.text:\n",
    "                continue\n",
    "            node_text = re.sub(r\"\\s+\", ' ', node.text)\n",
    "            if node.attrib.get(\"name\") == \"LU\":\n",
    "                trigger_locs.append(cur_index)\n",
    "            elif \"name\" in node.attrib:\n",
    "                frame_elements.append(\n",
    "                    FrameElementAnnotation(\n",
    "                        name=node.attrib[\"name\"],\n",
    "                        start_loc=cur_index,\n",
    "                        end_loc=cur_index + len(node_text),\n",
    "                    )\n",
    "                )\n",
    "            text += node_text + \" \"\n",
    "    text = text.strip()\n",
    "    return FrameAnnotatedSentence(\n",
    "        text=text,\n",
    "        annotations=[\n",
    "            FrameAnnotation(\n",
    "                frame=frame_name,\n",
    "                trigger_locs=trigger_locs,\n",
    "                frame_elements=frame_elements,\n",
    "            )\n",
    "        ],\n",
    "    )\n",
    "\n",
    "\n",
    "class SwedishTrainingLoader(TrainingLoader):\n",
    "    \"\"\"\n",
    "    Training Loader for Swedish\n",
    "    This class tells FrameSemanticTransformer how to load the Swedish FrameNet training data\n",
    "    \"\"\"\n",
    "    train_sentences: List[FrameAnnotatedSentence]\n",
    "    test_sentences: List[FrameAnnotatedSentence]\n",
    "    val_sentences: List[FrameAnnotatedSentence]\n",
    "\n",
    "\n",
    "    def __init__(self, swedish_framenet_xml_file, test_portion=0.1, val_portion=0.1, seed=42):\n",
    "        # parse annotated sentences from XML\n",
    "        annotated_sentences = []\n",
    "        tree = ET.parse(swedish_framenet_xml_file)\n",
    "        root = tree.getroot()\n",
    "        for xml_frame in root.findall(\".//Sense\"):\n",
    "            frame = extract_frame(xml_frame)\n",
    "            for child in xml_frame:\n",
    "                if 'example' in child.tag:\n",
    "                    annotated_sentences.append(extract_example(child, frame.name))\n",
    "        # split into train/test/val \n",
    "        random.Random(seed).shuffle(annotated_sentences)\n",
    "        num_test = int(test_portion * len(annotated_sentences))\n",
    "        num_val = int(val_portion * len(annotated_sentences))\n",
    "\n",
    "        self.test_sentences = annotated_sentences[0:num_test]\n",
    "        self.val_sentences = annotated_sentences[num_test:num_test + num_val]\n",
    "        self.train_sentences = annotated_sentences[num_test + num_val:]\n",
    "    \n",
    "    def load_training_data(self):\n",
    "        return self.train_sentences\n",
    "    \n",
    "    def load_validation_data(self):\n",
    "        return self.val_sentences\n",
    "    \n",
    "    def load_test_data(self):\n",
    "        return self.test_sentences\n",
    "    \n",
    "    def get_augmentations(self) -> List[DataAugmentation]:\n",
    "        \"\"\"\n",
    "        These augmentations try to increase the training data by making safe tweaks to the text\n",
    "        For instance, removing the punctuation at the end, or lowercasing the whole sentence\n",
    "        \"\"\"\n",
    "        return [\n",
    "            RemoveEndPunctuationAugmentation(0.3),\n",
    "            LowercaseAugmentation(0.2),\n",
    "        ]\n",
    "\n",
    "\n",
    "class SwedishInferenceLoader(InferenceLoader):\n",
    "    \"\"\"\n",
    "    Inference loader for Swedish\n",
    "    This class tells FrameSemanticTransformer which frames and LUs are available during inference\n",
    "    \"\"\"\n",
    "\n",
    "    frames: List[Frame]\n",
    "\n",
    "    def __init__(self, swedish_framenet_xml_file, test_portion=0.1, val_portion=0.1, seed=42):\n",
    "        # parse annotated sentences from XML\n",
    "        self.frames = []\n",
    "        tree = ET.parse(swedish_framenet_xml_file)\n",
    "        root = tree.getroot()\n",
    "        for xml_frame in root.findall(\".//Sense\"):\n",
    "            frame = extract_frame(xml_frame)\n",
    "            self.frames.append(frame)\n",
    "\n",
    "    def load_frames(self):\n",
    "        return self.frames\n",
    "    \n",
    "    def normalize_lexical_unit_text(self, lu):\n",
    "        \"\"\"\n",
    "        This method normalizes lexical unit text for Swedish during inference\n",
    "        Lexical Units help give hints to the model about what frames are likely \n",
    "        \"\"\"\n",
    "        normalized_lu = lu.lower()\n",
    "        normalized_lu = re.sub(r\"\\..+$\", \"\", normalized_lu)\n",
    "        normalized_lu = re.sub(r\"[^a-ö ]\", \" \", normalized_lu)\n",
    "        # stemming on each word of a LU\n",
    "        ##### try 1\n",
    "        # lu_new = ''\n",
    "        # for i in normalized_lu.split():\n",
    "        #    lu_new += swedish_stemmer.stem(i) + \" \"\n",
    "\n",
    "        # return lu_new.strip()\n",
    "    \n",
    "        ##### try 2\n",
    "        return \"_\".join([swedish_stemmer.stem(word) for word in normalized_lu.split()])"
   ]
  },
  {
   "attachments": {},
   "cell_type": "markdown",
   "metadata": {},
   "source": [
    "<<<<<<<<<  Below part: no need to rerun  >>>>>>>>>"
   ]
  },
  {
   "cell_type": "code",
   "execution_count": 5,
   "metadata": {},
   "outputs": [
    {
     "name": "stdout",
     "output_type": "stream",
     "text": [
      "number_frames: 1195\n"
     ]
    }
   ],
   "source": [
    "# Using ElementTree for parsing XML data\n",
    "import xml.etree.ElementTree as ET\n",
    "tree_ = ET.parse('./swefn.xml')\n",
    "root_ = tree_.getroot()\n",
    "# Abstract all semantic frames in XML format\n",
    "frames = root_.findall(\".//Sense\")\n",
    "\n",
    "print(f'number_frames: {len(frames)}')"
   ]
  },
  {
   "cell_type": "code",
   "execution_count": 6,
   "metadata": {},
   "outputs": [
    {
     "name": "stdout",
     "output_type": "stream",
     "text": [
      "Absorb_heat\n",
      "['Container', 'Entity', 'Heat_source']\n",
      "['Cause', 'Circumstances', 'Depictive', 'Duration', 'Manner', 'Medium', 'Place', 'Purpose', 'Result', 'Temperature', 'Time']\n",
      "['puttra..1', 'torrkoka..1', 'koka..4', 'sjuda..1', 'småputtra..1', 'puttrande..1', 'torrkokande..1', 'sjudande..1', 'sjudning..1', 'småkoka..N..2', 'steka..N..3', 'bräsera..N..2', 'fräsa..N..4', 'grädda..N..3', 'småsjuda..N..1', 'koka_sig..N..1', 'koka_upp..N..2', 'bryna..N..4']\n"
     ]
    }
   ],
   "source": [
    "# Show one frame with its extracted FEs and LUs as an example\n",
    "frame_ = extract_frame(frames[628])\n",
    "print(frame_.name)\n",
    "print(frame_.core_elements)\n",
    "print(frame_.non_core_elements)\n",
    "print(frame_.lexical_units)"
   ]
  },
  {
   "cell_type": "code",
   "execution_count": 7,
   "metadata": {},
   "outputs": [
    {
     "name": "stdout",
     "output_type": "stream",
     "text": [
      "Example training samples from the Swedish training loader\n",
      "Sample 0\n",
      "Task: frame_classification\n",
      "Input: FRAME Convey_importance Spelling_and_pronouncing : Oaktat att publikationen, framförallt genom dess danska forskarbidrag, * accentuerar Östersjöns södra operationsområde, bryter också Ålands topografiska relief fram i horisontlinjen.\n",
      "Target: Convey_importance\n",
      "\n",
      "Sample 1\n",
      "Task: args_extraction\n",
      "Input: ARGS Convey_importance | Medium Message Speaker Addressee Circumstances Degree Event_description Frequency Iteration Manner Means Particular_iteration Period_of_iterations Place Time Period of iterations Particular Iteration : Oaktat att publikationen, framförallt genom dess danska forskarbidrag, * accentuerar Östersjöns södra operationsområde, bryter också Ålands topografiska relief fram i horisontlinjen.\n",
      "Target: Medium = publikationen | Means = framförallt genom dess danska forskarbidrag | Message = Östersjöns södra operationsområde\n",
      "\n",
      "Sample 2\n",
      "Task: trigger_identification\n",
      "Input: TRIGGER: Oaktat att publikationen , framförallt genom dess danska forskarbidrag , accentuerar Östersjöns södra operationsområde , bryter också Ålands topografiska relief fram i horisontlinjen.\n",
      "Target: Oaktat att publikationen, framförallt genom dess danska forskarbidrag, * accentuerar Östersjöns södra operationsområde, bryter också Ålands topografiska relief fram i horisontlinjen.\n",
      "\n",
      "Sample 3\n",
      "Task: frame_classification\n",
      "Input: FRAME Bragging : En förmiddag, när hon skulle * bravera med sin konst, stördes hon av Rosa, en fundamentalist.\n",
      "Target: Bragging\n",
      "\n",
      "Sample 4\n",
      "Task: args_extraction\n",
      "Input: ARGS Bragging | Expressor Medium Message Speaker Topic Addressee Degree Depictive Internal_cause Manner Means Occasion Particular_iteration Place Reason Role Time : En förmiddag, när hon skulle * bravera med sin konst, stördes hon av Rosa, en fundamentalist.\n",
      "Target: Time = En förmiddag, när | Speaker = hon | Topic = med sin konst\n",
      "\n"
     ]
    }
   ],
   "source": [
    "# This panel is just for debugging to see what's being sent to T5 as training samples from our new Swedish loaders\n",
    "\n",
    "from frame_semantic_transformer.data.LoaderDataCache import LoaderDataCache\n",
    "from frame_semantic_transformer.data.tasks_from_annotated_sentences import (\n",
    "    tasks_from_annotated_sentences,\n",
    ")\n",
    "tl = SwedishTrainingLoader('./swefn.xml')\n",
    "il = SwedishInferenceLoader('./swefn.xml')\n",
    "lc = LoaderDataCache(il)\n",
    "\n",
    "samples = tasks_from_annotated_sentences(tl.load_training_data(), lc)\n",
    "\n",
    "print(\"Example training samples from the Swedish training loader\")\n",
    "for i, s in enumerate(samples[0:5]):\n",
    "    print(f\"Sample {i}\")\n",
    "    print(f\"Task: {s.get_task_name()}\")\n",
    "    print(f\"Input: {s.get_input()}\")\n",
    "    print(f\"Target: {s.get_target()}\")\n",
    "    print(\"\")\n"
   ]
  },
  {
   "attachments": {},
   "cell_type": "markdown",
   "metadata": {},
   "source": [
    "#### Check unbalance factor per task-type in the train set"
   ]
  },
  {
   "cell_type": "code",
   "execution_count": 8,
   "metadata": {},
   "outputs": [
    {
     "name": "stdout",
     "output_type": "stream",
     "text": [
      "defaultdict(<class 'int'>, {'frame_classification': 7648, 'args_extraction': 7648, 'trigger_identification': 7225})\n",
      "7648\n",
      "defaultdict(<class 'int'>, {'frame_classification': 1, 'args_extraction': 1, 'trigger_identification': 1})\n"
     ]
    }
   ],
   "source": [
    "from collections import defaultdict\n",
    "\n",
    "tl = SwedishTrainingLoader('./swefn.xml')\n",
    "il = SwedishInferenceLoader('./swefn.xml')\n",
    "lc = LoaderDataCache(il)\n",
    "\n",
    "samples = tasks_from_annotated_sentences(tl.load_training_data(), lc)\n",
    "\n",
    "counts_by_type: dict[str, int] = defaultdict(int)\n",
    "\n",
    "for s in samples:\n",
    "    counts_by_type[s.get_task_name()] +=1\n",
    "print(counts_by_type)\n",
    "\n",
    "max_task_count = max(counts_by_type.values())\n",
    "print(max_task_count)\n",
    "\n",
    "max_duplication_factor = 2\n",
    "duplication_by_type: dict[str, int] = defaultdict(int)\n",
    "\n",
    "for key in counts_by_type.keys():\n",
    "    duplication_by_type[key] =  min(max_duplication_factor, int(max_task_count/counts_by_type[key]))\n",
    "\n",
    "print(duplication_by_type)"
   ]
  },
  {
   "attachments": {},
   "cell_type": "markdown",
   "metadata": {},
   "source": [
    "#### Check # Frames in the train set ===> for Frame CL"
   ]
  },
  {
   "cell_type": "code",
   "execution_count": 100,
   "metadata": {},
   "outputs": [
    {
     "name": "stdout",
     "output_type": "stream",
     "text": [
      "defaultdict(<class 'int'>, {'Convey_importance': 6, 'Bragging': 13, 'Roadways': 9, 'Placing': 27, 'Arriving': 11, 'Prominence': 10, 'Communication': 13, 'Win_prize': 3, 'Emptying': 56, 'Conditional_occurrence': 3, 'Intentionally_create': 12, 'Within_distance': 2, 'Cause_to_be_wet': 11, 'Gesture': 9, 'Foreign_influence': 16, 'Set_of_interrelated_entities': 4, 'Grammatical_relations': 10, 'Part_inner_outer': 27, 'Discussion': 4, 'Suitability': 2, 'Self_motion': 45, 'Expected_location_of_person': 5, 'Suasion': 6, 'Closure': 26, 'Rate_quantification': 2, 'Part_ordered_segments': 25, 'Ranked_expectation': 17, 'Reveal_secret': 17, 'Cause_to_be_dry': 13, 'Communication_manner': 16, 'Law_enforcement_agency': 4, 'Subjective_influence': 8, 'Drop_in_on': 6, 'Clarity_of_resolution': 5, 'Manipulation': 11, 'Agriculture': 6, 'Administration_of_medication_specification': 12, 'Telling': 11, 'Make_noise': 51, 'Renting': 4, 'Precipitation': 10, 'Being_named': 9, 'Gusto': 6, 'Omen': 26, 'Judgement_of_intensity': 8, 'Giving_in': 9, 'Point_of_dispute': 26, 'Historic_event': 19, 'Locale_by_ownership': 6, 'Means': 8, 'Installing': 12, 'Resurrection': 4, 'Activity_ready_state': 6, 'Grooming': 46, 'Setting_out': 5, 'Downing': 9, 'Precariousness': 3, 'Commutative_statement': 6, 'Ingestion': 38, 'Fame': 8, 'Simultaneity': 28, 'Attitude_description': 8, 'Being_active': 6, 'Being_in_operation': 4, 'Redirecting': 15, 'People_along_political_spectrum': 5, 'Intercepting': 8, 'Color_qualities': 7, 'Contrary_circumstances': 12, 'Evading': 5, 'Alternatives': 7, 'Finish_game': 4, 'Getting_vehicle_underway': 4, 'Manipulate_into_doing': 6, 'Agree_or_refuse_to_act': 1, 'Detaining': 3, 'Using_resource': 10, 'Food': 18, 'Cause_to_rot': 4, 'Cause_bodily_experience': 11, 'Commerce_pay': 10, 'Be_subset_of': 2, 'Medical_interaction_scenario': 3, 'Disgraceful_situation': 5, 'Being_obligated': 10, 'Grasp': 11, 'Bringing': 10, 'Memorization': 8, 'Communication_means': 17, 'Earnings_and_losses': 12, 'Partitive': 18, 'Attention': 4, 'Sufficiency': 15, 'Change_direction': 15, 'Labeling': 13, 'Causation': 27, 'Make_compromise': 7, 'Recovery': 13, 'Being_rotted': 4, 'Relational_political_locales': 25, 'Misdeed': 5, 'Erasing': 6, 'Temporary_leave': 5, 'Bond_maturation': 6, 'Filling': 28, 'Praiseworthiness': 24, 'Endangering': 6, 'Cause_to_end': 6, 'Avoiding': 6, 'Regard': 8, 'Change_accessibility': 7, 'Estimated_value': 7, 'Breathing': 8, 'Social_event': 16, 'Hiding_objects': 10, 'Building': 21, 'Part_whole': 22, 'Objective_influence': 7, 'Infrastructure': 10, 'Affirm_or_deny': 9, 'Measure_area': 4, 'Range': 12, 'Entity_specific_change_of_state': 7, 'Awareness': 15, 'People': 8, 'Manufacturing': 7, 'Forgoing': 4, 'Commonality': 7, 'Locating_in_time': 6, 'Position_on_a_scale': 8, 'Taking_sides': 5, 'Create_representation': 33, 'Activity_ongoing': 7, 'Emotions_of_mental_activity': 10, 'Locale_by_use': 11, 'Scrutiny': 20, 'Sidereal_appearance': 13, 'Encoding': 8, 'Indicating': 7, 'Become_silent': 6, 'Hindering': 7, 'Removing': 34, 'Law': 1, 'Overcoming_misunderstandings': 5, 'Communication_noise': 9, 'Cause_motion': 28, 'Artifact_tool': 4, 'Terrorism': 3, 'Cause_to_make_noise': 12, 'Contingency': 6, 'Ammunition': 5, 'Respond_to_proposal': 13, 'Physiological_processes': 7, 'Perception_experience': 13, 'Assessing': 14, 'Committing_crime': 2, 'Burying': 9, 'Competition': 11, 'Creating': 20, 'Predicting': 21, 'Traversing': 10, 'Daring': 3, 'Imitating': 3, 'Attributed_information': 5, 'Posing_as': 13, 'Satisfying': 10, 'Delimitation_of_diversity': 2, 'Offering': 9, 'Providing_food': 12, 'Transportation_status': 3, 'Becoming_visible': 6, 'Getting_up': 6, 'Rashness': 12, 'Adjusting': 13, 'Publishing': 4, 'Request': 19, 'Surviving': 4, 'Halt': 3, 'Sharpness': 4, 'Waver_between_options': 5, 'Activity_finish': 4, 'Desirability': 15, 'Body_movement': 20, 'Locative_relation': 17, 'People_by_jurisdiction': 3, 'Expansion_mod': 10, 'Buildings': 5, 'Cause_change_of_consistency': 6, 'Becoming_aware': 7, 'Heat_potential': 5, 'Soaking_up': 8, 'Activity_start': 15, 'Departing': 11, 'Medical_treatment': 42, 'Get_a_job': 7, 'Documents': 5, 'Importance': 16, 'Morality_evaluation': 13, 'Coincidence': 12, 'Process_stop': 1, 'Categorization': 6, 'Amalgamation': 11, 'Event': 9, 'Touring': 2, 'Change_position_on_a_scale_decrease': 4, 'Predicament': 15, 'Architectural_part': 9, 'Emotions_by_stimulus': 7, 'Repayment': 4, 'Renunciation': 16, 'Death': 15, 'Delivery': 5, 'Expressing_publicly': 12, 'Leaving_traces': 7, 'Breaking_apart': 9, 'Create_physical_artwork': 11, 'Achieving_first': 6, 'Eclipse': 8, 'Capacity': 6, 'Social_connection': 4, 'Information_display': 5, 'Have_associated': 3, 'Front_for': 7, 'Distinctiveness': 3, 'People_by_morality_positive': 5, 'Others_situation_as_stimulus': 31, 'Education_teaching': 14, 'Quantified_mass': 19, 'Motion_directional': 6, 'Possibility': 3, 'Assistance': 25, 'Chatting': 7, 'Ride_vehicle': 12, 'Sex': 12, 'Required_event': 6, 'Punctual_perception': 14, 'Cure_mod': 4, 'Feeling': 7, 'Cause_temperature_change': 10, 'Aesthetics': 12, 'Go_into_shape': 14, 'Judgment': 7, 'Artistic_style': 4, 'Differentiation': 7, 'Out_of_existence': 16, 'Being_up_to_it': 7, 'Exporting': 7, 'Execution': 4, 'Motion': 13, 'Being_employed': 11, 'Expertise_negative': 6, 'Take_place_of': 10, 'Gathering_up': 14, 'Cause_change_of_position_on_a_scale_decrease': 6, 'Correctness': 12, 'Artifact_sport_and_leisure': 6, 'Giving_birth': 10, 'Surpassing': 4, 'Besieging': 9, 'Adopt_selection': 8, 'Tolerating': 8, 'Cause_harm': 16, 'Change_of_consistency': 6, 'Nuclear_process': 6, 'Military': 11, 'Abounding_with': 7, 'Falling_ill': 8, 'Preserving': 18, 'Practice': 32, 'Attempt_means': 4, 'Accoutrements': 22, 'Being_relevant': 6, 'Ingest_substance': 17, 'Going_back_on_a_commitment': 4, 'Success_or_failure': 17, 'Perception_active': 21, 'Temporary_stay': 9, 'Aggregate': 4, 'Bearing_arms': 7, 'Change_posture': 9, 'Contrition': 9, 'Compensating': 15, 'Stage_of_progress': 12, 'Containment_relation': 11, 'Impression': 5, 'Imposing_obligation': 4, 'Emotion_heat': 6, 'Commerce_buy': 12, 'Successful_action': 8, 'Arranging': 6, 'Location_of_light': 20, 'Substance': 15, 'Reforming_a_system': 10, 'Permitting': 21, 'Behind_the_scenes': 9, 'Pardon': 15, 'Familiarity': 7, 'Measurable_attributes': 10, 'Conquering': 7, 'Grant_permission': 6, 'Statement': 14, 'Scouring': 4, 'Trying_out': 7, 'Cause_change': 12, 'Craft': 3, 'Rebellion': 2, 'Have_as_requirement': 7, 'Cause_to_perceive': 7, 'Beyond_compare': 10, 'Time_vector': 6, 'Cause_impact': 10, 'Emotion_directed': 8, 'Ceasing_to_be': 9, 'Authority': 7, 'Sign': 6, 'Impact': 18, 'Provide_lodging': 18, 'Experiencer_obj': 34, 'Stimulus_focus_positive': 9, 'Meet_specifications': 11, 'Beat_opponent': 9, 'Setting_fire': 6, 'Give_impression': 15, 'Attempt': 10, 'Waking_up': 6, 'Frequency': 13, 'Family_name': 3, 'Wagering': 5, 'Cotheme': 11, 'Adding_up': 5, 'Probability': 8, 'Forming_relationships': 12, 'Expertise_positive': 12, 'Emanating': 14, 'Expensiveness': 12, 'Prank': 2, 'Measure_by_action': 7, 'Degree_of_processing': 5, 'Similarity': 7, 'Fall_asleep': 13, 'Abundance': 6, 'History': 9, 'Killing': 10, 'Preliminaries': 12, 'Activity_stop': 18, 'Becoming_dry': 5, 'Cause_emotion': 2, 'Colonization': 5, 'Losing_track_of_perceiver': 5, 'Immobilization': 5, 'Shapes': 4, 'Assemble': 6, 'Social_event_individuals': 3, 'Using': 9, 'Residence': 3, 'Physical_artworks': 5, 'Excreting': 25, 'Subjective_temperature': 2, 'Becoming_attached': 5, 'Collaboration': 10, 'Dying': 11, 'Treating_and_mistreating': 11, 'Board_vehicle': 1, 'Memory': 15, 'Speed_description': 9, 'Inclusion': 9, 'Openness': 10, 'Reading': 14, 'Pattern': 5, 'Occupy_rank': 2, 'Strictness': 3, 'Evaluative_comparison': 7, 'Catastrophe': 5, 'Cause_to_make_progress': 11, 'Cause_to_fragment': 7, 'Passing': 16, 'Degree': 14, 'Biological_classification': 11, 'Cause_to_continue': 8, 'Linguistic_meaning': 5, 'Control': 7, 'Plants': 6, 'Seeking_to_achieve': 6, 'Establish_a_basis_for': 6, 'Contraction': 6, 'Sounds': 7, 'Capability': 7, 'Cutting': 39, 'Part_piece': 1, 'Furniture': 5, 'Abandonment': 5, 'Labor_product': 8, 'People_by_age': 5, 'Project': 11, 'Race_descriptor': 31, 'Obviousness': 5, 'Processing_materials': 26, 'Remembering_information': 8, 'Fighting_activity': 6, 'Completeness': 7, 'Reassuring': 7, 'Artifact': 1, 'Change_of_phase': 15, 'Text_creation': 14, 'Path_traveled': 24, 'Emitting': 4, 'Reporting': 12, 'Inclination': 4, 'Run_risk': 4, 'Influencing_potential': 7, 'Adducing': 3, 'Firing': 24, 'Word_relations': 12, 'Change_of_temperature': 7, 'Sole_instance': 2, 'Experience_bodily_harm': 4, 'Posture': 12, 'Reading_aloud': 6, 'Sending': 10, 'Rite': 13, 'Manner': 5, 'Vehicle': 8, 'Economy': 10, 'Finish_competition': 9, 'Attack': 13, 'Frugality': 12, 'Containers': 3, 'Fugitive': 7, 'Car_brands': 4, 'Physiological_systems': 5, 'Have_as_translation_equivalent': 7, 'Make_cognitive_connection': 5, 'Activity_in_progress': 6, 'Duplication': 8, 'Existence': 3, 'Diversity': 3, 'Absorb_heat': 11, 'Function': 17, 'Destroying': 10, 'Activity_resume': 4, 'Experimentation': 8, 'Information': 6, 'Attaching': 12, 'Addiction': 14, 'Prevent_from_having': 8, 'Conduct': 4, 'Surrendering_possession': 2, 'Reference_text': 4, 'Level_of_light': 9, 'Elusive_goal': 2, 'Exercising': 16, 'Usefulness': 6, 'Duration_description': 7, 'Inspecting': 11, 'Protecting': 14, 'Translating': 9, 'Recording': 7, 'Willingness': 5, 'Manner_of_life': 12, 'Toxic_substance': 4, 'Encounter': 4, 'Measure_duration': 5, 'Vehicle_landing': 5, 'Communication_response': 10, 'Experiencer_focus': 8, 'Entity_specific_modes_of_being': 15, 'Proper_reference': 9, 'Dominate_competitor': 5, 'Appellations': 3, 'Personal_relationship': 11, 'Entity': 2, 'Growing_food': 6, 'Unemployment_rate': 5, 'Moving_in_place': 11, 'Being_obligatory': 2, 'Corporal_punishment': 4, 'Health_status': 7, 'Dead_or_alive': 11, 'Spelling_and_pronouncing': 7, 'Cause_proliferation_in_number': 7, 'Purpose': 7, 'Activity_prepare': 11, 'Warning': 5, 'Getting_underway': 6, 'Vehicle_subpart': 5, 'Medium': 11, 'Perception_body': 7, 'Biological_mechanisms': 8, 'Reshaping': 16, 'Lively_place': 10, 'Topic': 8, 'Body_description_holistic': 11, 'Improvised_explosive_device': 7, 'Replacing': 3, 'Breaking_out_captive': 4, 'Secrecy_status': 7, 'Medical_disorders': 12, 'Forgiveness': 9, 'Rape': 4, 'Political_actions': 5, 'Trial': 4, 'Trendiness': 7, 'Desirable_event': 5, 'Compliance': 6, 'Explaining_the_facts': 3, 'Cognitive_impact': 2, 'Social_care_scenario': 13, 'Path_shape': 15, 'Rest': 3, 'Vocalizations': 4, 'Countries': 6, 'Commerce_sell': 13, 'Stinginess': 6, 'Temporal_pattern': 6, 'Dominate_situation': 8, 'Being_attached': 4, 'Natural_features': 5, 'Undergoing': 2, 'Connectors': 10, 'Examination': 5, 'State_continue': 8, 'Time_period_of_action': 3, 'Travel': 8, 'Cognitive_connection': 8, 'Sound_movement': 3, 'Administration_of_medication_conveyance': 9, 'Social_event_collective': 2, 'Duration_relation': 5, 'Legality': 4, 'Sleep': 7, 'Meet_with_response': 13, 'Inner_parts_of_body': 5, 'Circumscribed_existence': 11, 'Presence': 13, 'Cause_to_start': 5, 'Become_triggered': 5, 'Suicide_attack': 9, 'Desiring': 8, 'Weapon': 3, 'Attention_getting': 18, 'Money': 6, 'Connecting_architecture': 1, 'Fluidic_motion': 11, 'Just_found_out': 9, 'Artifact_subpart': 10, 'Relational_quantity': 19, 'Dressing': 9, 'Cause_change_of_strength': 5, 'Institutionalization': 3, 'Mining': 3, 'Importing': 5, 'Religious_belief': 4, 'Fields': 7, 'Plant_subpart': 4, 'Come_together': 10, 'Research': 4, 'Hospitality': 9, 'Confronting_problem': 7, 'Extreme_point': 12, 'Scarcity': 9, 'Compatibility': 8, 'Cause_to_be_included': 10, 'Change_tool': 6, 'Separating': 9, 'Substance_by_phase': 6, 'Cardinal_numbers': 4, 'Passing_off': 11, 'Instance': 9, 'Rewards_and_punishments': 2, 'Possession': 6, 'Response': 4, 'Shoot_projectiles': 8, 'Remembering_experience': 16, 'Inhibit_movement': 4, 'Concessive': 5, 'Sacrificing_for': 5, 'Vehicle_departure_initial_stage': 3, 'Expectation': 7, 'Coming_to_be': 3, 'Notification_of_charges': 10, 'Progress': 4, 'Remainder': 9, 'Justifying': 5, 'Withdraw_from_participation': 1, 'Being_operational': 7, 'Cause_change_of_phase': 11, 'Questioning': 12, 'Trust': 5, 'Exertive_force': 10, 'Preventing': 11, 'Speak_on_topic': 6, 'Estimating': 7, 'Feigning': 9, 'Deny_permission': 4, 'Thriving': 2, 'Text': 5, 'Having_or_lacking_access': 7, 'Likelihood': 5, 'Interrupt_process': 8, 'Claim_ownership': 10, 'Revolution': 4, 'Commerce_collect': 6, 'Direction': 9, 'Employing': 6, 'Studying': 7, 'Evoking': 3, 'Becoming_detached': 3, 'Quitting': 5, 'Judgment_communication': 4, 'Motion_noise': 6, 'Extradition': 4, 'Individual_history': 8, 'Fleeing': 3, 'Detaching': 8, 'Hunting_success_or_failure': 5, 'Submitting_documents': 3, 'Cooking_creation': 11, 'Needing': 9, 'Intentional_traversing': 2, 'Origin': 2, 'Commitment': 10, 'Repel': 4, 'Boundary': 8, 'Appointing': 4, 'Emotion_active': 3, 'Intoxication': 10, 'Arrest': 4, 'Friction': 6, 'Visiting': 7, 'Luck': 4, 'Sensation': 16, 'Store': 3, 'Attempt_suasion': 10, 'Undergo_change': 3, 'Proliferating_in_number': 27, 'Facial_expression': 3, 'Convoy': 7, 'Becoming_a_member': 4, 'Cause_to_resume': 6, 'Irregular_combatants': 6, 'Knot_creation': 2, 'Cause_fluidic_motion': 5, 'Extreme_value': 4, 'Ineffability': 7, 'Chemical-sense_description': 18, 'Containing': 3, 'People_by_morality_negative': 8, 'Verdict': 3, 'Planting': 8, 'Coming_up_with': 9, 'Abusing': 9, 'Clothing_parts': 4, 'Taking_time': 10, 'Subordinates_and_superiors': 8, 'Subversion': 3, 'Judgment_direct_address': 9, 'Building_subparts': 3, 'Sequence': 3, 'Goal': 5, 'Infecting': 8, 'Color': 7, 'Being_necessary': 2, 'Reasoning': 8, 'Clothing': 16, 'Idiosyncrasy': 7, 'Geographical_area': 3, 'Forging': 4, 'Supply': 8, 'Appeal': 4, 'Execute_plan': 8, 'Activity_done_state': 2, 'Complaining': 10, 'Fall_for': 1, 'Apply_heat': 26, 'Relative_time': 9, 'Notability': 2, 'Undressing': 6, 'Relation': 4, 'Supporting': 6, 'Agentive_preventing': 6, 'Criminal_investigation': 4, 'Request_entity': 6, 'Taking_captive': 2, 'Actually_occurring_entity': 2, 'Cause_change_of_position_on_a_scale_increase': 14, 'Dimension': 12, 'Use_firearm': 2, 'Being_in_effect': 8, 'Change_event_time': 9, 'Exclude_member': 3, 'Hit_target': 4, 'Terms_of_agreement': 3, 'Losing': 5, 'Destiny': 7, 'Change_event_duration': 2, 'Source_of_getting': 6, 'Being_questionable': 1, 'Entering_of_plea': 6, 'Be_on_alert': 6, 'Difficulty': 10, 'Unattributed_information': 11, 'Negative_conditional': 4, 'Change_of_leadership': 6, 'Mental_activity': 4, 'Locating': 6, 'Indigenous_origin': 2, 'Part_orientational': 8, 'Be_in_control': 9, 'Biological_area': 5, 'Process_end': 10, 'Temporal_subregion': 4, 'Rotting': 2, 'Releasing': 5, 'Atonement': 3, 'Smuggling': 10, 'People_by_residence': 6, 'Grinding': 5, 'Suspicion': 7, 'Cause_to_move_in_place': 5, 'Cause_contraction': 9, 'Stimulus_focus_negative': 3, 'Left_to_do': 5, 'Dunking': 5, 'Dispersal': 5, 'Relating_concepts': 13, 'Rejuvenation': 5, 'Remembering_to_do': 3, 'Deserving': 3, 'Ground_up': 4, 'Cause_to_amalgamate': 7, 'Quarreling': 4, 'Leadership': 11, 'Seeking': 1, 'Cache': 3, 'Organization': 2, 'Kinship': 4, 'Ruling_legally': 2, 'Being_located': 5, 'Hit_or_miss': 3, 'Detonate_explosive': 3, 'Emotions_success_or_failure': 5, 'Getting': 5, 'Summarizing': 5, 'Thermodynamic_phase': 3, 'Want_suspect': 2, 'Be_in_agreement_on_action': 4, 'Offenses': 9, 'Change_position_on_a_scale_increase': 4, 'Guest_and_host': 5, 'Aiming': 5, 'Active_substance_mod': 3, 'Cause_expansion_mod': 8, 'Violence': 3, 'Body_description_part': 5, 'Becoming': 3, 'Fining': 3, 'Choosing': 11, 'Expend_resource': 6, 'Mass_motion': 14, 'Giving': 10, 'Heralding': 7, 'Cogitation': 10, 'Eventive_affecting': 5, 'Event_instance': 2, 'Defending': 4, 'Body_mark': 9, 'Carry_goods': 9, 'Volubility': 7, 'Performers_and_roles': 5, 'Fastener': 6, 'Obscurity': 4, 'Cause_to_be_sharp': 2, 'Be_translation_equivalent': 6, 'Change_operational_state': 7, 'Temporal_collocation': 1, 'Making_faces': 5, 'Hostile_encounter': 5, 'Enforcing': 3, 'Locale': 7, 'Imprisonment': 3, 'Being_awake': 6, 'Risky_situation': 5, 'Wealthiness': 4, 'Preference': 10, 'Dough_rising': 6, 'First_experience': 4, 'Be_in_agreement_on_assessment': 10, 'Tool_purpose': 2, 'Network': 5, 'Timespan': 5, 'Observable_body_parts': 5, 'Process_continue': 6, 'Activity_pause': 4, 'Prohibiting': 6, 'Work': 9, 'Reliance_on_expectation': 3, 'Sentencing': 6, 'Namesake': 2, 'Public_services': 18, 'Being_in_captivity': 6, 'Membership': 3, 'Representing': 2, 'Attending': 8, 'Cause_change_of_position_on_a_scale_fluctuation': 6, 'Foreign_or_domestic_country': 3, 'Human_settlements': 6, 'Scope': 3, 'Amassing': 8, 'Piracy': 5, 'Business_Closure': 2, 'Artificiality': 7, 'Isolated_places': 2, 'Accuracy': 5, 'Communicate_categorization': 3, 'Theft': 3, 'Hear': 5, 'Referring_by_name': 1, 'Given_name': 9, 'Lending': 11, 'Suspiciousness': 7, 'Increment': 6, 'Custom': 6, 'Bungling': 8, 'Partiality': 8, 'Mention': 5, 'Domain': 4, 'Assigned_location': 3, 'Name_conferral': 2, 'Fairness_evaluation': 8, 'Storing': 3, 'Institutions': 8, 'Age': 6, 'Renting_out': 5, 'Prison': 2, 'Waiting': 3, 'Fire_burning': 4, 'Change_position_on_a_scale_fluctuation': 3, 'Process': 6, 'Hedging': 2, 'Chaos': 4, 'Deciding': 12, 'Losing_track_of_theme': 6, 'Process_start': 10, 'Reciprocality': 4, 'Popularity': 6, 'Receiving': 3, 'Accompaniment': 4, 'Sound_makers': 3, 'Soaking': 6, 'Dodging': 2, 'Prevarication': 3, 'Working_a_post': 2, 'Change_of_quantity_of_possession': 5, 'Tasting': 5, 'Revenge': 5, 'Controller_object': 2, 'People_by_origin': 3, 'Measure_volume': 8, 'Meet_with': 3, 'Calendric_unit': 2, 'Invading': 6, 'Religious_belief_systems': 3, 'Disembarking': 3, 'Exemplar': 3, 'Severity_of_offense': 4, 'Trap': 3, 'Process_completed_state': 4, 'Commutation': 6, 'Losing_someone': 5, 'Part_edge': 4, 'Being_dry': 2, 'People_by_disease': 7, 'Shaped_part': 2, 'Simple_naming': 1, 'Exemplariness': 7, 'First_rank': 1, 'Commerce_scenario': 4, 'Resolve_problem': 6, 'Relational_natural_features': 1, 'Capital_stock': 7, 'Borrowing': 8, 'Amounting_to': 4, 'Reparation': 3, 'Intentionally_act': 11, 'Condition_Symptom_Relation': 4, 'Price_per_unit': 3, 'Light_movement': 7, 'Process_resume': 1, 'Health_response': 2, 'Version_sequence': 1, 'Rising_to_a_challenge': 6, 'Cause_to_wake': 5, 'Escaping': 3, 'Awareness_status': 5, 'Transfer': 3, 'Biological_entity': 3, 'Surrendering': 2, 'Social_interaction_evaluation': 10, 'Exchange_currency': 3, 'Key': 7, 'Records': 2, 'Catching_fire': 3, 'Rank': 2, 'Ratification': 3, 'Import_export_scenario': 4, 'Medical_professionals': 1, 'Emphasizing': 7, 'Taking': 9, 'Being_detached': 3, 'Hiring': 4, 'Transition_to_a_situation': 3, 'Fear': 5, 'Launch_process': 4, 'Locale_by_event': 3, 'Evidence': 9, 'Sent_items': 3, 'Turning_out': 3, 'Languages': 3, 'Exchange': 3, 'Being_wet': 5, 'Change_of_state_initial_state': 1, 'Cause_to_experience': 4, 'Coming_to_believe': 5, 'Make_agreement_on_action': 9, 'Protest': 2, 'Counterattack': 5, 'Damaging': 4, 'Guilt_or_innocence': 1, 'Reason': 3, 'Sound_level': 2, 'Sign_agreement': 2, 'Graph_shape': 5, 'Use_as_a_starting_point': 3, 'Intoxicants': 5, 'Temperature': 1, 'Hunting': 4, 'Losing_it': 2, 'Sociability': 4, 'Performers': 2, 'Type': 5, 'Businesses': 7, 'Personal_success': 3, 'Have_visitor_over': 3, 'Locale_by_collocation': 1, 'Corroding': 3, 'Size': 4, 'Cause_to_land': 3, 'Body_decoration': 7, 'Non-commutative_statement': 4, 'Holding_off_on': 5, 'Simple_name': 4, 'Eventive_cognizer_affecting': 2, 'Change_position_on_a_scale_mod': 1, 'Identicality': 4, 'System_complexity': 3, 'Non-commutative_process': 2, 'Used_up': 2, 'System': 3, 'Performing_arts': 2, 'Contacting': 2, 'Quitting_a_place': 4, 'Team': 3, 'Being_at_risk': 6, 'Clemency': 4, 'Fire_going_out': 4, 'Political_locales': 4, 'Being_strong': 2, 'Successfully_communicate_message': 5, 'Reliance': 3, 'Ambient_temperature': 3, 'Weather': 3, 'Mental_property': 4, 'Deliberation': 2, 'Billing': 2, 'Location_in_time': 3, 'Manipulate_into_shape': 2, 'Continued_state_of_affairs': 1, 'Natural_features_named': 2, 'Being_born': 5, 'Hair_configuration': 5, 'Verification': 5, 'People_by_religion': 5, 'Distributed_abundance': 2, 'Thwarting': 3, 'Intentionally_affect': 4, 'Medical_specialties': 2, 'Accomplishment': 3, 'Serving_in_capacity': 2, 'Alliance': 6, 'Mental_stimulus_exp_focus': 4, 'Change_resistance': 2, 'Limiting': 2, 'Fullness': 4, 'Make_possible_to_do': 5, 'Arraignment': 2, 'Participation': 1, 'Measures': 1, 'Court_examination': 2, 'Mathematical_relationship': 1, 'Typicality': 2, 'Measure_linear_extent': 1, 'Dynamism': 1, 'Ingredients': 7, 'Distributed_position': 4, 'Limitation': 1, 'Aging': 4, 'Silencing': 3, 'Certainty': 3, 'Being_incarcerated': 3, 'Rope_manipulation': 1, 'Planned_trajectory': 3, 'Sharing': 1, 'Mental_stimulus_stimulus_focus': 2, 'Medical_instruments': 2, 'Conferring_benefit': 2, 'Shopping': 3, 'Wearing': 6, 'Bail_decision': 2, 'Make_acquaintance': 1, 'Animals': 5, 'Kidnapping': 3, 'Becoming_separated': 3, 'Electricity': 2, 'Being_in_category': 3, 'Use_vehicle': 1, 'Food_gathering': 1, 'Render_nonfunctional': 3, 'Breaking_off': 2, 'State_of_entity': 2, 'Chemical_potency': 1, 'Active_substance_medical': 1, 'Commercial_transaction': 1, 'Measure_mass': 2, 'Corroding_caused': 2, 'Try_defendant': 1, 'Musical_instruments': 3, 'Arson': 1, 'Government_institution': 1, 'Commutative_process': 1})\n",
      "Number trained frames: 1039\n"
     ]
    }
   ],
   "source": [
    "from collections import defaultdict\n",
    "\n",
    "tl = SwedishTrainingLoader('./swefn.xml')\n",
    "il = SwedishInferenceLoader('./swefn.xml')\n",
    "lc = LoaderDataCache(il)\n",
    "\n",
    "samples = tasks_from_annotated_sentences(tl.load_training_data(), lc)\n",
    "\n",
    "counts_frames_trained: dict[str, int] = defaultdict(int)\n",
    "\n",
    "for s in samples:\n",
    "    if s.get_task_name() == 'frame_classification':\n",
    "        counts_frames_trained[s.get_target()] +=1\n",
    "\n",
    "print(counts_frames_trained)\n",
    "print(f'Number trained frames: {len(counts_frames_trained.keys())}')"
   ]
  },
  {
   "cell_type": "code",
   "execution_count": 130,
   "metadata": {},
   "outputs": [
    {
     "data": {
      "text/plain": [
       "[('Agree_or_refuse_to_act', 1),\n",
       " ('Law', 1),\n",
       " ('Process_stop', 1),\n",
       " ('Board_vehicle', 1),\n",
       " ('Part_piece', 1)]"
      ]
     },
     "execution_count": 130,
     "metadata": {},
     "output_type": "execute_result"
    }
   ],
   "source": [
    "# Sort Frame by # of examples\n",
    "counts_frames_trained_sort = sorted(counts_frames_trained.items(), key = lambda item: item[1])\n",
    "counts_frames_trained_sort [:5]"
   ]
  },
  {
   "cell_type": "code",
   "execution_count": 135,
   "metadata": {},
   "outputs": [
    {
     "data": {
      "text/plain": [
       "[('Create_representation', 33),\n",
       " ('Removing', 34),\n",
       " ('Experiencer_obj', 34),\n",
       " ('Ingestion', 38),\n",
       " ('Cutting', 39),\n",
       " ('Medical_treatment', 42),\n",
       " ('Self_motion', 45),\n",
       " ('Grooming', 46),\n",
       " ('Make_noise', 51),\n",
       " ('Emptying', 56)]"
      ]
     },
     "execution_count": 135,
     "metadata": {},
     "output_type": "execute_result"
    }
   ],
   "source": [
    "counts_frames_trained_sort [-10:]"
   ]
  },
  {
   "cell_type": "code",
   "execution_count": 392,
   "metadata": {},
   "outputs": [
    {
     "data": {
      "text/plain": [
       "7648"
      ]
     },
     "execution_count": 392,
     "metadata": {},
     "output_type": "execute_result"
    }
   ],
   "source": [
    "sum(counts_frames_trained.values())"
   ]
  },
  {
   "attachments": {},
   "cell_type": "markdown",
   "metadata": {},
   "source": [
    "#### Check # monoword triggers in the train set"
   ]
  },
  {
   "cell_type": "code",
   "execution_count": 9,
   "metadata": {},
   "outputs": [],
   "source": [
    "def get_TriggerWord (text):\n",
    "    \n",
    "    symbol = [\" \",\",\",\".\",\"?\",\"!\"]\n",
    "    # monoword trigger\n",
    "    start_loc = text.find(\"*\")+2\n",
    "    \n",
    "    for sym in symbol:\n",
    "        if text[start_loc:].find(sym)!=-1:\n",
    "            end_loc = text[start_loc:].find(sym)\n",
    "            break\n",
    "        end_loc = len(text[start_loc:])\n",
    "\n",
    "    trigger = text[start_loc:start_loc+end_loc]\n",
    "\n",
    "    return trigger"
   ]
  },
  {
   "cell_type": "code",
   "execution_count": 228,
   "metadata": {},
   "outputs": [
    {
     "name": "stdout",
     "output_type": "stream",
     "text": [
      "Number trained monoword trigger: 3717\n"
     ]
    }
   ],
   "source": [
    "from collections import defaultdict\n",
    "\n",
    "tl = SwedishTrainingLoader('./swefn.xml')\n",
    "il = SwedishInferenceLoader('./swefn.xml')\n",
    "lc = LoaderDataCache(il)\n",
    "\n",
    "samples = tasks_from_annotated_sentences(tl.load_training_data(), lc)\n",
    "\n",
    "counts_monoTrigger_trained: dict[str, int] = defaultdict(int)\n",
    "samples_monoTrigger:  dict[str, list] = defaultdict(list)\n",
    "\n",
    "for s in samples:\n",
    "    if s.get_task_name() == 'frame_classification':\n",
    "        input = s.get_input()[s.get_input().find(\":\"):]\n",
    "        trigger = get_TriggerWord (input)\n",
    "\n",
    "        norm_trigger = il.normalize_lexical_unit_text(trigger)\n",
    "        counts_monoTrigger_trained[norm_trigger] +=1\n",
    "        samples_monoTrigger[trigger].append(input)\n",
    "\n",
    "print(f'Number trained monoword trigger: {len(counts_monoTrigger_trained.keys())}')"
   ]
  },
  {
   "attachments": {},
   "cell_type": "markdown",
   "metadata": {},
   "source": [
    "##### Out of 3717 normalized trigger word, 2271 has only 1 training sampel"
   ]
  },
  {
   "cell_type": "code",
   "execution_count": 215,
   "metadata": {},
   "outputs": [
    {
     "data": {
      "text/plain": [
       "[('upprop', 1),\n",
       " ('braver', 2),\n",
       " ('parkering', 2),\n",
       " ('alarmer', 2),\n",
       " ('plog', 2),\n",
       " ('vät', 2),\n",
       " ('tillslut', 2),\n",
       " ('påverk', 2),\n",
       " ('häft', 2),\n",
       " ('herrgård', 2)]"
      ]
     },
     "execution_count": 215,
     "metadata": {},
     "output_type": "execute_result"
    }
   ],
   "source": [
    "# Sort Frame by # of examples\n",
    "counts_monotrigger_trained_sort = sorted(counts_monoTrigger_trained.items(), key = lambda item: item[1])\n",
    "counts_monotrigger_trained_sort[2270:2280]"
   ]
  },
  {
   "attachments": {},
   "cell_type": "markdown",
   "metadata": {},
   "source": [
    "##### The most common normalized trigger word"
   ]
  },
  {
   "cell_type": "code",
   "execution_count": 208,
   "metadata": {},
   "outputs": [
    {
     "data": {
      "text/plain": [
       "[('bygg', 18),\n",
       " ('histori', 18),\n",
       " ('skjut', 21),\n",
       " ('av', 21),\n",
       " ('komm', 23),\n",
       " ('lägg', 23),\n",
       " ('har', 24),\n",
       " ('slog', 24),\n",
       " ('sätt', 24),\n",
       " ('håll', 26),\n",
       " ('på', 27),\n",
       " ('slå', 30),\n",
       " ('går', 30),\n",
       " ('gör', 38),\n",
       " ('i', 49)]"
      ]
     },
     "execution_count": 208,
     "metadata": {},
     "output_type": "execute_result"
    }
   ],
   "source": [
    "counts_monotrigger_trained_sort[-15:]"
   ]
  },
  {
   "cell_type": "code",
   "execution_count": 213,
   "metadata": {},
   "outputs": [
    {
     "data": {
      "text/plain": [
       "[': Manhattan är sightseeing * i mängder och världs\\xadberömda museum.',\n",
       " ': Niklas Heurlin skriver * i sin blogg i sin egen tidning om den finska utgåvan av \"Is\" som utkommit på hans eget förlag.',\n",
       " ': Niklas Heurlin skriver i sin blogg * i sin egen tidning om den finska utgåvan av \"Is\" som utkommit på hans eget förlag.',\n",
       " ': Bara 2 minuter senare var samme Sundman * i farten igen.',\n",
       " ': Trädgrenar * i blom, stammar i skogen, en skarv mellan olikfärgade persienner']"
      ]
     },
     "execution_count": 213,
     "metadata": {},
     "output_type": "execute_result"
    }
   ],
   "source": [
    "samples_monoTrigger['i'][:5]"
   ]
  },
  {
   "attachments": {},
   "cell_type": "markdown",
   "metadata": {},
   "source": [
    "##### most \"av\" examples come from Frame \"Partitive\""
   ]
  },
  {
   "cell_type": "code",
   "execution_count": 216,
   "metadata": {},
   "outputs": [
    {
     "data": {
      "text/plain": [
       "[': Det är * av vikt att göra några tåhävningar och kittla sig själv på trevliga ställen.',\n",
       " ': Jag är en * av fjorton studerande på volontärlinjen, en ny linje som väckte stort intresse.',\n",
       " ': Få * av de stora utmaningar vi står inför i Europa kan vi lösa helt på egen hand i varje nation för sig.',\n",
       " ': Ingen * av de 16 passagerarna eller två besättningsmännen skadades vid olyckan.',\n",
       " ': I verkligheten hade tre * av fyra beatlar närmast medelklassbakgrund.',\n",
       " ': Ingen * av de sex sökande som i första rundan kallades på intervju föll landskapsregeringen på läppen.',\n",
       " ': Det fanns en vicevärd på varje gård och var han på gott humör kvistade han * av julgranarna.',\n",
       " ': Somliga * av dessa män brukar roa sig med att delta i informella skyttetävlingar av typen – Police Combat Action.',\n",
       " ': Några * av de mest helande tårarna i fjol gräts av kungen under minnesceremonin.',\n",
       " ': Filmen är två timmar och fyrtionio minuter lång och omfattar 120 * av 298 sidor av boken \" Bilbo – En hobbits äventyr \" som kom ut 1937, åratal före \" Sagan om ringen \" ( 1954 – 55 ).',\n",
       " ': Några * av de målsägande sa att de inte var arga och godtog ursäkten.',\n",
       " ': Eller höra hans jävla malande * av kaffebönor inifrån köket.',\n",
       " ': Somliga * av de djur som klarade sig genom krisen fick även synen tillbaka.',\n",
       " ': Somliga * av de mycket fattiga kom också till dem som finns ombord på båten för att tigga.',\n",
       " ': Några * av de båtar som premiärvisas är Sunseeker 40 Portofino och Albatross 35.',\n",
       " ': Hittills har 151 * av 850 fast anställda gjort det, säger Marjamäki.']"
      ]
     },
     "execution_count": 216,
     "metadata": {},
     "output_type": "execute_result"
    }
   ],
   "source": [
    "samples_monoTrigger['av']"
   ]
  },
  {
   "attachments": {},
   "cell_type": "markdown",
   "metadata": {},
   "source": [
    "#### Check LU normalization"
   ]
  },
  {
   "cell_type": "code",
   "execution_count": 8,
   "metadata": {},
   "outputs": [
    {
     "name": "stdout",
     "output_type": "stream",
     "text": [
      "Vehicle_departure_initial_stage\n",
      "['Source', 'Vehicle']\n",
      "['Circumstances', 'Co_participant', 'Depictive', 'Duration_of_final_state', 'Explanation', 'Intended_goal', 'Manner', 'Means', 'Place', 'Result', 'Time']\n",
      "['lätta..2', 'lyfta..2', 'lättande..2', 'lätta_ankar..1', 'lägga_ut..2']\n"
     ]
    }
   ],
   "source": [
    "# Show one frame with its extracted FEs and LUs as an example\n",
    "frame_ = extract_frame(frames[4])\n",
    "print(frame_.name)\n",
    "print(frame_.core_elements)\n",
    "print(frame_.non_core_elements)\n",
    "print(frame_.lexical_units)"
   ]
  },
  {
   "cell_type": "code",
   "execution_count": 9,
   "metadata": {},
   "outputs": [
    {
     "name": "stdout",
     "output_type": "stream",
     "text": [
      "Example training samples from the Swedish training loader\n",
      "Sample 3066\n",
      "Task: frame_classification\n",
      "Input: FRAME Difficulty Emanating Experiencer_focus Vehicle_departure_initial_stage : Varje sekund från det att jag vaknade tills planet * lättade från Landvetter finns för evigt inpräntade i mitt minne.\n",
      "Target: Vehicle_departure_initial_stage\n",
      "\n",
      "Sample 12955\n",
      "Task: frame_classification\n",
      "Input: FRAME Hiring Vehicle_departure_initial_stage Commerce_pay Placing : 300 av hans sista soldater stod med sina vapen på kajen och såg fartyget * lägga ut.\n",
      "Target: Vehicle_departure_initial_stage\n",
      "\n",
      "Sample 17925\n",
      "Task: frame_classification\n",
      "Input: FRAME Vehicle_departure_initial_stage Difficulty Emanating Experiencer_focus : Ostindiefararen Götheborg * lättar ankar för sin färd till Kina.\n",
      "Target: Vehicle_departure_initial_stage\n",
      "\n"
     ]
    }
   ],
   "source": [
    "# This panel is for debugging on LU normalization, for a specific Frame\n",
    "\n",
    "from frame_semantic_transformer.data.LoaderDataCache import LoaderDataCache\n",
    "from frame_semantic_transformer.data.tasks_from_annotated_sentences import (\n",
    "    tasks_from_annotated_sentences,\n",
    ")\n",
    "tl = SwedishTrainingLoader('./swefn.xml')\n",
    "il = SwedishInferenceLoader('./swefn.xml')\n",
    "lc = LoaderDataCache(il)\n",
    "\n",
    "samples = tasks_from_annotated_sentences(tl.load_training_data(), lc)\n",
    "\n",
    "print(\"Example training samples from the Swedish training loader\")\n",
    "for i, s in enumerate(samples):\n",
    "    if s.get_target() == 'Vehicle_departure_initial_stage':\n",
    "        \n",
    "        print(f\"Sample {i}\")\n",
    "        print(f\"Task: {s.get_task_name()}\")\n",
    "        print(f\"Input: {s.get_input()}\")\n",
    "        print(f\"Target: {s.get_target()}\")\n",
    "        print(\"\")\n"
   ]
  },
  {
   "cell_type": "code",
   "execution_count": 6,
   "metadata": {},
   "outputs": [
    {
     "name": "stdout",
     "output_type": "stream",
     "text": [
      "Example training samples from the Swedish training loader\n",
      "Sample 13331\n",
      "Task: frame_classification\n",
      "Input: FRAME Medical_specialties : Kosmetisk * kirurgi utför plastikkirurgiska ingrepp såsom bröstoperation, fettsugning, ansiktslyftning mm.\n",
      "Target: Medical_specialties\n",
      "\n",
      "Sample 14913\n",
      "Task: frame_classification\n",
      "Input: FRAME Medical_specialties : Experter i * onkologi avgör typ av behandling och hur intensiv den ska vara.\n",
      "Target: Medical_specialties\n",
      "\n"
     ]
    }
   ],
   "source": [
    "# This panel is for debugging on LU normalization, for a specific Frame\n",
    "from frame_semantic_transformer.data.LoaderDataCache import LoaderDataCache\n",
    "from frame_semantic_transformer.data.tasks_from_annotated_sentences import (\n",
    "    tasks_from_annotated_sentences,\n",
    ")\n",
    "tl = SwedishTrainingLoader('./swefn.xml')\n",
    "il = SwedishInferenceLoader('./swefn.xml')\n",
    "lc = LoaderDataCache(il)\n",
    "\n",
    "samples = tasks_from_annotated_sentences(tl.load_training_data(), lc)\n",
    "print(\"Example training samples from the Swedish training loader\")\n",
    "for i, s in enumerate(samples):\n",
    "    if s.get_target() == 'Medical_specialties':\n",
    "        \n",
    "        print(f\"Sample {i}\")\n",
    "        print(f\"Task: {s.get_task_name()}\")\n",
    "        print(f\"Input: {s.get_input()}\")\n",
    "        print(f\"Target: {s.get_target()}\")\n",
    "        print(\"\")\n"
   ]
  },
  {
   "cell_type": "code",
   "execution_count": 7,
   "metadata": {},
   "outputs": [
    {
     "name": "stdout",
     "output_type": "stream",
     "text": [
      "Example training samples from the Swedish training loader\n",
      "Sample 1961\n",
      "Task: frame_classification\n",
      "Input: FRAME Medical_specialties : Pehr valde att fördjupa sig inom zoologisk * fysiologi och tog sin doktorsexamen i samarbete med medicinska fakulteten.\n",
      "Target: Medical_specialties\n",
      "\n",
      "Sample 2485\n",
      "Task: frame_classification\n",
      "Input: FRAME Medical_specialties : Även specialister inom * gynekologi, psykiatri, invärtes medicin, geriatrik och barnsjukvård ska kunna involveras.\n",
      "Target: Medical_specialties\n",
      "\n",
      "Sample 2487\n",
      "Task: frame_classification\n",
      "Input: FRAME Medical_specialties : Även specialister inom gynekologi, * psykiatri, invärtes medicin, geriatrik och barnsjukvård ska kunna involveras.\n",
      "Target: Medical_specialties\n",
      "\n",
      "Sample 2489\n",
      "Task: frame_classification\n",
      "Input: FRAME Medical_specialties : Även specialister inom gynekologi, psykiatri, * invärtes medicin, geriatrik och barnsjukvård ska kunna involveras.\n",
      "Target: Medical_specialties\n",
      "\n",
      "Sample 2491\n",
      "Task: frame_classification\n",
      "Input: FRAME Medical_professionals Medical_specialties : Även specialister inom gynekologi, psykiatri, invärtes medicin, * geriatrik och barnsjukvård ska kunna involveras.\n",
      "Target: Medical_specialties\n",
      "\n",
      "Sample 2493\n",
      "Task: frame_classification\n",
      "Input: FRAME Medical_specialties : Även specialister inom gynekologi, psykiatri, invärtes medicin, geriatrik och * barnsjukvård ska kunna involveras.\n",
      "Target: Medical_specialties\n",
      "\n"
     ]
    }
   ],
   "source": [
    "# This panel is for debugging on LU normalization, for a specific Frame\n",
    "\n",
    "from frame_semantic_transformer.data.LoaderDataCache import LoaderDataCache\n",
    "from frame_semantic_transformer.data.tasks_from_annotated_sentences import (\n",
    "    tasks_from_annotated_sentences,\n",
    ")\n",
    "tl = SwedishTrainingLoader('./swefn.xml')\n",
    "il = SwedishInferenceLoader('./swefn.xml')\n",
    "lc = LoaderDataCache(il)\n",
    "\n",
    "samples = tasks_from_annotated_sentences(tl.load_validation_data(), lc)\n",
    "\n",
    "print(\"Example training samples from the Swedish training loader\")\n",
    "for i, s in enumerate(samples):\n",
    "    if s.get_target() == 'Medical_specialties':\n",
    "        \n",
    "        print(f\"Sample {i}\")\n",
    "        print(f\"Task: {s.get_task_name()}\")\n",
    "        print(f\"Input: {s.get_input()}\")\n",
    "        print(f\"Target: {s.get_target()}\")\n",
    "        print(\"\")"
   ]
  },
  {
   "cell_type": "code",
   "execution_count": 67,
   "metadata": {},
   "outputs": [
    {
     "name": "stdout",
     "output_type": "stream",
     "text": [
      "Example training samples from the Swedish training loader\n",
      "Sample 2484\n",
      "Task: trigger_identification\n",
      "Input: TRIGGER: Nästa steg är att dela n med två om det är jämnt, eller multiplicera det med tre och addera ett om det är udda.\n",
      "Target: Nästa steg är att dela n med två om det är jämnt, eller * multiplicera det med tre och * addera ett om det är udda.\n",
      "\n"
     ]
    }
   ],
   "source": [
    "# This panel is for debugging on LU normalization, for a specific Frame\n",
    "\n",
    "from frame_semantic_transformer.data.LoaderDataCache import LoaderDataCache\n",
    "from frame_semantic_transformer.data.tasks_from_annotated_sentences import (\n",
    "    tasks_from_annotated_sentences,\n",
    ")\n",
    "tl = SwedishTrainingLoader('./swefn.xml')\n",
    "il = SwedishInferenceLoader('./swefn.xml')\n",
    "lc = LoaderDataCache(il)\n",
    "\n",
    "samples = tasks_from_annotated_sentences(tl.load_validation_data(), lc)\n",
    "\n",
    "print(\"Example training samples from the Swedish training loader\")\n",
    "for i, s in enumerate(samples):\n",
    "    if i == 2484:\n",
    "    #if s.get_target() == 'Medical_specialties':\n",
    "        \n",
    "        print(f\"Sample {i}\")\n",
    "        print(f\"Task: {s.get_task_name()}\")\n",
    "        print(f\"Input: {s.get_input()}\")\n",
    "        print(f\"Target: {s.get_target()}\")\n",
    "        print(\"\")"
   ]
  },
  {
   "attachments": {},
   "cell_type": "markdown",
   "metadata": {},
   "source": [
    "#### Check how many sentences contain multile triggers"
   ]
  },
  {
   "cell_type": "code",
   "execution_count": 33,
   "metadata": {},
   "outputs": [
    {
     "data": {
      "text/plain": [
       "FrameAnnotation(frame='Roadways', trigger_locs=[23], frame_elements=[FrameElementAnnotation(name='Path', start_loc=32, end_loc=62)])"
      ]
     },
     "execution_count": 33,
     "metadata": {},
     "output_type": "execute_result"
    }
   ],
   "source": [
    "train_sent[2].annotations[0]."
   ]
  },
  {
   "cell_type": "code",
   "execution_count": 43,
   "metadata": {},
   "outputs": [],
   "source": [
    "sentences = SwedishTrainingLoader('./swefn.xml')\n",
    "train_sent = sentences.load_training_data()\n",
    "\n",
    "# to store # of triggers in each train sentence with the Frame_name\n",
    "import pandas as pd\n",
    "df_train_frame = pd.DataFrame(\n",
    "    [s.annotations[0].frame, len(s.annotations[0].trigger_locs)] for s in train_sent\n",
    ")\n",
    "\n",
    "df_train_frame.columns= [\"Frame\", \"num_triggers\"]"
   ]
  },
  {
   "cell_type": "code",
   "execution_count": 51,
   "metadata": {},
   "outputs": [
    {
     "data": {
      "text/html": [
       "<div>\n",
       "<style scoped>\n",
       "    .dataframe tbody tr th:only-of-type {\n",
       "        vertical-align: middle;\n",
       "    }\n",
       "\n",
       "    .dataframe tbody tr th {\n",
       "        vertical-align: top;\n",
       "    }\n",
       "\n",
       "    .dataframe thead th {\n",
       "        text-align: right;\n",
       "    }\n",
       "</style>\n",
       "<table border=\"1\" class=\"dataframe\">\n",
       "  <thead>\n",
       "    <tr style=\"text-align: right;\">\n",
       "      <th></th>\n",
       "      <th>Frame</th>\n",
       "      <th>num_triggers</th>\n",
       "    </tr>\n",
       "  </thead>\n",
       "  <tbody>\n",
       "    <tr>\n",
       "      <th>26</th>\n",
       "      <td>Part_ordered_segments</td>\n",
       "      <td>2</td>\n",
       "    </tr>\n",
       "    <tr>\n",
       "      <th>30</th>\n",
       "      <td>Communication_manner</td>\n",
       "      <td>2</td>\n",
       "    </tr>\n",
       "    <tr>\n",
       "      <th>51</th>\n",
       "      <td>Locale_by_ownership</td>\n",
       "      <td>2</td>\n",
       "    </tr>\n",
       "    <tr>\n",
       "      <th>89</th>\n",
       "      <td>Disgraceful_situation</td>\n",
       "      <td>3</td>\n",
       "    </tr>\n",
       "    <tr>\n",
       "      <th>94</th>\n",
       "      <td>Communication_means</td>\n",
       "      <td>2</td>\n",
       "    </tr>\n",
       "    <tr>\n",
       "      <th>...</th>\n",
       "      <td>...</td>\n",
       "      <td>...</td>\n",
       "    </tr>\n",
       "    <tr>\n",
       "      <th>7079</th>\n",
       "      <td>Morality_evaluation</td>\n",
       "      <td>2</td>\n",
       "    </tr>\n",
       "    <tr>\n",
       "      <th>7163</th>\n",
       "      <td>Location_of_light</td>\n",
       "      <td>2</td>\n",
       "    </tr>\n",
       "    <tr>\n",
       "      <th>7183</th>\n",
       "      <td>Filling</td>\n",
       "      <td>2</td>\n",
       "    </tr>\n",
       "    <tr>\n",
       "      <th>7199</th>\n",
       "      <td>Dimension</td>\n",
       "      <td>2</td>\n",
       "    </tr>\n",
       "    <tr>\n",
       "      <th>7201</th>\n",
       "      <td>Have_as_requirement</td>\n",
       "      <td>2</td>\n",
       "    </tr>\n",
       "  </tbody>\n",
       "</table>\n",
       "<p>394 rows × 2 columns</p>\n",
       "</div>"
      ],
      "text/plain": [
       "                      Frame  num_triggers\n",
       "26    Part_ordered_segments             2\n",
       "30     Communication_manner             2\n",
       "51      Locale_by_ownership             2\n",
       "89    Disgraceful_situation             3\n",
       "94      Communication_means             2\n",
       "...                     ...           ...\n",
       "7079    Morality_evaluation             2\n",
       "7163      Location_of_light             2\n",
       "7183                Filling             2\n",
       "7199              Dimension             2\n",
       "7201    Have_as_requirement             2\n",
       "\n",
       "[394 rows x 2 columns]"
      ]
     },
     "execution_count": 51,
     "metadata": {},
     "output_type": "execute_result"
    }
   ],
   "source": [
    "sent_multi_triggers = df_train_frame[df_train_frame[\"num_triggers\"]>1]\n",
    "sent_multi_triggers"
   ]
  },
  {
   "cell_type": "code",
   "execution_count": 59,
   "metadata": {},
   "outputs": [
    {
     "name": "stdout",
     "output_type": "stream",
     "text": [
      "5.5% sentences have multiple triggers within single frame in the train set\n"
     ]
    }
   ],
   "source": [
    "print(f'{round(100 * sent_multi_triggers.shape[0] / df_train_frame.shape[0],1)}% sentences have multiple triggers within single frame in the train set')"
   ]
  },
  {
   "cell_type": "code",
   "execution_count": 64,
   "metadata": {},
   "outputs": [],
   "source": [
    "sentences = SwedishTrainingLoader('./swefn.xml')\n",
    "val_sent = sentences.load_validation_data()\n",
    "\n",
    "# to store # of triggers in each train sentence with the Frame_name\n",
    "import pandas as pd\n",
    "df_val_frame = pd.DataFrame(\n",
    "    [s.annotations[0].frame, len(s.annotations[0].trigger_locs)] for s in val_sent\n",
    ")\n",
    "\n",
    "df_val_frame.columns= [\"Frame\", \"num_triggers\"]"
   ]
  },
  {
   "cell_type": "code",
   "execution_count": 65,
   "metadata": {},
   "outputs": [
    {
     "name": "stdout",
     "output_type": "stream",
     "text": [
      "4.9% sentences have multiple triggers within single frame in the validation set\n"
     ]
    }
   ],
   "source": [
    "sent_multi_triggers_val = df_val_frame[df_val_frame[\"num_triggers\"]>1]\n",
    "print(f'{round(100 * sent_multi_triggers_val.shape[0] / df_val_frame.shape[0],1)}% sentences have multiple triggers within single frame in the validation set')"
   ]
  },
  {
   "attachments": {},
   "cell_type": "markdown",
   "metadata": {},
   "source": [
    "<<<<<<<<<  Above part: no need to rerun  >>>>>>>>>"
   ]
  },
  {
   "cell_type": "code",
   "execution_count": null,
   "metadata": {},
   "outputs": [],
   "source": []
  },
  {
   "cell_type": "code",
   "execution_count": 6,
   "metadata": {},
   "outputs": [],
   "source": [
    "%reload_ext tensorboard"
   ]
  },
  {
   "cell_type": "code",
   "execution_count": 9,
   "metadata": {},
   "outputs": [
    {
     "data": {
      "text/html": [
       "\n",
       "      <iframe id=\"tensorboard-frame-bf1feaec6437fd41\" width=\"100%\" height=\"800\" frameborder=\"0\">\n",
       "      </iframe>\n",
       "      <script>\n",
       "        (function() {\n",
       "          const frame = document.getElementById(\"tensorboard-frame-bf1feaec6437fd41\");\n",
       "          const url = new URL(\"/\", window.location);\n",
       "          const port = 1001;\n",
       "          if (port) {\n",
       "            url.port = port;\n",
       "          }\n",
       "          frame.src = url;\n",
       "        })();\n",
       "      </script>\n",
       "    "
      ],
      "text/plain": [
       "<IPython.core.display.HTML object>"
      ]
     },
     "metadata": {},
     "output_type": "display_data"
    }
   ],
   "source": [
    "%tensorboard --logdir ./lightning_logs --host localhost --port 1001"
   ]
  },
  {
   "attachments": {},
   "cell_type": "markdown",
   "metadata": {},
   "source": [
    "## Below parts only used for Training"
   ]
  },
  {
   "cell_type": "code",
   "execution_count": 14,
   "metadata": {
    "id": "6YG9yEKRaf0L"
   },
   "outputs": [],
   "source": [
    "MODEL_TYPE = 'small'\n",
    "# MODEL_TYPE = 'base'\n",
    "\n",
    "from frame_semantic_transformer.training.train import train\n",
    "# !rm -rf ./outputs/\n",
    "# !rm -rf ./lightning_logs/*"
   ]
  },
  {
   "cell_type": "code",
   "execution_count": 15,
   "metadata": {},
   "outputs": [
    {
     "name": "stderr",
     "output_type": "stream",
     "text": [
      "GPU available: True (cuda), used: True\n",
      "TPU available: False, using: 0 TPU cores\n",
      "IPU available: False, using: 0 IPUs\n",
      "HPU available: False, using: 0 HPUs\n",
      "LOCAL_RANK: 0 - CUDA_VISIBLE_DEVICES: [0]\n",
      "c:\\ProgramData\\miniconda3\\envs\\dml_nlp\\lib\\site-packages\\transformers\\optimization.py:306: FutureWarning: This implementation of AdamW is deprecated and will be removed in a future version. Use the PyTorch implementation torch.optim.AdamW instead, or set `no_deprecation_warning=True` to disable this warning\n",
      "  warnings.warn(\n",
      "\n",
      "  | Name  | Type                       | Params\n",
      "-----------------------------------------------------\n",
      "0 | model | T5ForConditionalGeneration | 60.5 M\n",
      "-----------------------------------------------------\n",
      "60.5 M    Trainable params\n",
      "0         Non-trainable params\n",
      "60.5 M    Total params\n",
      "242.026   Total estimated model params size (MB)\n",
      "c:\\ProgramData\\miniconda3\\envs\\dml_nlp\\lib\\site-packages\\pytorch_lightning\\trainer\\connectors\\data_connector.py:224: PossibleUserWarning: The dataloader, train_dataloader, does not have many workers which may be a bottleneck. Consider increasing the value of the `num_workers` argument` (try 12 which is the number of cpus on this machine) in the `DataLoader` init to improve performance.\n",
      "  rank_zero_warn(\n",
      "c:\\ProgramData\\miniconda3\\envs\\dml_nlp\\lib\\site-packages\\pytorch_lightning\\trainer\\connectors\\data_connector.py:224: PossibleUserWarning: The dataloader, val_dataloader 0, does not have many workers which may be a bottleneck. Consider increasing the value of the `num_workers` argument` (try 12 which is the number of cpus on this machine) in the `DataLoader` init to improve performance.\n",
      "  rank_zero_warn(\n"
     ]
    },
    {
     "data": {
      "application/vnd.jupyter.widget-view+json": {
       "model_id": "4eacb0a7182e4817bedd535e93890202",
       "version_major": 2,
       "version_minor": 0
      },
      "text/plain": [
       "Training: 0it [00:00, ?it/s]"
      ]
     },
     "metadata": {},
     "output_type": "display_data"
    },
    {
     "data": {
      "application/vnd.jupyter.widget-view+json": {
       "model_id": "954d8939e56c4f7b8aa32682b3c72acd",
       "version_major": 2,
       "version_minor": 0
      },
      "text/plain": [
       "Validation: 0it [00:00, ?it/s]"
      ]
     },
     "metadata": {},
     "output_type": "display_data"
    },
    {
     "data": {
      "application/vnd.jupyter.widget-view+json": {
       "model_id": "23ef4af7fed14aa4a69fe3af6fb19e02",
       "version_major": 2,
       "version_minor": 0
      },
      "text/plain": [
       "Validation: 0it [00:00, ?it/s]"
      ]
     },
     "metadata": {},
     "output_type": "display_data"
    },
    {
     "data": {
      "application/vnd.jupyter.widget-view+json": {
       "model_id": "67ecbeb06353424d834a22992533f7b1",
       "version_major": 2,
       "version_minor": 0
      },
      "text/plain": [
       "Validation: 0it [00:00, ?it/s]"
      ]
     },
     "metadata": {},
     "output_type": "display_data"
    },
    {
     "data": {
      "application/vnd.jupyter.widget-view+json": {
       "model_id": "af3dc402e3bf42eb8984d2953f503818",
       "version_major": 2,
       "version_minor": 0
      },
      "text/plain": [
       "Validation: 0it [00:00, ?it/s]"
      ]
     },
     "metadata": {},
     "output_type": "display_data"
    },
    {
     "data": {
      "application/vnd.jupyter.widget-view+json": {
       "model_id": "4428130228274b9ca36bd2e7cc427014",
       "version_major": 2,
       "version_minor": 0
      },
      "text/plain": [
       "Validation: 0it [00:00, ?it/s]"
      ]
     },
     "metadata": {},
     "output_type": "display_data"
    },
    {
     "data": {
      "application/vnd.jupyter.widget-view+json": {
       "model_id": "881e03d5262747b7b0f692db8e933123",
       "version_major": 2,
       "version_minor": 0
      },
      "text/plain": [
       "Validation: 0it [00:00, ?it/s]"
      ]
     },
     "metadata": {},
     "output_type": "display_data"
    },
    {
     "data": {
      "application/vnd.jupyter.widget-view+json": {
       "model_id": "d371924f48744ae4aaebc24f7743ab5e",
       "version_major": 2,
       "version_minor": 0
      },
      "text/plain": [
       "Validation: 0it [00:00, ?it/s]"
      ]
     },
     "metadata": {},
     "output_type": "display_data"
    },
    {
     "data": {
      "application/vnd.jupyter.widget-view+json": {
       "model_id": "1aba955e392f485a9a4819edad5552d8",
       "version_major": 2,
       "version_minor": 0
      },
      "text/plain": [
       "Validation: 0it [00:00, ?it/s]"
      ]
     },
     "metadata": {},
     "output_type": "display_data"
    },
    {
     "data": {
      "application/vnd.jupyter.widget-view+json": {
       "model_id": "4435101049bc40aa9cd5e946fdd4606a",
       "version_major": 2,
       "version_minor": 0
      },
      "text/plain": [
       "Validation: 0it [00:00, ?it/s]"
      ]
     },
     "metadata": {},
     "output_type": "display_data"
    },
    {
     "data": {
      "application/vnd.jupyter.widget-view+json": {
       "model_id": "9ec95593e39f480d8358b8d18440732b",
       "version_major": 2,
       "version_minor": 0
      },
      "text/plain": [
       "Validation: 0it [00:00, ?it/s]"
      ]
     },
     "metadata": {},
     "output_type": "display_data"
    },
    {
     "data": {
      "application/vnd.jupyter.widget-view+json": {
       "model_id": "21d8f95ae33148efaa800cf8cfb03b12",
       "version_major": 2,
       "version_minor": 0
      },
      "text/plain": [
       "Validation: 0it [00:00, ?it/s]"
      ]
     },
     "metadata": {},
     "output_type": "display_data"
    },
    {
     "data": {
      "application/vnd.jupyter.widget-view+json": {
       "model_id": "7c9306684536491e8486bfa560f50974",
       "version_major": 2,
       "version_minor": 0
      },
      "text/plain": [
       "Validation: 0it [00:00, ?it/s]"
      ]
     },
     "metadata": {},
     "output_type": "display_data"
    },
    {
     "data": {
      "application/vnd.jupyter.widget-view+json": {
       "model_id": "648a5f08d6ad45138cebde37b52a358d",
       "version_major": 2,
       "version_minor": 0
      },
      "text/plain": [
       "Validation: 0it [00:00, ?it/s]"
      ]
     },
     "metadata": {},
     "output_type": "display_data"
    },
    {
     "data": {
      "application/vnd.jupyter.widget-view+json": {
       "model_id": "abcaa692ea674fa4898433c17c302b0a",
       "version_major": 2,
       "version_minor": 0
      },
      "text/plain": [
       "Validation: 0it [00:00, ?it/s]"
      ]
     },
     "metadata": {},
     "output_type": "display_data"
    },
    {
     "data": {
      "application/vnd.jupyter.widget-view+json": {
       "model_id": "66a7125b0e6e4e608799ffb8ac3f592c",
       "version_major": 2,
       "version_minor": 0
      },
      "text/plain": [
       "Validation: 0it [00:00, ?it/s]"
      ]
     },
     "metadata": {},
     "output_type": "display_data"
    },
    {
     "data": {
      "application/vnd.jupyter.widget-view+json": {
       "model_id": "4a64d2c55dec47d2a71042f0d8ba1951",
       "version_major": 2,
       "version_minor": 0
      },
      "text/plain": [
       "Validation: 0it [00:00, ?it/s]"
      ]
     },
     "metadata": {},
     "output_type": "display_data"
    },
    {
     "data": {
      "application/vnd.jupyter.widget-view+json": {
       "model_id": "9810409518cd486b830c06a3fd9e51be",
       "version_major": 2,
       "version_minor": 0
      },
      "text/plain": [
       "Validation: 0it [00:00, ?it/s]"
      ]
     },
     "metadata": {},
     "output_type": "display_data"
    },
    {
     "data": {
      "application/vnd.jupyter.widget-view+json": {
       "model_id": "ef02650272e34fbf9abeee0e39fbecfc",
       "version_major": 2,
       "version_minor": 0
      },
      "text/plain": [
       "Validation: 0it [00:00, ?it/s]"
      ]
     },
     "metadata": {},
     "output_type": "display_data"
    },
    {
     "data": {
      "application/vnd.jupyter.widget-view+json": {
       "model_id": "2fac13ee87a24a65b5e499570f25bfd4",
       "version_major": 2,
       "version_minor": 0
      },
      "text/plain": [
       "Validation: 0it [00:00, ?it/s]"
      ]
     },
     "metadata": {},
     "output_type": "display_data"
    },
    {
     "data": {
      "application/vnd.jupyter.widget-view+json": {
       "model_id": "872a9bf5eb6c4349bc17475e3f9d1b79",
       "version_major": 2,
       "version_minor": 0
      },
      "text/plain": [
       "Validation: 0it [00:00, ?it/s]"
      ]
     },
     "metadata": {},
     "output_type": "display_data"
    },
    {
     "data": {
      "application/vnd.jupyter.widget-view+json": {
       "model_id": "f6661fc797ca4cf58844fef7f1c43b2e",
       "version_major": 2,
       "version_minor": 0
      },
      "text/plain": [
       "Validation: 0it [00:00, ?it/s]"
      ]
     },
     "metadata": {},
     "output_type": "display_data"
    },
    {
     "data": {
      "application/vnd.jupyter.widget-view+json": {
       "model_id": "e1736ec832da4c5482c4553a5ee312af",
       "version_major": 2,
       "version_minor": 0
      },
      "text/plain": [
       "Validation: 0it [00:00, ?it/s]"
      ]
     },
     "metadata": {},
     "output_type": "display_data"
    },
    {
     "data": {
      "application/vnd.jupyter.widget-view+json": {
       "model_id": "59f822032d6a4d67864dffc74c2ecd7b",
       "version_major": 2,
       "version_minor": 0
      },
      "text/plain": [
       "Validation: 0it [00:00, ?it/s]"
      ]
     },
     "metadata": {},
     "output_type": "display_data"
    },
    {
     "data": {
      "application/vnd.jupyter.widget-view+json": {
       "model_id": "381d45fe006141e38507a9b6deb29a7e",
       "version_major": 2,
       "version_minor": 0
      },
      "text/plain": [
       "Validation: 0it [00:00, ?it/s]"
      ]
     },
     "metadata": {},
     "output_type": "display_data"
    },
    {
     "data": {
      "application/vnd.jupyter.widget-view+json": {
       "model_id": "410f588edabe43adbceea109b856063a",
       "version_major": 2,
       "version_minor": 0
      },
      "text/plain": [
       "Validation: 0it [00:00, ?it/s]"
      ]
     },
     "metadata": {},
     "output_type": "display_data"
    },
    {
     "data": {
      "application/vnd.jupyter.widget-view+json": {
       "model_id": "e699ed71d68e4724ae93760aa3bc6d52",
       "version_major": 2,
       "version_minor": 0
      },
      "text/plain": [
       "Validation: 0it [00:00, ?it/s]"
      ]
     },
     "metadata": {},
     "output_type": "display_data"
    },
    {
     "data": {
      "application/vnd.jupyter.widget-view+json": {
       "model_id": "6c8c81e9eb9c4d86b1e19db97b95bc22",
       "version_major": 2,
       "version_minor": 0
      },
      "text/plain": [
       "Validation: 0it [00:00, ?it/s]"
      ]
     },
     "metadata": {},
     "output_type": "display_data"
    },
    {
     "data": {
      "application/vnd.jupyter.widget-view+json": {
       "model_id": "c3b34eb5f7c84920ba8cabb21ca958ff",
       "version_major": 2,
       "version_minor": 0
      },
      "text/plain": [
       "Validation: 0it [00:00, ?it/s]"
      ]
     },
     "metadata": {},
     "output_type": "display_data"
    },
    {
     "data": {
      "application/vnd.jupyter.widget-view+json": {
       "model_id": "02e02ddce961436994e9a893e1c91029",
       "version_major": 2,
       "version_minor": 0
      },
      "text/plain": [
       "Validation: 0it [00:00, ?it/s]"
      ]
     },
     "metadata": {},
     "output_type": "display_data"
    },
    {
     "data": {
      "application/vnd.jupyter.widget-view+json": {
       "model_id": "9c9d8489509d4afa8eb5cbcd05a6fb66",
       "version_major": 2,
       "version_minor": 0
      },
      "text/plain": [
       "Validation: 0it [00:00, ?it/s]"
      ]
     },
     "metadata": {},
     "output_type": "display_data"
    },
    {
     "data": {
      "application/vnd.jupyter.widget-view+json": {
       "model_id": "55112a59382848aa862609446c119321",
       "version_major": 2,
       "version_minor": 0
      },
      "text/plain": [
       "Validation: 0it [00:00, ?it/s]"
      ]
     },
     "metadata": {},
     "output_type": "display_data"
    },
    {
     "data": {
      "application/vnd.jupyter.widget-view+json": {
       "model_id": "990c38173f174e6888224ced33b87a9e",
       "version_major": 2,
       "version_minor": 0
      },
      "text/plain": [
       "Validation: 0it [00:00, ?it/s]"
      ]
     },
     "metadata": {},
     "output_type": "display_data"
    },
    {
     "data": {
      "application/vnd.jupyter.widget-view+json": {
       "model_id": "b42c87e0ea2a4b4aae78c8aac3e8a36d",
       "version_major": 2,
       "version_minor": 0
      },
      "text/plain": [
       "Validation: 0it [00:00, ?it/s]"
      ]
     },
     "metadata": {},
     "output_type": "display_data"
    },
    {
     "data": {
      "application/vnd.jupyter.widget-view+json": {
       "model_id": "a0a40b6f6fe244e4944ced071484ed16",
       "version_major": 2,
       "version_minor": 0
      },
      "text/plain": [
       "Validation: 0it [00:00, ?it/s]"
      ]
     },
     "metadata": {},
     "output_type": "display_data"
    },
    {
     "data": {
      "application/vnd.jupyter.widget-view+json": {
       "model_id": "d9b6086d13c44ace9dfc6f933503952e",
       "version_major": 2,
       "version_minor": 0
      },
      "text/plain": [
       "Validation: 0it [00:00, ?it/s]"
      ]
     },
     "metadata": {},
     "output_type": "display_data"
    },
    {
     "data": {
      "application/vnd.jupyter.widget-view+json": {
       "model_id": "6fb9647c5ba24fca8df0f38a147fb72d",
       "version_major": 2,
       "version_minor": 0
      },
      "text/plain": [
       "Validation: 0it [00:00, ?it/s]"
      ]
     },
     "metadata": {},
     "output_type": "display_data"
    },
    {
     "data": {
      "application/vnd.jupyter.widget-view+json": {
       "model_id": "23e4c0b682e241218c07a4be3b29d851",
       "version_major": 2,
       "version_minor": 0
      },
      "text/plain": [
       "Validation: 0it [00:00, ?it/s]"
      ]
     },
     "metadata": {},
     "output_type": "display_data"
    },
    {
     "data": {
      "application/vnd.jupyter.widget-view+json": {
       "model_id": "50d34530e86f4b9b9e98e4d66276dc1a",
       "version_major": 2,
       "version_minor": 0
      },
      "text/plain": [
       "Validation: 0it [00:00, ?it/s]"
      ]
     },
     "metadata": {},
     "output_type": "display_data"
    },
    {
     "data": {
      "application/vnd.jupyter.widget-view+json": {
       "model_id": "1533baddd2a04235bc074848a7dc0838",
       "version_major": 2,
       "version_minor": 0
      },
      "text/plain": [
       "Validation: 0it [00:00, ?it/s]"
      ]
     },
     "metadata": {},
     "output_type": "display_data"
    },
    {
     "data": {
      "application/vnd.jupyter.widget-view+json": {
       "model_id": "4c52a20b16b240f49789a96e8a281812",
       "version_major": 2,
       "version_minor": 0
      },
      "text/plain": [
       "Validation: 0it [00:00, ?it/s]"
      ]
     },
     "metadata": {},
     "output_type": "display_data"
    },
    {
     "data": {
      "application/vnd.jupyter.widget-view+json": {
       "model_id": "02574455bc8d4cd9a223eb463764caaa",
       "version_major": 2,
       "version_minor": 0
      },
      "text/plain": [
       "Validation: 0it [00:00, ?it/s]"
      ]
     },
     "metadata": {},
     "output_type": "display_data"
    },
    {
     "data": {
      "application/vnd.jupyter.widget-view+json": {
       "model_id": "790969570661442099a3d16c39ced12a",
       "version_major": 2,
       "version_minor": 0
      },
      "text/plain": [
       "Validation: 0it [00:00, ?it/s]"
      ]
     },
     "metadata": {},
     "output_type": "display_data"
    },
    {
     "data": {
      "application/vnd.jupyter.widget-view+json": {
       "model_id": "d6c7544c41c34504969c04b7377466ca",
       "version_major": 2,
       "version_minor": 0
      },
      "text/plain": [
       "Validation: 0it [00:00, ?it/s]"
      ]
     },
     "metadata": {},
     "output_type": "display_data"
    },
    {
     "data": {
      "application/vnd.jupyter.widget-view+json": {
       "model_id": "5801039322494c8d8f2945a877cbeea2",
       "version_major": 2,
       "version_minor": 0
      },
      "text/plain": [
       "Validation: 0it [00:00, ?it/s]"
      ]
     },
     "metadata": {},
     "output_type": "display_data"
    },
    {
     "data": {
      "application/vnd.jupyter.widget-view+json": {
       "model_id": "07afad7dfd224e88a4063dd5bf75b0c6",
       "version_major": 2,
       "version_minor": 0
      },
      "text/plain": [
       "Validation: 0it [00:00, ?it/s]"
      ]
     },
     "metadata": {},
     "output_type": "display_data"
    },
    {
     "name": "stderr",
     "output_type": "stream",
     "text": [
      "`Trainer.fit` stopped: `max_epochs=45` reached.\n"
     ]
    }
   ],
   "source": [
    "# Training slowly\n",
    "model, tokenizer = train(\n",
    "    base_model=f\"chanind/frame-semantic-transformer-{MODEL_TYPE}\",\n",
    "    batch_size=16,\n",
    "    # batch_size=4, ### when using the base model\n",
    "    max_epochs=30,\n",
    "    lr=5e-5,\n",
    "    skip_initial_epochs_validation=0,\n",
    "    num_workers=0, ### due to python multiprocessing NOT working with pytorch\n",
    "    \n",
    "    # Here is where we pass in the Swedish loaders\n",
    "    training_loader=SwedishTrainingLoader('./swefn.xml'),\n",
    "    inference_loader=SwedishInferenceLoader('./swefn.xml'),\n",
    ")"
   ]
  },
  {
   "attachments": {},
   "cell_type": "markdown",
   "metadata": {},
   "source": [
    "## Below parts are used for evaluation"
   ]
  },
  {
   "cell_type": "code",
   "execution_count": 5,
   "metadata": {},
   "outputs": [
    {
     "data": {
      "text/plain": [
       "'c:\\\\Users\\\\lucyy\\\\Documents\\\\ADS_thesis\\\\toGithub\\\\Model1\\\\frame-semantic-transformer'"
      ]
     },
     "execution_count": 5,
     "metadata": {},
     "output_type": "execute_result"
    }
   ],
   "source": [
    "# show current directory\n",
    "import os\n",
    "os.getcwd()"
   ]
  },
  {
   "attachments": {},
   "cell_type": "markdown",
   "metadata": {},
   "source": [
    "The Final Best model is saved as \"tuned_model_...\""
   ]
  },
  {
   "cell_type": "code",
   "execution_count": 6,
   "metadata": {},
   "outputs": [],
   "source": [
    "# !rm -rf tuned_model_{MODEL_TYPE}\n",
    "# model.save_pretrained(f'tuned_model1_{MODEL_TYPE}')\n",
    "# tokenizer.save_pretrained(f'tuned_model1_{MODEL_TYPE}')"
   ]
  },
  {
   "attachments": {},
   "cell_type": "markdown",
   "metadata": {},
   "source": [
    "#### Manual evaluation on one sentence"
   ]
  },
  {
   "cell_type": "code",
   "execution_count": 6,
   "metadata": {},
   "outputs": [],
   "source": [
    "def get_TriggerWord (text):\n",
    "    \n",
    "    symbol = [\" \",\",\",\".\",\"?\",\"!\"]\n",
    "    # monoword trigger\n",
    "    start_loc = text.find(\"*\")+2\n",
    "    \n",
    "    for sym in symbol:\n",
    "        if text[start_loc:].find(sym)!=-1:\n",
    "            end_loc = text[start_loc:].find(sym)\n",
    "            break\n",
    "        end_loc = len(text[start_loc:])\n",
    "\n",
    "    trigger = text[start_loc:start_loc+end_loc]\n",
    "\n",
    "    return trigger\n",
    "\n",
    "def manual_inference_sentence(chosen_model, text):\n",
    "    # Let's experiment with the model we just trained\n",
    "    from frame_semantic_transformer import FrameSemanticTransformer\n",
    "\n",
    "    # Need to pass in the Swedish inference loader when creating the FrameSemanticTransformer instance, otherwise it will use the Framenet 1.7 loader\n",
    "    inference_loader = SwedishInferenceLoader('./swefn.xml')\n",
    "    ##### Adjust this path to use the best-performing model from the \"outputs\" folder\n",
    "    transformer = FrameSemanticTransformer(chosen_model, inference_loader=inference_loader)\n",
    "\n",
    "    result = transformer.detect_frames(text)\n",
    "\n",
    "    print(f\"\\n Results found in: {text}\")\n",
    "    print(f\"\\n Trigger Location: {result.trigger_locations}\" )\n",
    "    locs = result.trigger_locations\n",
    "    for loc in locs:\n",
    "        marked_text = result.sentence[:loc] + \"* \" + result.sentence[loc:]\n",
    "        print(f\"    Trigger word: {get_TriggerWord(marked_text)}\")\n",
    "    \n",
    "    for frame in result.frames:\n",
    "        print(f\"FRAME: {frame.name}\")\n",
    "        for element in frame.frame_elements:\n",
    "            print(f\"  {element.name}: {element.text}\")"
   ]
  },
  {
   "cell_type": "code",
   "execution_count": 10,
   "metadata": {},
   "outputs": [
    {
     "name": "stdout",
     "output_type": "stream",
     "text": [
      "\n",
      " Results found in: Axel fick parkerade på Odengatan , detta gjorde honom pepp .\n",
      "\n",
      " Trigger Location: [10]\n",
      "    Trigger word: parkerade\n",
      "FRAME: Placing\n",
      "  Theme: Axel\n",
      "  Goal: p Odengatan\n"
     ]
    }
   ],
   "source": [
    "# Test the Best model on one sentence\n",
    "model_path = \"./tuned_model1_small\"\n",
    "manual_text = \"Axel fick parkerade på Odengatan , detta gjorde honom pepp .\"\n",
    "manual_inference_sentence(model_path, manual_text)"
   ]
  },
  {
   "cell_type": "code",
   "execution_count": 11,
   "metadata": {},
   "outputs": [
    {
     "name": "stdout",
     "output_type": "stream",
     "text": [
      "\n",
      " Results found in: Axel fick parkerade på Odengatan , detta gjorde honom pepp .\n",
      "\n",
      " Trigger Location: [10]\n",
      "    Trigger word: parkerade\n",
      "FRAME: Placing\n",
      "  Agent: Axel\n",
      "  Goal: p Odengatan\n"
     ]
    }
   ],
   "source": [
    "# Test the Best model on one sentence\n",
    "model_path = \"./tuned_model1_base\"\n",
    "manual_text = \"Axel fick parkerade på Odengatan , detta gjorde honom pepp .\"\n",
    "manual_inference_sentence(model_path, manual_text)"
   ]
  },
  {
   "attachments": {},
   "cell_type": "markdown",
   "metadata": {},
   "source": [
    "#### F1-score on TEST set"
   ]
  },
  {
   "attachments": {},
   "cell_type": "markdown",
   "metadata": {},
   "source": [
    "on small model"
   ]
  },
  {
   "cell_type": "code",
   "execution_count": 271,
   "metadata": {},
   "outputs": [
    {
     "name": "stderr",
     "output_type": "stream",
     "text": [
      "GPU available: True (cuda), used: True\n",
      "TPU available: False, using: 0 TPU cores\n",
      "IPU available: False, using: 0 IPUs\n",
      "HPU available: False, using: 0 HPUs\n",
      "LOCAL_RANK: 0 - CUDA_VISIBLE_DEVICES: [0]\n"
     ]
    },
    {
     "name": "stdout",
     "output_type": "stream",
     "text": [
      "Evaluating on test set\n"
     ]
    },
    {
     "data": {
      "application/vnd.jupyter.widget-view+json": {
       "model_id": "39eb668d78ac4d1cba5cf419160c4255",
       "version_major": 2,
       "version_minor": 0
      },
      "text/plain": [
       "Testing: 0it [00:00, ?it/s]"
      ]
     },
     "metadata": {},
     "output_type": "display_data"
    },
    {
     "name": "stdout",
     "output_type": "stream",
     "text": [
      "────────────────────────────────────────────────────────────────────────────────────────────────────────────────────────\n",
      "         Test metric                   DataLoader 0\n",
      "────────────────────────────────────────────────────────────────────────────────────────────────────────────────────────\n",
      "   test_args_extraction_f1          0.5297730565071106\n",
      " test_frame_classification_f1       0.5962539315223694\n",
      "          test_loss                0.16918951272964478\n",
      "test_trigger_identification_f1     0.49625667929649353\n",
      "────────────────────────────────────────────────────────────────────────────────────────────────────────────────────────\n"
     ]
    }
   ],
   "source": [
    "# from frame_semantic_transformer.training.evaluate_model import evaluate_model\n",
    "\n",
    "# \"test_model_frame\" is created from func \"evaluate_model\" to speed up\n",
    "from frame_semantic_transformer.training.test_model_frame import evaluate_model\n",
    "\n",
    "from frame_semantic_transformer.data.LoaderDataCache import LoaderDataCache\n",
    "from transformers import T5ForConditionalGeneration, T5TokenizerFast\n",
    "from frame_semantic_transformer.constants import DEFAULT_NUM_WORKERS, MODEL_MAX_LENGTH\n",
    "\n",
    "chosen_model_path = \"./tuned_model1_small\"\n",
    "chosen_model = T5ForConditionalGeneration.from_pretrained(chosen_model_path)\n",
    "tokenizer = T5TokenizerFast.from_pretrained(chosen_model_path, \n",
    "                                            model_max_length=MODEL_MAX_LENGTH)\n",
    "\n",
    "tl = SwedishTrainingLoader('./swefn.xml')\n",
    "il = SwedishInferenceLoader('./swefn.xml')\n",
    "lc = LoaderDataCache(il)\n",
    "\n",
    "test_results = evaluate_model(\n",
    "    chosen_model,\n",
    "    tokenizer,\n",
    "    loader_cache = lc,\n",
    "    training_loader =tl,\n",
    "    batch_size = 16,\n",
    "    num_workers = 0,\n",
    ")\n"
   ]
  },
  {
   "attachments": {},
   "cell_type": "markdown",
   "metadata": {},
   "source": [
    "on base model"
   ]
  },
  {
   "cell_type": "code",
   "execution_count": 7,
   "metadata": {},
   "outputs": [
    {
     "name": "stderr",
     "output_type": "stream",
     "text": [
      "GPU available: True (cuda), used: True\n",
      "TPU available: False, using: 0 TPU cores\n",
      "IPU available: False, using: 0 IPUs\n",
      "HPU available: False, using: 0 HPUs\n"
     ]
    },
    {
     "name": "stdout",
     "output_type": "stream",
     "text": [
      "Evaluating on test set\n"
     ]
    },
    {
     "name": "stderr",
     "output_type": "stream",
     "text": [
      "LOCAL_RANK: 0 - CUDA_VISIBLE_DEVICES: [0]\n",
      "c:\\ProgramData\\miniconda3\\envs\\dml_nlp\\lib\\site-packages\\pytorch_lightning\\trainer\\connectors\\data_connector.py:224: PossibleUserWarning: The dataloader, test_dataloader 0, does not have many workers which may be a bottleneck. Consider increasing the value of the `num_workers` argument` (try 12 which is the number of cpus on this machine) in the `DataLoader` init to improve performance.\n",
      "  rank_zero_warn(\n"
     ]
    },
    {
     "data": {
      "application/vnd.jupyter.widget-view+json": {
       "model_id": "b0d2b26d10754a36b3fc1424ead27206",
       "version_major": 2,
       "version_minor": 0
      },
      "text/plain": [
       "Testing: 0it [00:00, ?it/s]"
      ]
     },
     "metadata": {},
     "output_type": "display_data"
    },
    {
     "name": "stdout",
     "output_type": "stream",
     "text": [
      "────────────────────────────────────────────────────────────────────────────────────────────────────────────────────────\n",
      "         Test metric                   DataLoader 0\n",
      "────────────────────────────────────────────────────────────────────────────────────────────────────────────────────────\n",
      "   test_args_extraction_f1          0.5829798579216003\n",
      " test_frame_classification_f1       0.6295525431632996\n",
      "          test_loss                 0.1851096898317337\n",
      "test_trigger_identification_f1      0.4715789556503296\n",
      "────────────────────────────────────────────────────────────────────────────────────────────────────────────────────────\n"
     ]
    }
   ],
   "source": [
    "# \"test_model_frame\" is created from func \"evaluate_model\" to speed up\n",
    "from frame_semantic_transformer.training.test_model_frame import evaluate_model\n",
    "\n",
    "from frame_semantic_transformer.data.LoaderDataCache import LoaderDataCache\n",
    "from transformers import T5ForConditionalGeneration, T5TokenizerFast\n",
    "from frame_semantic_transformer.constants import DEFAULT_NUM_WORKERS, MODEL_MAX_LENGTH\n",
    "\n",
    "chosen_model_path = \"./tuned_model1_base\"\n",
    "chosen_model = T5ForConditionalGeneration.from_pretrained(chosen_model_path)\n",
    "tokenizer = T5TokenizerFast.from_pretrained(chosen_model_path, \n",
    "                                            model_max_length=MODEL_MAX_LENGTH)\n",
    "\n",
    "tl = SwedishTrainingLoader('./swefn.xml')\n",
    "il = SwedishInferenceLoader('./swefn.xml')\n",
    "lc = LoaderDataCache(il)\n",
    "\n",
    "test_results = evaluate_model(\n",
    "    chosen_model,\n",
    "    tokenizer,\n",
    "    loader_cache = lc,\n",
    "    training_loader =tl,\n",
    "    batch_size = 4,\n",
    "    num_workers = 0,\n",
    ")\n"
   ]
  },
  {
   "attachments": {},
   "cell_type": "markdown",
   "metadata": {},
   "source": [
    "## For FrameCL task:   \n",
    "Get Frame_name (target), input, output in the test set"
   ]
  },
  {
   "cell_type": "code",
   "execution_count": 302,
   "metadata": {},
   "outputs": [
    {
     "data": {
      "text/html": [
       "<div>\n",
       "<style scoped>\n",
       "    .dataframe tbody tr th:only-of-type {\n",
       "        vertical-align: middle;\n",
       "    }\n",
       "\n",
       "    .dataframe tbody tr th {\n",
       "        vertical-align: top;\n",
       "    }\n",
       "\n",
       "    .dataframe thead th {\n",
       "        text-align: right;\n",
       "    }\n",
       "</style>\n",
       "<table border=\"1\" class=\"dataframe\">\n",
       "  <thead>\n",
       "    <tr style=\"text-align: right;\">\n",
       "      <th></th>\n",
       "      <th>Frame</th>\n",
       "      <th>FrameCL_input</th>\n",
       "    </tr>\n",
       "  </thead>\n",
       "  <tbody>\n",
       "    <tr>\n",
       "      <th>0</th>\n",
       "      <td>Passing_off</td>\n",
       "      <td>FRAME Feigning Passing_off : En 32-årig man * ...</td>\n",
       "    </tr>\n",
       "    <tr>\n",
       "      <th>1</th>\n",
       "      <td>Measure_duration</td>\n",
       "      <td>FRAME Location_in_time Measure_duration Relati...</td>\n",
       "    </tr>\n",
       "    <tr>\n",
       "      <th>2</th>\n",
       "      <td>Communication_manner</td>\n",
       "      <td>FRAME Communication_manner Origin : Jag * stam...</td>\n",
       "    </tr>\n",
       "    <tr>\n",
       "      <th>3</th>\n",
       "      <td>Word_relations</td>\n",
       "      <td>FRAME Word_relations : Pojke och tös är * anto...</td>\n",
       "    </tr>\n",
       "    <tr>\n",
       "      <th>4</th>\n",
       "      <td>Emotions_of_mental_activity</td>\n",
       "      <td>FRAME Emotions_of_mental_activity Experiencer_...</td>\n",
       "    </tr>\n",
       "  </tbody>\n",
       "</table>\n",
       "</div>"
      ],
      "text/plain": [
       "                         Frame  \\\n",
       "0                  Passing_off   \n",
       "1             Measure_duration   \n",
       "2         Communication_manner   \n",
       "3               Word_relations   \n",
       "4  Emotions_of_mental_activity   \n",
       "\n",
       "                                       FrameCL_input  \n",
       "0  FRAME Feigning Passing_off : En 32-årig man * ...  \n",
       "1  FRAME Location_in_time Measure_duration Relati...  \n",
       "2  FRAME Communication_manner Origin : Jag * stam...  \n",
       "3  FRAME Word_relations : Pojke och tös är * anto...  \n",
       "4  FRAME Emotions_of_mental_activity Experiencer_...  "
      ]
     },
     "execution_count": 302,
     "metadata": {},
     "output_type": "execute_result"
    }
   ],
   "source": [
    "\n",
    "from frame_semantic_transformer.data.LoaderDataCache import LoaderDataCache\n",
    "from frame_semantic_transformer.data.tasks_from_annotated_sentences import tasks_from_annotated_sentences\n",
    "\n",
    "import pandas as pd\n",
    "\n",
    "tl = SwedishTrainingLoader('./swefn.xml')\n",
    "il = SwedishInferenceLoader('./swefn.xml')\n",
    "lc = LoaderDataCache(il)\n",
    "\n",
    "samples = tasks_from_annotated_sentences(tl.load_test_data(), lc)       \n",
    "\n",
    "# to store Frame_name of each test sample \n",
    "\n",
    "df_test_frameCL = pd.DataFrame(\n",
    "    [s.get_target(), s.get_input(), ] for s in samples if s.get_task_name() == \"frame_classification\" )\n",
    "\n",
    "df_test_frameCL.columns= [\"Frame\", \"FrameCL_input\"]\n",
    "df_test_frameCL.head()\n"
   ]
  },
  {
   "cell_type": "code",
   "execution_count": 325,
   "metadata": {},
   "outputs": [
    {
     "data": {
      "text/html": [
       "<div>\n",
       "<style scoped>\n",
       "    .dataframe tbody tr th:only-of-type {\n",
       "        vertical-align: middle;\n",
       "    }\n",
       "\n",
       "    .dataframe tbody tr th {\n",
       "        vertical-align: top;\n",
       "    }\n",
       "\n",
       "    .dataframe thead th {\n",
       "        text-align: right;\n",
       "    }\n",
       "</style>\n",
       "<table border=\"1\" class=\"dataframe\">\n",
       "  <thead>\n",
       "    <tr style=\"text-align: right;\">\n",
       "      <th></th>\n",
       "      <th>Frame</th>\n",
       "      <th>FrameCL_input</th>\n",
       "      <th>Predict_Frame</th>\n",
       "    </tr>\n",
       "  </thead>\n",
       "  <tbody>\n",
       "    <tr>\n",
       "      <th>0</th>\n",
       "      <td>Passing_off</td>\n",
       "      <td>FRAME Feigning Passing_off : En 32-årig man * ...</td>\n",
       "      <td>Passing_off</td>\n",
       "    </tr>\n",
       "    <tr>\n",
       "      <th>1</th>\n",
       "      <td>Measure_duration</td>\n",
       "      <td>FRAME Location_in_time Measure_duration Relati...</td>\n",
       "      <td>Temporal_subregion</td>\n",
       "    </tr>\n",
       "    <tr>\n",
       "      <th>2</th>\n",
       "      <td>Communication_manner</td>\n",
       "      <td>FRAME Communication_manner Origin : Jag * stam...</td>\n",
       "      <td>Communication_manner</td>\n",
       "    </tr>\n",
       "    <tr>\n",
       "      <th>3</th>\n",
       "      <td>Word_relations</td>\n",
       "      <td>FRAME Word_relations : Pojke och tös är * anto...</td>\n",
       "      <td>Word_relations</td>\n",
       "    </tr>\n",
       "    <tr>\n",
       "      <th>4</th>\n",
       "      <td>Emotions_of_mental_activity</td>\n",
       "      <td>FRAME Emotions_of_mental_activity Experiencer_...</td>\n",
       "      <td>Experiencer_obj</td>\n",
       "    </tr>\n",
       "  </tbody>\n",
       "</table>\n",
       "</div>"
      ],
      "text/plain": [
       "                         Frame  \\\n",
       "0                  Passing_off   \n",
       "1             Measure_duration   \n",
       "2         Communication_manner   \n",
       "3               Word_relations   \n",
       "4  Emotions_of_mental_activity   \n",
       "\n",
       "                                       FrameCL_input         Predict_Frame  \n",
       "0  FRAME Feigning Passing_off : En 32-årig man * ...           Passing_off  \n",
       "1  FRAME Location_in_time Measure_duration Relati...    Temporal_subregion  \n",
       "2  FRAME Communication_manner Origin : Jag * stam...  Communication_manner  \n",
       "3  FRAME Word_relations : Pojke och tös är * anto...        Word_relations  \n",
       "4  FRAME Emotions_of_mental_activity Experiencer_...       Experiencer_obj  "
      ]
     },
     "execution_count": 325,
     "metadata": {},
     "output_type": "execute_result"
    }
   ],
   "source": [
    "\n",
    "from frame_semantic_transformer.data.LoaderDataCache import LoaderDataCache\n",
    "from frame_semantic_transformer.data.tasks_from_annotated_sentences import tasks_from_annotated_sentences\n",
    "\n",
    "from transformers import T5ForConditionalGeneration, T5TokenizerFast\n",
    "from frame_semantic_transformer.constants import MODEL_MAX_LENGTH\n",
    "\n",
    "from frame_semantic_transformer.predict import batch_predict\n",
    "\n",
    "import pandas as pd\n",
    "\n",
    "tl = SwedishTrainingLoader('./swefn.xml')\n",
    "il = SwedishInferenceLoader('./swefn.xml')\n",
    "lc = LoaderDataCache(il)\n",
    "\n",
    "samples = tasks_from_annotated_sentences(tl.load_test_data(), lc)     \n",
    "\n",
    "\n",
    "chosen_model_path = \"./tuned_model1_small\"\n",
    "chosen_model = T5ForConditionalGeneration.from_pretrained(chosen_model_path)\n",
    "chosen_tokenizer = T5TokenizerFast.from_pretrained(chosen_model_path, \n",
    "                                            model_max_length=MODEL_MAX_LENGTH)\n",
    "\n",
    "# to store Frame_name of each test sample \n",
    "df_test_frameCL = pd.DataFrame(\n",
    "    [s.get_target(), \n",
    "     s.get_input(), \n",
    "     batch_predict(chosen_model,  chosen_tokenizer, s.get_input(), num_beams=5, num_return_sequences=1)[0]\n",
    "     ] for s in samples if s.get_task_name() == \"frame_classification\" )\n",
    "\n",
    "df_test_frameCL.columns= [\"Frame\", \"FrameCL_input\", \"Predict_Frame\"]\n",
    "df_test_frameCL.head()\n"
   ]
  },
  {
   "cell_type": "code",
   "execution_count": 373,
   "metadata": {},
   "outputs": [
    {
     "data": {
      "text/html": [
       "<div>\n",
       "<style scoped>\n",
       "    .dataframe tbody tr th:only-of-type {\n",
       "        vertical-align: middle;\n",
       "    }\n",
       "\n",
       "    .dataframe tbody tr th {\n",
       "        vertical-align: top;\n",
       "    }\n",
       "\n",
       "    .dataframe thead th {\n",
       "        text-align: right;\n",
       "    }\n",
       "</style>\n",
       "<table border=\"1\" class=\"dataframe\">\n",
       "  <thead>\n",
       "    <tr style=\"text-align: right;\">\n",
       "      <th></th>\n",
       "      <th>Frame</th>\n",
       "      <th>FrameCL_input</th>\n",
       "      <th>Predict_Frame</th>\n",
       "      <th>FrameCL_test_f1</th>\n",
       "    </tr>\n",
       "  </thead>\n",
       "  <tbody>\n",
       "    <tr>\n",
       "      <th>0</th>\n",
       "      <td>Passing_off</td>\n",
       "      <td>FRAME Feigning Passing_off : En 32-årig man * ...</td>\n",
       "      <td>Passing_off</td>\n",
       "      <td>True</td>\n",
       "    </tr>\n",
       "    <tr>\n",
       "      <th>1</th>\n",
       "      <td>Measure_duration</td>\n",
       "      <td>FRAME Location_in_time Measure_duration Relati...</td>\n",
       "      <td>Temporal_subregion</td>\n",
       "      <td>False</td>\n",
       "    </tr>\n",
       "    <tr>\n",
       "      <th>2</th>\n",
       "      <td>Communication_manner</td>\n",
       "      <td>FRAME Communication_manner Origin : Jag * stam...</td>\n",
       "      <td>Communication_manner</td>\n",
       "      <td>True</td>\n",
       "    </tr>\n",
       "    <tr>\n",
       "      <th>3</th>\n",
       "      <td>Word_relations</td>\n",
       "      <td>FRAME Word_relations : Pojke och tös är * anto...</td>\n",
       "      <td>Word_relations</td>\n",
       "      <td>True</td>\n",
       "    </tr>\n",
       "    <tr>\n",
       "      <th>4</th>\n",
       "      <td>Emotions_of_mental_activity</td>\n",
       "      <td>FRAME Emotions_of_mental_activity Experiencer_...</td>\n",
       "      <td>Experiencer_obj</td>\n",
       "      <td>False</td>\n",
       "    </tr>\n",
       "  </tbody>\n",
       "</table>\n",
       "</div>"
      ],
      "text/plain": [
       "                         Frame  \\\n",
       "0                  Passing_off   \n",
       "1             Measure_duration   \n",
       "2         Communication_manner   \n",
       "3               Word_relations   \n",
       "4  Emotions_of_mental_activity   \n",
       "\n",
       "                                       FrameCL_input         Predict_Frame  \\\n",
       "0  FRAME Feigning Passing_off : En 32-årig man * ...           Passing_off   \n",
       "1  FRAME Location_in_time Measure_duration Relati...    Temporal_subregion   \n",
       "2  FRAME Communication_manner Origin : Jag * stam...  Communication_manner   \n",
       "3  FRAME Word_relations : Pojke och tös är * anto...        Word_relations   \n",
       "4  FRAME Emotions_of_mental_activity Experiencer_...       Experiencer_obj   \n",
       "\n",
       "   FrameCL_test_f1  \n",
       "0             True  \n",
       "1            False  \n",
       "2             True  \n",
       "3             True  \n",
       "4            False  "
      ]
     },
     "execution_count": 373,
     "metadata": {},
     "output_type": "execute_result"
    }
   ],
   "source": [
    "df_test_frameCL[\"FrameCL_test_f1\"] = df_test_frameCL[\"Predict_Frame\"] == df_test_frameCL[\"Frame\"]\n",
    "df_test_frameCL.head()"
   ]
  },
  {
   "attachments": {},
   "cell_type": "markdown",
   "metadata": {},
   "source": [
    "Group by frame, and sort by F1 score"
   ]
  },
  {
   "cell_type": "code",
   "execution_count": 374,
   "metadata": {},
   "outputs": [
    {
     "data": {
      "text/html": [
       "<div>\n",
       "<style scoped>\n",
       "    .dataframe tbody tr th:only-of-type {\n",
       "        vertical-align: middle;\n",
       "    }\n",
       "\n",
       "    .dataframe tbody tr th {\n",
       "        vertical-align: top;\n",
       "    }\n",
       "\n",
       "    .dataframe thead th {\n",
       "        text-align: right;\n",
       "    }\n",
       "</style>\n",
       "<table border=\"1\" class=\"dataframe\">\n",
       "  <thead>\n",
       "    <tr style=\"text-align: right;\">\n",
       "      <th></th>\n",
       "      <th>Frame</th>\n",
       "      <th>FrameCL_test_f1</th>\n",
       "    </tr>\n",
       "  </thead>\n",
       "  <tbody>\n",
       "    <tr>\n",
       "      <th>0</th>\n",
       "      <td>Passing_off</td>\n",
       "      <td>True</td>\n",
       "    </tr>\n",
       "    <tr>\n",
       "      <th>1</th>\n",
       "      <td>Measure_duration</td>\n",
       "      <td>False</td>\n",
       "    </tr>\n",
       "    <tr>\n",
       "      <th>2</th>\n",
       "      <td>Communication_manner</td>\n",
       "      <td>True</td>\n",
       "    </tr>\n",
       "    <tr>\n",
       "      <th>3</th>\n",
       "      <td>Word_relations</td>\n",
       "      <td>True</td>\n",
       "    </tr>\n",
       "    <tr>\n",
       "      <th>4</th>\n",
       "      <td>Emotions_of_mental_activity</td>\n",
       "      <td>False</td>\n",
       "    </tr>\n",
       "  </tbody>\n",
       "</table>\n",
       "</div>"
      ],
      "text/plain": [
       "                         Frame  FrameCL_test_f1\n",
       "0                  Passing_off             True\n",
       "1             Measure_duration            False\n",
       "2         Communication_manner             True\n",
       "3               Word_relations             True\n",
       "4  Emotions_of_mental_activity            False"
      ]
     },
     "execution_count": 374,
     "metadata": {},
     "output_type": "execute_result"
    }
   ],
   "source": [
    "df_frameCL_f1 = df_test_frameCL.loc[:,[\"Frame\",\"FrameCL_test_f1\"]]\n",
    "df_frameCL_f1.head()"
   ]
  },
  {
   "cell_type": "code",
   "execution_count": 375,
   "metadata": {},
   "outputs": [
    {
     "data": {
      "text/html": [
       "<div>\n",
       "<style scoped>\n",
       "    .dataframe tbody tr th:only-of-type {\n",
       "        vertical-align: middle;\n",
       "    }\n",
       "\n",
       "    .dataframe tbody tr th {\n",
       "        vertical-align: top;\n",
       "    }\n",
       "\n",
       "    .dataframe thead th {\n",
       "        text-align: right;\n",
       "    }\n",
       "</style>\n",
       "<table border=\"1\" class=\"dataframe\">\n",
       "  <thead>\n",
       "    <tr style=\"text-align: right;\">\n",
       "      <th></th>\n",
       "      <th>Frame</th>\n",
       "      <th>FrameCL_test_f1</th>\n",
       "    </tr>\n",
       "  </thead>\n",
       "  <tbody>\n",
       "    <tr>\n",
       "      <th>0</th>\n",
       "      <td>Abandonment</td>\n",
       "      <td>0.500000</td>\n",
       "    </tr>\n",
       "    <tr>\n",
       "      <th>1</th>\n",
       "      <td>Abundance</td>\n",
       "      <td>1.000000</td>\n",
       "    </tr>\n",
       "    <tr>\n",
       "      <th>2</th>\n",
       "      <td>Abusing</td>\n",
       "      <td>0.666667</td>\n",
       "    </tr>\n",
       "    <tr>\n",
       "      <th>3</th>\n",
       "      <td>Accomplishment</td>\n",
       "      <td>0.000000</td>\n",
       "    </tr>\n",
       "    <tr>\n",
       "      <th>4</th>\n",
       "      <td>Accoutrements</td>\n",
       "      <td>1.000000</td>\n",
       "    </tr>\n",
       "  </tbody>\n",
       "</table>\n",
       "</div>"
      ],
      "text/plain": [
       "            Frame  FrameCL_test_f1\n",
       "0     Abandonment         0.500000\n",
       "1       Abundance         1.000000\n",
       "2         Abusing         0.666667\n",
       "3  Accomplishment         0.000000\n",
       "4   Accoutrements         1.000000"
      ]
     },
     "execution_count": 375,
     "metadata": {},
     "output_type": "execute_result"
    }
   ],
   "source": [
    "grouped_frameCL_f1 = df_frameCL_f1.groupby(\"Frame\", as_index=False).mean()\n",
    "grouped_frameCL_f1.head()\n"
   ]
  },
  {
   "cell_type": "code",
   "execution_count": 377,
   "metadata": {},
   "outputs": [
    {
     "data": {
      "text/html": [
       "<div>\n",
       "<style scoped>\n",
       "    .dataframe tbody tr th:only-of-type {\n",
       "        vertical-align: middle;\n",
       "    }\n",
       "\n",
       "    .dataframe tbody tr th {\n",
       "        vertical-align: top;\n",
       "    }\n",
       "\n",
       "    .dataframe thead th {\n",
       "        text-align: right;\n",
       "    }\n",
       "</style>\n",
       "<table border=\"1\" class=\"dataframe\">\n",
       "  <thead>\n",
       "    <tr style=\"text-align: right;\">\n",
       "      <th></th>\n",
       "      <th>Frame</th>\n",
       "      <th>FrameCL_test_f1</th>\n",
       "    </tr>\n",
       "  </thead>\n",
       "  <tbody>\n",
       "    <tr>\n",
       "      <th>270</th>\n",
       "      <td>Immobilization</td>\n",
       "      <td>1.0</td>\n",
       "    </tr>\n",
       "    <tr>\n",
       "      <th>269</th>\n",
       "      <td>Imitating</td>\n",
       "      <td>1.0</td>\n",
       "    </tr>\n",
       "    <tr>\n",
       "      <th>311</th>\n",
       "      <td>Locale_by_use</td>\n",
       "      <td>1.0</td>\n",
       "    </tr>\n",
       "    <tr>\n",
       "      <th>309</th>\n",
       "      <td>Locale</td>\n",
       "      <td>1.0</td>\n",
       "    </tr>\n",
       "    <tr>\n",
       "      <th>308</th>\n",
       "      <td>Lively_place</td>\n",
       "      <td>1.0</td>\n",
       "    </tr>\n",
       "    <tr>\n",
       "      <th>...</th>\n",
       "      <td>...</td>\n",
       "      <td>...</td>\n",
       "    </tr>\n",
       "    <tr>\n",
       "      <th>342</th>\n",
       "      <td>Motion</td>\n",
       "      <td>0.0</td>\n",
       "    </tr>\n",
       "    <tr>\n",
       "      <th>343</th>\n",
       "      <td>Moving_in_place</td>\n",
       "      <td>0.0</td>\n",
       "    </tr>\n",
       "    <tr>\n",
       "      <th>344</th>\n",
       "      <td>Natural_features</td>\n",
       "      <td>0.0</td>\n",
       "    </tr>\n",
       "    <tr>\n",
       "      <th>345</th>\n",
       "      <td>Needing</td>\n",
       "      <td>0.0</td>\n",
       "    </tr>\n",
       "    <tr>\n",
       "      <th>95</th>\n",
       "      <td>Cause_to_amalgamate</td>\n",
       "      <td>0.0</td>\n",
       "    </tr>\n",
       "  </tbody>\n",
       "</table>\n",
       "<p>541 rows × 2 columns</p>\n",
       "</div>"
      ],
      "text/plain": [
       "                   Frame  FrameCL_test_f1\n",
       "270       Immobilization              1.0\n",
       "269            Imitating              1.0\n",
       "311        Locale_by_use              1.0\n",
       "309               Locale              1.0\n",
       "308         Lively_place              1.0\n",
       "..                   ...              ...\n",
       "342               Motion              0.0\n",
       "343      Moving_in_place              0.0\n",
       "344     Natural_features              0.0\n",
       "345              Needing              0.0\n",
       "95   Cause_to_amalgamate              0.0\n",
       "\n",
       "[541 rows x 2 columns]"
      ]
     },
     "execution_count": 377,
     "metadata": {},
     "output_type": "execute_result"
    }
   ],
   "source": [
    "sort_frameCL_f1 = grouped_frameCL_f1.sort_values(\"FrameCL_test_f1\", ascending=False, inplace= False)\n",
    "sort_frameCL_f1"
   ]
  },
  {
   "cell_type": "code",
   "execution_count": null,
   "metadata": {},
   "outputs": [],
   "source": []
  },
  {
   "attachments": {},
   "cell_type": "markdown",
   "metadata": {},
   "source": [
    "The frames that suits best or worst for the training are the frames: "
   ]
  },
  {
   "cell_type": "code",
   "execution_count": 404,
   "metadata": {},
   "outputs": [
    {
     "data": {
      "text/plain": [
       "307                 Limitation\n",
       "294              Judicial_body\n",
       "314                  Losing_it\n",
       "178                   Dynamism\n",
       "199             Event_instance\n",
       "247                      Gizmo\n",
       "487     Subjective_temperature\n",
       "460        Serving_in_capacity\n",
       "495               Surrendering\n",
       "496    Surrendering_possession\n",
       "524                 Typicality\n",
       "395             Process_resume\n",
       "449                    Robbery\n",
       "134        Commutative_process\n",
       "140         Conferring_benefit\n",
       "89               Cause_emotion\n",
       "60          Being_questionable\n",
       "Name: Frame, dtype: object"
      ]
     },
     "execution_count": 404,
     "metadata": {},
     "output_type": "execute_result"
    }
   ],
   "source": [
    "# frames < 3 samples but f1 = 1\n",
    "\n",
    "easy_frame = sort_frameCL_f1[(sort_frameCL_f1[\"num_train_samples\"]<3) & (sort_frameCL_f1[\"FrameCL_test_f1\"]==1)][\"Frame\"]\n",
    "easy_frame"
   ]
  },
  {
   "cell_type": "code",
   "execution_count": 425,
   "metadata": {},
   "outputs": [
    {
     "data": {
      "text/plain": [
       "359           Part_ordered_segments\n",
       "358                Part_inner_outer\n",
       "318                      Make_noise\n",
       "231                          Firing\n",
       "425    Relational_political_locales\n",
       "387                      Predicting\n",
       "120                         Closure\n",
       "364                   Path_traveled\n",
       "400         Proliferating_in_number\n",
       "431                        Removing\n",
       "471                    Simultaneity\n",
       "227                         Filling\n",
       "252                        Grooming\n",
       "378                Point_of_dispute\n",
       "92                     Cause_motion\n",
       "Name: Frame, dtype: object"
      ]
     },
     "execution_count": 425,
     "metadata": {},
     "output_type": "execute_result"
    }
   ],
   "source": [
    "# frames >20 samples but f1 < 0.6\n",
    "\n",
    "hard_frame = sort_frameCL_f1[(sort_frameCL_f1[\"num_train_samples\"]>20) & (sort_frameCL_f1[\"FrameCL_test_f1\"]<0.6)][\"Frame\"]\n",
    "hard_frame"
   ]
  },
  {
   "cell_type": "code",
   "execution_count": 411,
   "metadata": {},
   "outputs": [
    {
     "data": {
      "text/plain": [
       "851    FRAME Limitation : Metodens största * begränsn...\n",
       "Name: FrameCL_input, dtype: object"
      ]
     },
     "execution_count": 411,
     "metadata": {},
     "output_type": "execute_result"
    }
   ],
   "source": [
    "df_select = df_test_frameCL[df_test_frameCL[\"Frame\"] == \"Limitation\"]\n",
    "df_select['FrameCL_input']"
   ]
  },
  {
   "cell_type": "code",
   "execution_count": 414,
   "metadata": {},
   "outputs": [
    {
     "name": "stdout",
     "output_type": "stream",
     "text": [
      "FrameCL_input:  851    FRAME Limitation : Metodens största * begränsn...\n",
      "Name: FrameCL_input, dtype: object\n",
      "FrameCL_input:  376    FRAME Judicial_body : De tre anklagade ansåg s...\n",
      "Name: FrameCL_input, dtype: object\n",
      "FrameCL_input:  239    FRAME Breaking_apart Losing_it : Igår höll jag...\n",
      "Name: FrameCL_input, dtype: object\n",
      "FrameCL_input:  232    FRAME Dynamism : Hela tiden kontrasterar Phile...\n",
      "Name: FrameCL_input, dtype: object\n",
      "FrameCL_input:  561    FRAME Being_operational Commutative_statement ...\n",
      "Name: FrameCL_input, dtype: object\n",
      "FrameCL_input:  629    FRAME Gizmo : Bussarna är försedda med en * ut...\n",
      "863    FRAME Gizmo : Det finns nämligen en * mojäng s...\n",
      "Name: FrameCL_input, dtype: object\n",
      "FrameCL_input:  919    FRAME Subjective_temperature Temperature : Ell...\n",
      "Name: FrameCL_input, dtype: object\n",
      "FrameCL_input:  168    FRAME Assistance Attention_getting Earnings_an...\n",
      "Name: FrameCL_input, dtype: object\n",
      "FrameCL_input:  404    FRAME Surrendering Passing Surrendering_posses...\n",
      "Name: FrameCL_input, dtype: object\n",
      "FrameCL_input:  425    FRAME Surrendering_possession Withdraw_from_pa...\n",
      "Name: FrameCL_input, dtype: object\n",
      "FrameCL_input:  706    FRAME Typicality : - Det är en högst * ordinär...\n",
      "Name: FrameCL_input, dtype: object\n",
      "FrameCL_input:  649    FRAME Process_resume : Men löneförhandlingarna...\n",
      "Name: FrameCL_input, dtype: object\n",
      "FrameCL_input:  846    FRAME Food Robbery : Två yngre killar * rånar ...\n",
      "Name: FrameCL_input, dtype: object\n",
      "FrameCL_input:  699    FRAME Commutative_process : Hos zinketyl med k...\n",
      "909    FRAME Commutative_process : Jag var just inne ...\n",
      "Name: FrameCL_input, dtype: object\n",
      "FrameCL_input:  429    FRAME Conferring_benefit : Inom den tibetanska...\n",
      "Name: FrameCL_input, dtype: object\n",
      "FrameCL_input:  938    FRAME Cause_emotion : Nutidens kampanjer går u...\n",
      "Name: FrameCL_input, dtype: object\n",
      "FrameCL_input:  553    FRAME Being_questionable : Ekots allvarliga an...\n",
      "Name: FrameCL_input, dtype: object\n"
     ]
    }
   ],
   "source": [
    "for easyF in easy_frame:\n",
    "    df_select = df_test_frameCL[df_test_frameCL[\"Frame\"] == easyF]\n",
    "    input = df_select['FrameCL_input']\n",
    "    # predict = df_select['Predict_Frame ']\n",
    "    print(f'FrameCL_input:  {input}')"
   ]
  },
  {
   "cell_type": "code",
   "execution_count": 415,
   "metadata": {},
   "outputs": [
    {
     "data": {
      "text/html": [
       "<div>\n",
       "<style scoped>\n",
       "    .dataframe tbody tr th:only-of-type {\n",
       "        vertical-align: middle;\n",
       "    }\n",
       "\n",
       "    .dataframe tbody tr th {\n",
       "        vertical-align: top;\n",
       "    }\n",
       "\n",
       "    .dataframe thead th {\n",
       "        text-align: right;\n",
       "    }\n",
       "</style>\n",
       "<table border=\"1\" class=\"dataframe\">\n",
       "  <thead>\n",
       "    <tr style=\"text-align: right;\">\n",
       "      <th></th>\n",
       "      <th>Frame</th>\n",
       "      <th>FrameCL_input</th>\n",
       "      <th>Predict_Frame</th>\n",
       "      <th>FrameCL_test_f1</th>\n",
       "    </tr>\n",
       "  </thead>\n",
       "  <tbody>\n",
       "    <tr>\n",
       "      <th>561</th>\n",
       "      <td>Event_instance</td>\n",
       "      <td>FRAME Being_operational Commutative_statement ...</td>\n",
       "      <td>Event_instance</td>\n",
       "      <td>True</td>\n",
       "    </tr>\n",
       "  </tbody>\n",
       "</table>\n",
       "</div>"
      ],
      "text/plain": [
       "              Frame                                      FrameCL_input  \\\n",
       "561  Event_instance  FRAME Being_operational Commutative_statement ...   \n",
       "\n",
       "      Predict_Frame  FrameCL_test_f1  \n",
       "561  Event_instance             True  "
      ]
     },
     "execution_count": 415,
     "metadata": {},
     "output_type": "execute_result"
    }
   ],
   "source": [
    "df_select = df_test_frameCL[df_test_frameCL[\"Frame\"] ==\"Event_instance\" ]\n",
    "df_select"
   ]
  },
  {
   "cell_type": "code",
   "execution_count": 428,
   "metadata": {},
   "outputs": [
    {
     "name": "stdout",
     "output_type": "stream",
     "text": [
      "FrameCL_input:  122    FRAME  : Det är svenskt i topp i första *åket ...\n",
      "227    FRAME Cause_harm Part_ordered_segments : Sex o...\n",
      "Name: FrameCL_input, dtype: object\n",
      "frame_gold:  Part_ordered_segments\n",
      "predict:  122         Point_of_dispute\n",
      "227    Part_ordered_segments\n",
      "Name: Predict_Frame, dtype: object\n",
      "FrameCL_input:  284    FRAME Part_inner_outer Temporal_subregion : Ti...\n",
      "932    FRAME Emptying Part_inner_outer : Av sköldpadd...\n",
      "Name: FrameCL_input, dtype: object\n",
      "frame_gold:  Part_inner_outer\n",
      "predict:  284    Temporal_subregion\n",
      "932      Part_inner_outer\n",
      "Name: Predict_Frame, dtype: object\n",
      "FrameCL_input:  437    FRAME Besieging Communication Communication_me...\n",
      "601    FRAME Besieging Communication Communication_me...\n",
      "Name: FrameCL_input, dtype: object\n",
      "frame_gold:  Make_noise\n",
      "predict:  437     Besieging\n",
      "601    Make_noise\n",
      "Name: Predict_Frame, dtype: object\n",
      "FrameCL_input:  594    FRAME  : Han säger att hans statligt drivna fö...\n",
      "828    FRAME Firing : Handikappet bedömdes så allvarl...\n",
      "Name: FrameCL_input, dtype: object\n",
      "frame_gold:  Firing\n",
      "predict:  594    Cause_to_start\n",
      "828            Firing\n",
      "Name: Predict_Frame, dtype: object\n",
      "FrameCL_input:  34     FRAME  : Vapenarsenalen, som skyddades av mino...\n",
      "171    FRAME Relational_political_locales : Nästan al...\n",
      "296    FRAME Relational_political_locales : Bergen är...\n",
      "297    FRAME Relational_political_locales : Bergen är...\n",
      "298    FRAME  : Bergen är centralort i Bergens kommun...\n",
      "435    FRAME  : När biskop Henrik dog år 1066 flyttad...\n",
      "Name: FrameCL_input, dtype: object\n",
      "frame_gold:  Relational_political_locales\n",
      "predict:  34                       Part_whole\n",
      "171    Relational_political_locales\n",
      "296    Relational_political_locales\n",
      "297    Relational_political_locales\n",
      "298                   Locale_by_use\n",
      "435                   Locale_by_use\n",
      "Name: Predict_Frame, dtype: object\n",
      "FrameCL_input:  72     FRAME  : Galluparna * förutspår valframgång fö...\n",
      "276    FRAME  : Roselius tillägger att det funnits de...\n",
      "304    FRAME Predicting : Nybond vågar inte * sia om ...\n",
      "358    FRAME  : VD Mats Jansson * spådde vid stämman ...\n",
      "534    FRAME Predicting : Ingar Storm, denna fantasti...\n",
      "809    FRAME  : Moderator under kvällen som arrangöre...\n",
      "Name: FrameCL_input, dtype: object\n",
      "frame_gold:  Predicting\n",
      "predict:  72     Cause_to_make_progress\n",
      "276           Experiencer_obj\n",
      "304                Predicting\n",
      "358     Perception_experience\n",
      "534                Predicting\n",
      "809                Predicting\n",
      "Name: Predict_Frame, dtype: object\n",
      "FrameCL_input:  382    FRAME  : För att övervaka * slutna områden ino...\n",
      "474    FRAME Closure : Nu har syrran * sabrerat en Ta...\n",
      "Name: FrameCL_input, dtype: object\n",
      "frame_gold:  Closure\n",
      "predict:  382    Cause_to_fragment\n",
      "474              Closure\n",
      "Name: Predict_Frame, dtype: object\n",
      "FrameCL_input:  178    FRAME Path_traveled : Murakami och John Irving...\n",
      "491    FRAME  : * Omloppsbanan runt jorden kommer att...\n",
      "510    FRAME Killing Leadership Path_traveled Roadway...\n",
      "527    FRAME Path_traveled : Det var en explosion av ...\n",
      "Name: FrameCL_input, dtype: object\n",
      "frame_gold:  Path_traveled\n",
      "predict:  178    Path_traveled\n",
      "491       Path_shape\n",
      "510         Roadways\n",
      "527    Path_traveled\n",
      "Name: Predict_Frame, dtype: object\n",
      "FrameCL_input:  62     FRAME Diversity Duplication Proliferating_in_n...\n",
      "87     FRAME  : Försäljningen av äpplen *ökade med en...\n",
      "808    FRAME Cause_change_of_position_on_a_scale_decr...\n",
      "Name: FrameCL_input, dtype: object\n",
      "frame_gold:  Proliferating_in_number\n",
      "predict:  62     Proliferating_in_number\n",
      "87               Expansion_mod\n",
      "808          Cause_contraction\n",
      "Name: Predict_Frame, dtype: object\n",
      "FrameCL_input:  283    FRAME Removing Judgment Placing Sent_items : V...\n",
      "352    FRAME Emptying Removing : Nu ska jag * tvätta ...\n",
      "390    FRAME Emptying Removing : Byalaget har * rensa...\n",
      "466    FRAME Emptying Removing Animals Grooming : Sed...\n",
      "824    FRAME Removing Reveal_secret Social_event : De...\n",
      "825    FRAME Accoutrements : Deras mål är att röja si...\n",
      "Name: FrameCL_input, dtype: object\n",
      "frame_gold:  Removing\n",
      "predict:  283         Removing\n",
      "352         Emptying\n",
      "390         Emptying\n",
      "466         Emptying\n",
      "824         Removing\n",
      "825    Accoutrements\n",
      "Name: Predict_Frame, dtype: object\n",
      "FrameCL_input:  295    FRAME  : Synen var, summa summarum, en kollekt...\n",
      "424    FRAME  : En förklaring är att rationaliseringa...\n",
      "431    FRAME  : Speros blandteknikbilder med collage ...\n",
      "459    FRAME Simultaneity Circumscribed_existence Eve...\n",
      "811    FRAME Simultaneity Circumscribed_existence Eve...\n",
      "936    FRAME Simultaneity : Bland sångarna lagras stä...\n",
      "Name: FrameCL_input, dtype: object\n",
      "frame_gold:  Simultaneity\n",
      "predict:  295         Part_whole\n",
      "424       Amalgamation\n",
      "431    Color_qualities\n",
      "459       simultaneity\n",
      "811       Simultaneity\n",
      "936       Simultaneity\n",
      "Name: Predict_Frame, dtype: object\n",
      "FrameCL_input:  165    FRAME Administration_of_medication_conveyance ...\n",
      "202    FRAME Cause_to_fragment Event Filling Beat_opp...\n",
      "379    FRAME Corporal_punishment Filling Rite Substan...\n",
      "380    FRAME  : Jag smörjer dem, och * beströr dem of...\n",
      "Name: FrameCL_input, dtype: object\n",
      "frame_gold:  Filling\n",
      "predict:  165     Erasing\n",
      "202     Filling\n",
      "379        Rite\n",
      "380    Emptying\n",
      "Name: Predict_Frame, dtype: object\n",
      "FrameCL_input:  67     FRAME Family_name Hair_configuration Reshaping...\n",
      "191    FRAME Grooming Building_subparts Scouring : Ha...\n",
      "331    FRAME  : Har lagt alla kläder i tvättkorgen oc...\n",
      "Name: FrameCL_input, dtype: object\n",
      "frame_gold:  Grooming\n",
      "predict:  67     Hair_configuration\n",
      "191              Scouring\n",
      "331            Cause_harm\n",
      "Name: Predict_Frame, dtype: object\n",
      "FrameCL_input:  121    FRAME  : Jag vet inte om Zizek menar att * pro...\n",
      "Name: FrameCL_input, dtype: object\n",
      "frame_gold:  Point_of_dispute\n",
      "predict:  121    Expertise_negative\n",
      "Name: Predict_Frame, dtype: object\n",
      "FrameCL_input:  245    FRAME  : Den * bortvältrade stenen, den tomma ...\n",
      "Name: FrameCL_input, dtype: object\n",
      "frame_gold:  Cause_motion\n",
      "predict:  245    Part_whole\n",
      "Name: Predict_Frame, dtype: object\n"
     ]
    }
   ],
   "source": [
    "for hardF in hard_frame:\n",
    "    df_select = df_test_frameCL[df_test_frameCL[\"Frame\"] == hardF]\n",
    "    input = df_select['FrameCL_input']\n",
    "    predict = df_select['Predict_Frame']\n",
    "    print(f'FrameCL_input:  {input}')\n",
    "    print(f'frame_gold:  {hardF}')\n",
    "    print(f'predict:  {predict}')"
   ]
  },
  {
   "cell_type": "code",
   "execution_count": null,
   "metadata": {},
   "outputs": [],
   "source": []
  },
  {
   "cell_type": "code",
   "execution_count": null,
   "metadata": {},
   "outputs": [],
   "source": []
  },
  {
   "attachments": {},
   "cell_type": "markdown",
   "metadata": {},
   "source": [
    "Create Graphs ---- FrameCL\n",
    "\n",
    "NOTE: 1039 seen frames during the training, but 541 are tested"
   ]
  },
  {
   "cell_type": "code",
   "execution_count": 395,
   "metadata": {},
   "outputs": [
    {
     "data": {
      "text/html": [
       "<div>\n",
       "<style scoped>\n",
       "    .dataframe tbody tr th:only-of-type {\n",
       "        vertical-align: middle;\n",
       "    }\n",
       "\n",
       "    .dataframe tbody tr th {\n",
       "        vertical-align: top;\n",
       "    }\n",
       "\n",
       "    .dataframe thead th {\n",
       "        text-align: right;\n",
       "    }\n",
       "</style>\n",
       "<table border=\"1\" class=\"dataframe\">\n",
       "  <thead>\n",
       "    <tr style=\"text-align: right;\">\n",
       "      <th></th>\n",
       "      <th>Frame</th>\n",
       "      <th>FrameCL_test_f1</th>\n",
       "      <th>num_train_samples</th>\n",
       "    </tr>\n",
       "  </thead>\n",
       "  <tbody>\n",
       "    <tr>\n",
       "      <th>270</th>\n",
       "      <td>Immobilization</td>\n",
       "      <td>1.0</td>\n",
       "      <td>5</td>\n",
       "    </tr>\n",
       "    <tr>\n",
       "      <th>269</th>\n",
       "      <td>Imitating</td>\n",
       "      <td>1.0</td>\n",
       "      <td>3</td>\n",
       "    </tr>\n",
       "    <tr>\n",
       "      <th>311</th>\n",
       "      <td>Locale_by_use</td>\n",
       "      <td>1.0</td>\n",
       "      <td>11</td>\n",
       "    </tr>\n",
       "    <tr>\n",
       "      <th>309</th>\n",
       "      <td>Locale</td>\n",
       "      <td>1.0</td>\n",
       "      <td>7</td>\n",
       "    </tr>\n",
       "    <tr>\n",
       "      <th>308</th>\n",
       "      <td>Lively_place</td>\n",
       "      <td>1.0</td>\n",
       "      <td>10</td>\n",
       "    </tr>\n",
       "    <tr>\n",
       "      <th>...</th>\n",
       "      <td>...</td>\n",
       "      <td>...</td>\n",
       "      <td>...</td>\n",
       "    </tr>\n",
       "    <tr>\n",
       "      <th>342</th>\n",
       "      <td>Motion</td>\n",
       "      <td>0.0</td>\n",
       "      <td>13</td>\n",
       "    </tr>\n",
       "    <tr>\n",
       "      <th>343</th>\n",
       "      <td>Moving_in_place</td>\n",
       "      <td>0.0</td>\n",
       "      <td>11</td>\n",
       "    </tr>\n",
       "    <tr>\n",
       "      <th>344</th>\n",
       "      <td>Natural_features</td>\n",
       "      <td>0.0</td>\n",
       "      <td>5</td>\n",
       "    </tr>\n",
       "    <tr>\n",
       "      <th>345</th>\n",
       "      <td>Needing</td>\n",
       "      <td>0.0</td>\n",
       "      <td>9</td>\n",
       "    </tr>\n",
       "    <tr>\n",
       "      <th>95</th>\n",
       "      <td>Cause_to_amalgamate</td>\n",
       "      <td>0.0</td>\n",
       "      <td>7</td>\n",
       "    </tr>\n",
       "  </tbody>\n",
       "</table>\n",
       "<p>541 rows × 3 columns</p>\n",
       "</div>"
      ],
      "text/plain": [
       "                   Frame  FrameCL_test_f1  num_train_samples\n",
       "270       Immobilization              1.0                  5\n",
       "269            Imitating              1.0                  3\n",
       "311        Locale_by_use              1.0                 11\n",
       "309               Locale              1.0                  7\n",
       "308         Lively_place              1.0                 10\n",
       "..                   ...              ...                ...\n",
       "342               Motion              0.0                 13\n",
       "343      Moving_in_place              0.0                 11\n",
       "344     Natural_features              0.0                  5\n",
       "345              Needing              0.0                  9\n",
       "95   Cause_to_amalgamate              0.0                  7\n",
       "\n",
       "[541 rows x 3 columns]"
      ]
     },
     "execution_count": 395,
     "metadata": {},
     "output_type": "execute_result"
    }
   ],
   "source": [
    "sort_frameCL_f1[]"
   ]
  },
  {
   "cell_type": "code",
   "execution_count": 379,
   "metadata": {},
   "outputs": [
    {
     "data": {
      "text/html": [
       "<div>\n",
       "<style scoped>\n",
       "    .dataframe tbody tr th:only-of-type {\n",
       "        vertical-align: middle;\n",
       "    }\n",
       "\n",
       "    .dataframe tbody tr th {\n",
       "        vertical-align: top;\n",
       "    }\n",
       "\n",
       "    .dataframe thead th {\n",
       "        text-align: right;\n",
       "    }\n",
       "</style>\n",
       "<table border=\"1\" class=\"dataframe\">\n",
       "  <thead>\n",
       "    <tr style=\"text-align: right;\">\n",
       "      <th></th>\n",
       "      <th>Frame</th>\n",
       "      <th>FrameCL_test_f1</th>\n",
       "      <th>num_train_samples</th>\n",
       "    </tr>\n",
       "  </thead>\n",
       "  <tbody>\n",
       "    <tr>\n",
       "      <th>270</th>\n",
       "      <td>Immobilization</td>\n",
       "      <td>1.0</td>\n",
       "      <td>5</td>\n",
       "    </tr>\n",
       "    <tr>\n",
       "      <th>269</th>\n",
       "      <td>Imitating</td>\n",
       "      <td>1.0</td>\n",
       "      <td>3</td>\n",
       "    </tr>\n",
       "    <tr>\n",
       "      <th>311</th>\n",
       "      <td>Locale_by_use</td>\n",
       "      <td>1.0</td>\n",
       "      <td>11</td>\n",
       "    </tr>\n",
       "    <tr>\n",
       "      <th>309</th>\n",
       "      <td>Locale</td>\n",
       "      <td>1.0</td>\n",
       "      <td>7</td>\n",
       "    </tr>\n",
       "    <tr>\n",
       "      <th>308</th>\n",
       "      <td>Lively_place</td>\n",
       "      <td>1.0</td>\n",
       "      <td>10</td>\n",
       "    </tr>\n",
       "    <tr>\n",
       "      <th>...</th>\n",
       "      <td>...</td>\n",
       "      <td>...</td>\n",
       "      <td>...</td>\n",
       "    </tr>\n",
       "    <tr>\n",
       "      <th>342</th>\n",
       "      <td>Motion</td>\n",
       "      <td>0.0</td>\n",
       "      <td>13</td>\n",
       "    </tr>\n",
       "    <tr>\n",
       "      <th>343</th>\n",
       "      <td>Moving_in_place</td>\n",
       "      <td>0.0</td>\n",
       "      <td>11</td>\n",
       "    </tr>\n",
       "    <tr>\n",
       "      <th>344</th>\n",
       "      <td>Natural_features</td>\n",
       "      <td>0.0</td>\n",
       "      <td>5</td>\n",
       "    </tr>\n",
       "    <tr>\n",
       "      <th>345</th>\n",
       "      <td>Needing</td>\n",
       "      <td>0.0</td>\n",
       "      <td>9</td>\n",
       "    </tr>\n",
       "    <tr>\n",
       "      <th>95</th>\n",
       "      <td>Cause_to_amalgamate</td>\n",
       "      <td>0.0</td>\n",
       "      <td>7</td>\n",
       "    </tr>\n",
       "  </tbody>\n",
       "</table>\n",
       "<p>541 rows × 3 columns</p>\n",
       "</div>"
      ],
      "text/plain": [
       "                   Frame  FrameCL_test_f1  num_train_samples\n",
       "270       Immobilization              1.0                  5\n",
       "269            Imitating              1.0                  3\n",
       "311        Locale_by_use              1.0                 11\n",
       "309               Locale              1.0                  7\n",
       "308         Lively_place              1.0                 10\n",
       "..                   ...              ...                ...\n",
       "342               Motion              0.0                 13\n",
       "343      Moving_in_place              0.0                 11\n",
       "344     Natural_features              0.0                  5\n",
       "345              Needing              0.0                  9\n",
       "95   Cause_to_amalgamate              0.0                  7\n",
       "\n",
       "[541 rows x 3 columns]"
      ]
     },
     "execution_count": 379,
     "metadata": {},
     "output_type": "execute_result"
    }
   ],
   "source": [
    "# Scater: # train_samples v.s. test_F1 per frame\n",
    "sort_frameCL_f1[\"num_train_samples\"] = sort_frameCL_f1[\"Frame\"].map(counts_frames_trained)\n",
    "sort_frameCL_f1"
   ]
  },
  {
   "cell_type": "code",
   "execution_count": 388,
   "metadata": {},
   "outputs": [
    {
     "data": {
      "text/plain": [
       "4831"
      ]
     },
     "execution_count": 388,
     "metadata": {},
     "output_type": "execute_result"
    }
   ],
   "source": [
    "sort_frameCL_f1[\"num_train_samples\"].sum()"
   ]
  },
  {
   "cell_type": "code",
   "execution_count": 380,
   "metadata": {},
   "outputs": [
    {
     "data": {
      "text/html": [
       "<div>\n",
       "<style scoped>\n",
       "    .dataframe tbody tr th:only-of-type {\n",
       "        vertical-align: middle;\n",
       "    }\n",
       "\n",
       "    .dataframe tbody tr th {\n",
       "        vertical-align: top;\n",
       "    }\n",
       "\n",
       "    .dataframe thead th {\n",
       "        text-align: right;\n",
       "    }\n",
       "</style>\n",
       "<table border=\"1\" class=\"dataframe\">\n",
       "  <thead>\n",
       "    <tr style=\"text-align: right;\">\n",
       "      <th></th>\n",
       "      <th>Frame</th>\n",
       "      <th>FrameCL_test_f1</th>\n",
       "      <th>num_train_samples</th>\n",
       "    </tr>\n",
       "  </thead>\n",
       "  <tbody>\n",
       "    <tr>\n",
       "      <th>307</th>\n",
       "      <td>Limitation</td>\n",
       "      <td>1.000000</td>\n",
       "      <td>1</td>\n",
       "    </tr>\n",
       "    <tr>\n",
       "      <th>294</th>\n",
       "      <td>Judicial_body</td>\n",
       "      <td>1.000000</td>\n",
       "      <td>0</td>\n",
       "    </tr>\n",
       "    <tr>\n",
       "      <th>178</th>\n",
       "      <td>Dynamism</td>\n",
       "      <td>1.000000</td>\n",
       "      <td>1</td>\n",
       "    </tr>\n",
       "    <tr>\n",
       "      <th>247</th>\n",
       "      <td>Gizmo</td>\n",
       "      <td>1.000000</td>\n",
       "      <td>0</td>\n",
       "    </tr>\n",
       "    <tr>\n",
       "      <th>395</th>\n",
       "      <td>Process_resume</td>\n",
       "      <td>1.000000</td>\n",
       "      <td>1</td>\n",
       "    </tr>\n",
       "    <tr>\n",
       "      <th>449</th>\n",
       "      <td>Robbery</td>\n",
       "      <td>1.000000</td>\n",
       "      <td>0</td>\n",
       "    </tr>\n",
       "    <tr>\n",
       "      <th>134</th>\n",
       "      <td>Commutative_process</td>\n",
       "      <td>1.000000</td>\n",
       "      <td>1</td>\n",
       "    </tr>\n",
       "    <tr>\n",
       "      <th>60</th>\n",
       "      <td>Being_questionable</td>\n",
       "      <td>1.000000</td>\n",
       "      <td>1</td>\n",
       "    </tr>\n",
       "    <tr>\n",
       "      <th>300</th>\n",
       "      <td>Law</td>\n",
       "      <td>0.666667</td>\n",
       "      <td>1</td>\n",
       "    </tr>\n",
       "    <tr>\n",
       "      <th>5</th>\n",
       "      <td>Active_substance_medical</td>\n",
       "      <td>0.500000</td>\n",
       "      <td>1</td>\n",
       "    </tr>\n",
       "    <tr>\n",
       "      <th>506</th>\n",
       "      <td>Temporal_collocation</td>\n",
       "      <td>0.500000</td>\n",
       "      <td>1</td>\n",
       "    </tr>\n",
       "    <tr>\n",
       "      <th>505</th>\n",
       "      <td>Temperature</td>\n",
       "      <td>0.200000</td>\n",
       "      <td>1</td>\n",
       "    </tr>\n",
       "    <tr>\n",
       "      <th>533</th>\n",
       "      <td>Version_sequence</td>\n",
       "      <td>0.000000</td>\n",
       "      <td>1</td>\n",
       "    </tr>\n",
       "    <tr>\n",
       "      <th>470</th>\n",
       "      <td>Simple_naming</td>\n",
       "      <td>0.000000</td>\n",
       "      <td>1</td>\n",
       "    </tr>\n",
       "    <tr>\n",
       "      <th>538</th>\n",
       "      <td>Withdraw_from_participation</td>\n",
       "      <td>0.000000</td>\n",
       "      <td>1</td>\n",
       "    </tr>\n",
       "    <tr>\n",
       "      <th>28</th>\n",
       "      <td>Artifact</td>\n",
       "      <td>0.000000</td>\n",
       "      <td>1</td>\n",
       "    </tr>\n",
       "    <tr>\n",
       "      <th>141</th>\n",
       "      <td>Connecting_architecture</td>\n",
       "      <td>0.000000</td>\n",
       "      <td>1</td>\n",
       "    </tr>\n",
       "    <tr>\n",
       "      <th>254</th>\n",
       "      <td>Guilt_or_innocence</td>\n",
       "      <td>0.000000</td>\n",
       "      <td>1</td>\n",
       "    </tr>\n",
       "    <tr>\n",
       "      <th>115</th>\n",
       "      <td>Chemical_potency</td>\n",
       "      <td>0.000000</td>\n",
       "      <td>1</td>\n",
       "    </tr>\n",
       "    <tr>\n",
       "      <th>396</th>\n",
       "      <td>Process_stop</td>\n",
       "      <td>0.000000</td>\n",
       "      <td>1</td>\n",
       "    </tr>\n",
       "    <tr>\n",
       "      <th>111</th>\n",
       "      <td>Change_position_on_a_scale_mod</td>\n",
       "      <td>0.000000</td>\n",
       "      <td>1</td>\n",
       "    </tr>\n",
       "  </tbody>\n",
       "</table>\n",
       "</div>"
      ],
      "text/plain": [
       "                              Frame  FrameCL_test_f1  num_train_samples\n",
       "307                      Limitation         1.000000                  1\n",
       "294                   Judicial_body         1.000000                  0\n",
       "178                        Dynamism         1.000000                  1\n",
       "247                           Gizmo         1.000000                  0\n",
       "395                  Process_resume         1.000000                  1\n",
       "449                         Robbery         1.000000                  0\n",
       "134             Commutative_process         1.000000                  1\n",
       "60               Being_questionable         1.000000                  1\n",
       "300                             Law         0.666667                  1\n",
       "5          Active_substance_medical         0.500000                  1\n",
       "506            Temporal_collocation         0.500000                  1\n",
       "505                     Temperature         0.200000                  1\n",
       "533                Version_sequence         0.000000                  1\n",
       "470                   Simple_naming         0.000000                  1\n",
       "538     Withdraw_from_participation         0.000000                  1\n",
       "28                         Artifact         0.000000                  1\n",
       "141         Connecting_architecture         0.000000                  1\n",
       "254              Guilt_or_innocence         0.000000                  1\n",
       "115                Chemical_potency         0.000000                  1\n",
       "396                    Process_stop         0.000000                  1\n",
       "111  Change_position_on_a_scale_mod         0.000000                  1"
      ]
     },
     "execution_count": 380,
     "metadata": {},
     "output_type": "execute_result"
    }
   ],
   "source": [
    "sort_frameCL_f1[sort_frameCL_f1[\"num_train_samples\"]<2]"
   ]
  },
  {
   "cell_type": "code",
   "execution_count": 381,
   "metadata": {},
   "outputs": [
    {
     "data": {
      "text/html": [
       "<div>\n",
       "<style scoped>\n",
       "    .dataframe tbody tr th:only-of-type {\n",
       "        vertical-align: middle;\n",
       "    }\n",
       "\n",
       "    .dataframe tbody tr th {\n",
       "        vertical-align: top;\n",
       "    }\n",
       "\n",
       "    .dataframe thead th {\n",
       "        text-align: right;\n",
       "    }\n",
       "</style>\n",
       "<table border=\"1\" class=\"dataframe\">\n",
       "  <thead>\n",
       "    <tr style=\"text-align: right;\">\n",
       "      <th></th>\n",
       "      <th>Frame</th>\n",
       "      <th>FrameCL_test_f1</th>\n",
       "      <th>num_train_samples</th>\n",
       "    </tr>\n",
       "  </thead>\n",
       "  <tbody>\n",
       "    <tr>\n",
       "      <th>354</th>\n",
       "      <td>Others_situation_as_stimulus</td>\n",
       "      <td>1.000000</td>\n",
       "      <td>31</td>\n",
       "    </tr>\n",
       "    <tr>\n",
       "      <th>330</th>\n",
       "      <td>Medical_treatment</td>\n",
       "      <td>1.000000</td>\n",
       "      <td>42</td>\n",
       "    </tr>\n",
       "    <tr>\n",
       "      <th>412</th>\n",
       "      <td>Race_descriptor</td>\n",
       "      <td>1.000000</td>\n",
       "      <td>31</td>\n",
       "    </tr>\n",
       "    <tr>\n",
       "      <th>150</th>\n",
       "      <td>Create_representation</td>\n",
       "      <td>1.000000</td>\n",
       "      <td>33</td>\n",
       "    </tr>\n",
       "    <tr>\n",
       "      <th>154</th>\n",
       "      <td>Cutting</td>\n",
       "      <td>1.000000</td>\n",
       "      <td>39</td>\n",
       "    </tr>\n",
       "    <tr>\n",
       "      <th>214</th>\n",
       "      <td>Experiencer_obj</td>\n",
       "      <td>0.750000</td>\n",
       "      <td>34</td>\n",
       "    </tr>\n",
       "    <tr>\n",
       "      <th>279</th>\n",
       "      <td>Ingestion</td>\n",
       "      <td>0.666667</td>\n",
       "      <td>38</td>\n",
       "    </tr>\n",
       "    <tr>\n",
       "      <th>384</th>\n",
       "      <td>Practice</td>\n",
       "      <td>0.666667</td>\n",
       "      <td>32</td>\n",
       "    </tr>\n",
       "    <tr>\n",
       "      <th>187</th>\n",
       "      <td>Emptying</td>\n",
       "      <td>0.625000</td>\n",
       "      <td>56</td>\n",
       "    </tr>\n",
       "    <tr>\n",
       "      <th>456</th>\n",
       "      <td>Self_motion</td>\n",
       "      <td>0.600000</td>\n",
       "      <td>45</td>\n",
       "    </tr>\n",
       "    <tr>\n",
       "      <th>318</th>\n",
       "      <td>Make_noise</td>\n",
       "      <td>0.500000</td>\n",
       "      <td>51</td>\n",
       "    </tr>\n",
       "    <tr>\n",
       "      <th>431</th>\n",
       "      <td>Removing</td>\n",
       "      <td>0.333333</td>\n",
       "      <td>34</td>\n",
       "    </tr>\n",
       "    <tr>\n",
       "      <th>252</th>\n",
       "      <td>Grooming</td>\n",
       "      <td>0.000000</td>\n",
       "      <td>46</td>\n",
       "    </tr>\n",
       "  </tbody>\n",
       "</table>\n",
       "</div>"
      ],
      "text/plain": [
       "                            Frame  FrameCL_test_f1  num_train_samples\n",
       "354  Others_situation_as_stimulus         1.000000                 31\n",
       "330             Medical_treatment         1.000000                 42\n",
       "412               Race_descriptor         1.000000                 31\n",
       "150         Create_representation         1.000000                 33\n",
       "154                       Cutting         1.000000                 39\n",
       "214               Experiencer_obj         0.750000                 34\n",
       "279                     Ingestion         0.666667                 38\n",
       "384                      Practice         0.666667                 32\n",
       "187                      Emptying         0.625000                 56\n",
       "456                   Self_motion         0.600000                 45\n",
       "318                    Make_noise         0.500000                 51\n",
       "431                      Removing         0.333333                 34\n",
       "252                      Grooming         0.000000                 46"
      ]
     },
     "execution_count": 381,
     "metadata": {},
     "output_type": "execute_result"
    }
   ],
   "source": [
    "sort_frameCL_f1[sort_frameCL_f1[\"num_train_samples\"]>30]"
   ]
  },
  {
   "attachments": {},
   "cell_type": "markdown",
   "metadata": {},
   "source": [
    "##### On TEST SET only"
   ]
  },
  {
   "cell_type": "code",
   "execution_count": 383,
   "metadata": {},
   "outputs": [
    {
     "data": {
      "text/plain": [
       "<AxesSubplot: xlabel='num_train_samples', ylabel='FrameCL_test_f1'>"
      ]
     },
     "execution_count": 383,
     "metadata": {},
     "output_type": "execute_result"
    },
    {
     "data": {
      "image/png": "[encoded data removed]",
      "text/plain": [
       "<Figure size 640x480 with 1 Axes>"
      ]
     },
     "metadata": {},
     "output_type": "display_data"
    }
   ],
   "source": [
    "sort_frameCL_f1.plot.scatter(\"num_train_samples\", \"FrameCL_test_f1\")"
   ]
  },
  {
   "cell_type": "code",
   "execution_count": 385,
   "metadata": {},
   "outputs": [
    {
     "data": {
      "text/plain": [
       "270    1.0\n",
       "269    1.0\n",
       "311    1.0\n",
       "309    1.0\n",
       "308    1.0\n",
       "      ... \n",
       "342    0.0\n",
       "343    0.0\n",
       "344    0.0\n",
       "345    0.0\n",
       "95     0.0\n",
       "Name: FrameCL_test_f1, Length: 541, dtype: float64"
      ]
     },
     "execution_count": 385,
     "metadata": {},
     "output_type": "execute_result"
    }
   ],
   "source": [
    "\n",
    "sort_frameCL_f1.loc[:,\"FrameCL_test_f1\"]"
   ]
  },
  {
   "cell_type": "code",
   "execution_count": 387,
   "metadata": {},
   "outputs": [
    {
     "data": {
      "text/plain": [
       "[Text(0, 0.5, 'Frequency'), Text(0.5, 0, 'num_train_samples')]"
      ]
     },
     "execution_count": 387,
     "metadata": {},
     "output_type": "execute_result"
    },
    {
     "data": {
      "image/png": "[encoded data removed]",
      "text/plain": [
       "<Figure size 500x300 with 1 Axes>"
      ]
     },
     "metadata": {},
     "output_type": "display_data"
    }
   ],
   "source": [
    "import matplotlib.pyplot as plt\n",
    "%matplotlib inline\n",
    "plt.rcParams.update({'figure.figsize':(5,3), 'figure.dpi':100})\n",
    "\n",
    "# Plot Histogram on x\n",
    "plt.hist(sort_frameCL_f1.loc[:,\"num_train_samples\"], bins=50)\n",
    "plt.gca().set(ylabel='Frequency', xlabel='num_train_samples')"
   ]
  },
  {
   "cell_type": "code",
   "execution_count": 394,
   "metadata": {},
   "outputs": [
    {
     "name": "stdout",
     "output_type": "stream",
     "text": [
      "Sum train samples of the frames covered by TEST set: 4831\n"
     ]
    }
   ],
   "source": [
    "print(f'Sum train samples of the frames covered by TEST set: {sort_frameCL_f1.loc[:,\"num_train_samples\"].sum()}')"
   ]
  },
  {
   "cell_type": "code",
   "execution_count": null,
   "metadata": {},
   "outputs": [],
   "source": []
  },
  {
   "cell_type": "code",
   "execution_count": null,
   "metadata": {},
   "outputs": [],
   "source": []
  },
  {
   "attachments": {},
   "cell_type": "markdown",
   "metadata": {},
   "source": [
    "##### ArgumentEX : \n",
    "Get Frame_name, input, output in the test set"
   ]
  },
  {
   "cell_type": "code",
   "execution_count": 307,
   "metadata": {},
   "outputs": [
    {
     "data": {
      "text/html": [
       "<div>\n",
       "<style scoped>\n",
       "    .dataframe tbody tr th:only-of-type {\n",
       "        vertical-align: middle;\n",
       "    }\n",
       "\n",
       "    .dataframe tbody tr th {\n",
       "        vertical-align: top;\n",
       "    }\n",
       "\n",
       "    .dataframe thead th {\n",
       "        text-align: right;\n",
       "    }\n",
       "</style>\n",
       "<table border=\"1\" class=\"dataframe\">\n",
       "  <thead>\n",
       "    <tr style=\"text-align: right;\">\n",
       "      <th></th>\n",
       "      <th>Frame</th>\n",
       "      <th>FrameCL_input</th>\n",
       "    </tr>\n",
       "  </thead>\n",
       "  <tbody>\n",
       "    <tr>\n",
       "      <th>0</th>\n",
       "      <td>En 32-årig man * låtsades vara cp-skadad för a...</td>\n",
       "      <td>TRIGGER: En 32-årig man låtsades vara cp-skada...</td>\n",
       "    </tr>\n",
       "    <tr>\n",
       "      <th>1</th>\n",
       "      <td>2,5 år är inte särskilt lång * tid, säger hon.</td>\n",
       "      <td>TRIGGER: 2,5 år är inte särskilt lång tid , sä...</td>\n",
       "    </tr>\n",
       "    <tr>\n",
       "      <th>2</th>\n",
       "      <td>Jag * stammade plågsamt mycket i 5-årsåldern.</td>\n",
       "      <td>TRIGGER: Jag stammade plågsamt mycket i 5-årså...</td>\n",
       "    </tr>\n",
       "    <tr>\n",
       "      <th>3</th>\n",
       "      <td>Pojke och tös är * antonymer eftersom de har u...</td>\n",
       "      <td>TRIGGER: Pojke och tös är antonymer eftersom d...</td>\n",
       "    </tr>\n",
       "    <tr>\n",
       "      <th>4</th>\n",
       "      <td>I dag är det bara att * glädja sig åt inrättan...</td>\n",
       "      <td>TRIGGER: I dag är det bara att glädja sig åt i...</td>\n",
       "    </tr>\n",
       "  </tbody>\n",
       "</table>\n",
       "</div>"
      ],
      "text/plain": [
       "                                               Frame  \\\n",
       "0  En 32-årig man * låtsades vara cp-skadad för a...   \n",
       "1     2,5 år är inte särskilt lång * tid, säger hon.   \n",
       "2      Jag * stammade plågsamt mycket i 5-årsåldern.   \n",
       "3  Pojke och tös är * antonymer eftersom de har u...   \n",
       "4  I dag är det bara att * glädja sig åt inrättan...   \n",
       "\n",
       "                                       FrameCL_input  \n",
       "0  TRIGGER: En 32-årig man låtsades vara cp-skada...  \n",
       "1  TRIGGER: 2,5 år är inte särskilt lång tid , sä...  \n",
       "2  TRIGGER: Jag stammade plågsamt mycket i 5-årså...  \n",
       "3  TRIGGER: Pojke och tös är antonymer eftersom d...  \n",
       "4  TRIGGER: I dag är det bara att glädja sig åt i...  "
      ]
     },
     "execution_count": 307,
     "metadata": {},
     "output_type": "execute_result"
    }
   ],
   "source": [
    "from frame_semantic_transformer.data.LoaderDataCache import LoaderDataCache\n",
    "from frame_semantic_transformer.data.tasks_from_annotated_sentences import tasks_from_annotated_sentences\n",
    "\n",
    "import pandas as pd\n",
    "\n",
    "tl = SwedishTrainingLoader('./swefn.xml')\n",
    "il = SwedishInferenceLoader('./swefn.xml')\n",
    "lc = LoaderDataCache(il)\n",
    "\n",
    "samples = tasks_from_annotated_sentences(tl.load_test_data(), lc)       \n",
    "\n",
    "# to store Frame_name of each test sample \n",
    "\n",
    "df_test_triggID = pd.DataFrame(\n",
    "    [s.get_target(),\n",
    "     s.get_input(),\n",
    "     ] for s in samples if s.get_task_name() == \"trigger_identification\" )\n",
    "\n",
    "df_test_triggID.columns= [\"Trigger_word\", \"FrameCL_input\", \"Predict_loc\", \"Target_loc\"]\n",
    "df_test_triggID.head()"
   ]
  },
  {
   "cell_type": "code",
   "execution_count": null,
   "metadata": {},
   "outputs": [],
   "source": []
  },
  {
   "cell_type": "code",
   "execution_count": null,
   "metadata": {},
   "outputs": [],
   "source": []
  },
  {
   "cell_type": "code",
   "execution_count": null,
   "metadata": {},
   "outputs": [],
   "source": []
  },
  {
   "cell_type": "code",
   "execution_count": null,
   "metadata": {},
   "outputs": [],
   "source": []
  },
  {
   "cell_type": "code",
   "execution_count": null,
   "metadata": {},
   "outputs": [],
   "source": []
  },
  {
   "cell_type": "code",
   "execution_count": null,
   "metadata": {},
   "outputs": [],
   "source": []
  },
  {
   "cell_type": "code",
   "execution_count": null,
   "metadata": {},
   "outputs": [],
   "source": []
  },
  {
   "cell_type": "code",
   "execution_count": null,
   "metadata": {},
   "outputs": [],
   "source": []
  },
  {
   "cell_type": "code",
   "execution_count": null,
   "metadata": {},
   "outputs": [],
   "source": []
  },
  {
   "cell_type": "code",
   "execution_count": null,
   "metadata": {},
   "outputs": [],
   "source": []
  },
  {
   "cell_type": "code",
   "execution_count": null,
   "metadata": {},
   "outputs": [],
   "source": []
  }
 ],
 "metadata": {
  "accelerator": "GPU",
  "colab": {
   "provenance": []
  },
  "gpuClass": "standard",
  "kernelspec": {
   "display_name": "dml_nlp",
   "language": "python",
   "name": "python3"
  },
  "language_info": {
   "codemirror_mode": {
    "name": "ipython",
    "version": 3
   },
   "file_extension": ".py",
   "mimetype": "text/x-python",
   "name": "python",
   "nbconvert_exporter": "python",
   "pygments_lexer": "ipython3",
   "version": "3.10.9"
  },
  "vscode": {
   "interpreter": {
    "hash": "19f764b8eef320a76d923273fedb1e9fd6342974d3f08f18007454111c58033a"
   }
  },
  "widgets": {
   "application/vnd.jupyter.widget-state+json": {
    "0043b3676b00462c96c41c198912d1f2": {
     "model_module": "@jupyter-widgets/controls",
     "model_module_version": "1.5.0",
     "model_name": "HTMLModel",
     "state": {
      "_dom_classes": [],
      "_model_module": "@jupyter-widgets/controls",
      "_model_module_version": "1.5.0",
      "_model_name": "HTMLModel",
      "_view_count": null,
      "_view_module": "@jupyter-widgets/controls",
      "_view_module_version": "1.5.0",
      "_view_name": "HTMLView",
      "description": "",
      "description_tooltip": null,
      "layout": "IPY_MODEL_30fa95248d9f4bcfb3cd064c0adbc421",
      "placeholder": "​",
      "style": "IPY_MODEL_1a16a4c9a53740bd95582bc37c63cf18",
      "value": " 88/88 [06:09&lt;00:00,  4.20s/it]"
     }
    },
    "00ae957e9224428394fc0b2ed6ab3b8c": {
     "model_module": "@jupyter-widgets/controls",
     "model_module_version": "1.5.0",
     "model_name": "FloatProgressModel",
     "state": {
      "_dom_classes": [],
      "_model_module": "@jupyter-widgets/controls",
      "_model_module_version": "1.5.0",
      "_model_name": "FloatProgressModel",
      "_view_count": null,
      "_view_module": "@jupyter-widgets/controls",
      "_view_module_version": "1.5.0",
      "_view_name": "ProgressView",
      "bar_style": "success",
      "description": "",
      "description_tooltip": null,
      "layout": "IPY_MODEL_017f92676e314606ab9a1934dd163b1e",
      "max": 791656,
      "min": 0,
      "orientation": "horizontal",
      "style": "IPY_MODEL_b92fa01e720d412f90b163c4d7f0bcc3",
      "value": 791656
     }
    },
    "017f92676e314606ab9a1934dd163b1e": {
     "model_module": "@jupyter-widgets/base",
     "model_module_version": "1.2.0",
     "model_name": "LayoutModel",
     "state": {
      "_model_module": "@jupyter-widgets/base",
      "_model_module_version": "1.2.0",
      "_model_name": "LayoutModel",
      "_view_count": null,
      "_view_module": "@jupyter-widgets/base",
      "_view_module_version": "1.2.0",
      "_view_name": "LayoutView",
      "align_content": null,
      "align_items": null,
      "align_self": null,
      "border": null,
      "bottom": null,
      "display": null,
      "flex": null,
      "flex_flow": null,
      "grid_area": null,
      "grid_auto_columns": null,
      "grid_auto_flow": null,
      "grid_auto_rows": null,
      "grid_column": null,
      "grid_gap": null,
      "grid_row": null,
      "grid_template_areas": null,
      "grid_template_columns": null,
      "grid_template_rows": null,
      "height": null,
      "justify_content": null,
      "justify_items": null,
      "left": null,
      "margin": null,
      "max_height": null,
      "max_width": null,
      "min_height": null,
      "min_width": null,
      "object_fit": null,
      "object_position": null,
      "order": null,
      "overflow": null,
      "overflow_x": null,
      "overflow_y": null,
      "padding": null,
      "right": null,
      "top": null,
      "visibility": null,
      "width": null
     }
    },
    "05137ba6e9c74d99b0cc136ccda66ca2": {
     "model_module": "@jupyter-widgets/controls",
     "model_module_version": "1.5.0",
     "model_name": "HBoxModel",
     "state": {
      "_dom_classes": [],
      "_model_module": "@jupyter-widgets/controls",
      "_model_module_version": "1.5.0",
      "_model_name": "HBoxModel",
      "_view_count": null,
      "_view_module": "@jupyter-widgets/controls",
      "_view_module_version": "1.5.0",
      "_view_name": "HBoxView",
      "box_style": "",
      "children": [
       "IPY_MODEL_d3b6fdbe4153443eae2ada05095e210a",
       "IPY_MODEL_dd382c9f5b9e40b1a17c2b8de4539dbc",
       "IPY_MODEL_d00e6c536d7242b5aa6bc9ef22d460a5"
      ],
      "layout": "IPY_MODEL_9ad485d1c0aa48ef80f545b951db3440"
     }
    },
    "06018fa83bb2447aba341ae41c3b7c91": {
     "model_module": "@jupyter-widgets/controls",
     "model_module_version": "1.5.0",
     "model_name": "DescriptionStyleModel",
     "state": {
      "_model_module": "@jupyter-widgets/controls",
      "_model_module_version": "1.5.0",
      "_model_name": "DescriptionStyleModel",
      "_view_count": null,
      "_view_module": "@jupyter-widgets/base",
      "_view_module_version": "1.2.0",
      "_view_name": "StyleView",
      "description_width": ""
     }
    },
    "06112586a28b4e68b5eaa8867c67f0f2": {
     "model_module": "@jupyter-widgets/base",
     "model_module_version": "1.2.0",
     "model_name": "LayoutModel",
     "state": {
      "_model_module": "@jupyter-widgets/base",
      "_model_module_version": "1.2.0",
      "_model_name": "LayoutModel",
      "_view_count": null,
      "_view_module": "@jupyter-widgets/base",
      "_view_module_version": "1.2.0",
      "_view_name": "LayoutView",
      "align_content": null,
      "align_items": null,
      "align_self": null,
      "border": null,
      "bottom": null,
      "display": null,
      "flex": null,
      "flex_flow": null,
      "grid_area": null,
      "grid_auto_columns": null,
      "grid_auto_flow": null,
      "grid_auto_rows": null,
      "grid_column": null,
      "grid_gap": null,
      "grid_row": null,
      "grid_template_areas": null,
      "grid_template_columns": null,
      "grid_template_rows": null,
      "height": null,
      "justify_content": null,
      "justify_items": null,
      "left": null,
      "margin": null,
      "max_height": null,
      "max_width": null,
      "min_height": null,
      "min_width": null,
      "object_fit": null,
      "object_position": null,
      "order": null,
      "overflow": null,
      "overflow_x": null,
      "overflow_y": null,
      "padding": null,
      "right": null,
      "top": null,
      "visibility": null,
      "width": null
     }
    },
    "0dfcbb9585084c719128a8174a9f1131": {
     "model_module": "@jupyter-widgets/controls",
     "model_module_version": "1.5.0",
     "model_name": "DescriptionStyleModel",
     "state": {
      "_model_module": "@jupyter-widgets/controls",
      "_model_module_version": "1.5.0",
      "_model_name": "DescriptionStyleModel",
      "_view_count": null,
      "_view_module": "@jupyter-widgets/base",
      "_view_module_version": "1.2.0",
      "_view_name": "StyleView",
      "description_width": ""
     }
    },
    "0e29a60a584444cea9b5745c0be2b04e": {
     "model_module": "@jupyter-widgets/controls",
     "model_module_version": "1.5.0",
     "model_name": "HBoxModel",
     "state": {
      "_dom_classes": [],
      "_model_module": "@jupyter-widgets/controls",
      "_model_module_version": "1.5.0",
      "_model_name": "HBoxModel",
      "_view_count": null,
      "_view_module": "@jupyter-widgets/controls",
      "_view_module_version": "1.5.0",
      "_view_name": "HBoxView",
      "box_style": "",
      "children": [
       "IPY_MODEL_54288eb2124a45ebadd68819445ece89",
       "IPY_MODEL_caf9f04de2444517abc679d174b5936b",
       "IPY_MODEL_a1024f80886342a499e31c72a45bb1f3"
      ],
      "layout": "IPY_MODEL_f2eb476c4be1430aa1f7699d5ca280bb"
     }
    },
    "12160cd1e61b43b49f14f7e522dff296": {
     "model_module": "@jupyter-widgets/base",
     "model_module_version": "1.2.0",
     "model_name": "LayoutModel",
     "state": {
      "_model_module": "@jupyter-widgets/base",
      "_model_module_version": "1.2.0",
      "_model_name": "LayoutModel",
      "_view_count": null,
      "_view_module": "@jupyter-widgets/base",
      "_view_module_version": "1.2.0",
      "_view_name": "LayoutView",
      "align_content": null,
      "align_items": null,
      "align_self": null,
      "border": null,
      "bottom": null,
      "display": null,
      "flex": "2",
      "flex_flow": null,
      "grid_area": null,
      "grid_auto_columns": null,
      "grid_auto_flow": null,
      "grid_auto_rows": null,
      "grid_column": null,
      "grid_gap": null,
      "grid_row": null,
      "grid_template_areas": null,
      "grid_template_columns": null,
      "grid_template_rows": null,
      "height": null,
      "justify_content": null,
      "justify_items": null,
      "left": null,
      "margin": null,
      "max_height": null,
      "max_width": null,
      "min_height": null,
      "min_width": null,
      "object_fit": null,
      "object_position": null,
      "order": null,
      "overflow": null,
      "overflow_x": null,
      "overflow_y": null,
      "padding": null,
      "right": null,
      "top": null,
      "visibility": null,
      "width": null
     }
    },
    "121ec13d324549e29374397fc0def67b": {
     "model_module": "@jupyter-widgets/controls",
     "model_module_version": "1.5.0",
     "model_name": "HTMLModel",
     "state": {
      "_dom_classes": [],
      "_model_module": "@jupyter-widgets/controls",
      "_model_module_version": "1.5.0",
      "_model_name": "HTMLModel",
      "_view_count": null,
      "_view_module": "@jupyter-widgets/controls",
      "_view_module_version": "1.5.0",
      "_view_name": "HTMLView",
      "description": "",
      "description_tooltip": null,
      "layout": "IPY_MODEL_9adc60982c3f440a94a932fc9e0aab12",
      "placeholder": "​",
      "style": "IPY_MODEL_0dfcbb9585084c719128a8174a9f1131",
      "value": "Validation DataLoader 0: 100%"
     }
    },
    "13ff18e4174a4a23831edaddb295937b": {
     "model_module": "@jupyter-widgets/controls",
     "model_module_version": "1.5.0",
     "model_name": "HBoxModel",
     "state": {
      "_dom_classes": [],
      "_model_module": "@jupyter-widgets/controls",
      "_model_module_version": "1.5.0",
      "_model_name": "HBoxModel",
      "_view_count": null,
      "_view_module": "@jupyter-widgets/controls",
      "_view_module_version": "1.5.0",
      "_view_name": "HBoxView",
      "box_style": "",
      "children": [
       "IPY_MODEL_a6f22a9e908c4aec84598a76feb9c4c4",
       "IPY_MODEL_91f532937daa430ebdf62d66d91089d1",
       "IPY_MODEL_f55c02d86b6843fb84e7f11906738c4f"
      ],
      "layout": "IPY_MODEL_209861593d3e4bfe830bd2c4c6955443"
     }
    },
    "154e48870ba6483aa1913f13f9b8f4f7": {
     "model_module": "@jupyter-widgets/controls",
     "model_module_version": "1.5.0",
     "model_name": "DescriptionStyleModel",
     "state": {
      "_model_module": "@jupyter-widgets/controls",
      "_model_module_version": "1.5.0",
      "_model_name": "DescriptionStyleModel",
      "_view_count": null,
      "_view_module": "@jupyter-widgets/base",
      "_view_module_version": "1.2.0",
      "_view_name": "StyleView",
      "description_width": ""
     }
    },
    "15db55efd4a9421db4824be408f19174": {
     "model_module": "@jupyter-widgets/base",
     "model_module_version": "1.2.0",
     "model_name": "LayoutModel",
     "state": {
      "_model_module": "@jupyter-widgets/base",
      "_model_module_version": "1.2.0",
      "_model_name": "LayoutModel",
      "_view_count": null,
      "_view_module": "@jupyter-widgets/base",
      "_view_module_version": "1.2.0",
      "_view_name": "LayoutView",
      "align_content": null,
      "align_items": null,
      "align_self": null,
      "border": null,
      "bottom": null,
      "display": null,
      "flex": null,
      "flex_flow": null,
      "grid_area": null,
      "grid_auto_columns": null,
      "grid_auto_flow": null,
      "grid_auto_rows": null,
      "grid_column": null,
      "grid_gap": null,
      "grid_row": null,
      "grid_template_areas": null,
      "grid_template_columns": null,
      "grid_template_rows": null,
      "height": null,
      "justify_content": null,
      "justify_items": null,
      "left": null,
      "margin": null,
      "max_height": null,
      "max_width": null,
      "min_height": null,
      "min_width": null,
      "object_fit": null,
      "object_position": null,
      "order": null,
      "overflow": null,
      "overflow_x": null,
      "overflow_y": null,
      "padding": null,
      "right": null,
      "top": null,
      "visibility": null,
      "width": null
     }
    },
    "19358d716b63493a9a33ca05a0a16c15": {
     "model_module": "@jupyter-widgets/controls",
     "model_module_version": "1.5.0",
     "model_name": "FloatProgressModel",
     "state": {
      "_dom_classes": [],
      "_model_module": "@jupyter-widgets/controls",
      "_model_module_version": "1.5.0",
      "_model_name": "FloatProgressModel",
      "_view_count": null,
      "_view_module": "@jupyter-widgets/controls",
      "_view_module_version": "1.5.0",
      "_view_name": "ProgressView",
      "bar_style": "",
      "description": "",
      "description_tooltip": null,
      "layout": "IPY_MODEL_9c0cdcf74c9242d8b4c653ec7aac6eb5",
      "max": 88,
      "min": 0,
      "orientation": "horizontal",
      "style": "IPY_MODEL_bdf3f27824fa4ae19bb2e15aa66dba67",
      "value": 88
     }
    },
    "194e489a80f1400f828800c2dc9fa47b": {
     "model_module": "@jupyter-widgets/base",
     "model_module_version": "1.2.0",
     "model_name": "LayoutModel",
     "state": {
      "_model_module": "@jupyter-widgets/base",
      "_model_module_version": "1.2.0",
      "_model_name": "LayoutModel",
      "_view_count": null,
      "_view_module": "@jupyter-widgets/base",
      "_view_module_version": "1.2.0",
      "_view_name": "LayoutView",
      "align_content": null,
      "align_items": null,
      "align_self": null,
      "border": null,
      "bottom": null,
      "display": null,
      "flex": null,
      "flex_flow": null,
      "grid_area": null,
      "grid_auto_columns": null,
      "grid_auto_flow": null,
      "grid_auto_rows": null,
      "grid_column": null,
      "grid_gap": null,
      "grid_row": null,
      "grid_template_areas": null,
      "grid_template_columns": null,
      "grid_template_rows": null,
      "height": null,
      "justify_content": null,
      "justify_items": null,
      "left": null,
      "margin": null,
      "max_height": null,
      "max_width": null,
      "min_height": null,
      "min_width": null,
      "object_fit": null,
      "object_position": null,
      "order": null,
      "overflow": null,
      "overflow_x": null,
      "overflow_y": null,
      "padding": null,
      "right": null,
      "top": null,
      "visibility": null,
      "width": null
     }
    },
    "1a16a4c9a53740bd95582bc37c63cf18": {
     "model_module": "@jupyter-widgets/controls",
     "model_module_version": "1.5.0",
     "model_name": "DescriptionStyleModel",
     "state": {
      "_model_module": "@jupyter-widgets/controls",
      "_model_module_version": "1.5.0",
      "_model_name": "DescriptionStyleModel",
      "_view_count": null,
      "_view_module": "@jupyter-widgets/base",
      "_view_module_version": "1.2.0",
      "_view_name": "StyleView",
      "description_width": ""
     }
    },
    "1c34055810e842b1b7e618bc4846c7c4": {
     "model_module": "@jupyter-widgets/controls",
     "model_module_version": "1.5.0",
     "model_name": "DescriptionStyleModel",
     "state": {
      "_model_module": "@jupyter-widgets/controls",
      "_model_module_version": "1.5.0",
      "_model_name": "DescriptionStyleModel",
      "_view_count": null,
      "_view_module": "@jupyter-widgets/base",
      "_view_module_version": "1.2.0",
      "_view_name": "StyleView",
      "description_width": ""
     }
    },
    "1edaae2807c7492293977753d36ba615": {
     "model_module": "@jupyter-widgets/controls",
     "model_module_version": "1.5.0",
     "model_name": "HTMLModel",
     "state": {
      "_dom_classes": [],
      "_model_module": "@jupyter-widgets/controls",
      "_model_module_version": "1.5.0",
      "_model_name": "HTMLModel",
      "_view_count": null,
      "_view_module": "@jupyter-widgets/controls",
      "_view_module_version": "1.5.0",
      "_view_name": "HTMLView",
      "description": "",
      "description_tooltip": null,
      "layout": "IPY_MODEL_6d5e79fa57d844f4abb37aeb869110d9",
      "placeholder": "​",
      "style": "IPY_MODEL_f1955543693c4b2caf15385c7c4579f2",
      "value": "Downloading (…)cial_tokens_map.json: 100%"
     }
    },
    "1f5320e28c904a86b96c751739880ef3": {
     "model_module": "@jupyter-widgets/controls",
     "model_module_version": "1.5.0",
     "model_name": "DescriptionStyleModel",
     "state": {
      "_model_module": "@jupyter-widgets/controls",
      "_model_module_version": "1.5.0",
      "_model_name": "DescriptionStyleModel",
      "_view_count": null,
      "_view_module": "@jupyter-widgets/base",
      "_view_module_version": "1.2.0",
      "_view_name": "StyleView",
      "description_width": ""
     }
    },
    "1f6aa7618b9c4480bbe8a8d5c31526b2": {
     "model_module": "@jupyter-widgets/controls",
     "model_module_version": "1.5.0",
     "model_name": "DescriptionStyleModel",
     "state": {
      "_model_module": "@jupyter-widgets/controls",
      "_model_module_version": "1.5.0",
      "_model_name": "DescriptionStyleModel",
      "_view_count": null,
      "_view_module": "@jupyter-widgets/base",
      "_view_module_version": "1.2.0",
      "_view_name": "StyleView",
      "description_width": ""
     }
    },
    "20167e89fc864cbb9581454f32efc683": {
     "model_module": "@jupyter-widgets/controls",
     "model_module_version": "1.5.0",
     "model_name": "HBoxModel",
     "state": {
      "_dom_classes": [],
      "_model_module": "@jupyter-widgets/controls",
      "_model_module_version": "1.5.0",
      "_model_name": "HBoxModel",
      "_view_count": null,
      "_view_module": "@jupyter-widgets/controls",
      "_view_module_version": "1.5.0",
      "_view_name": "HBoxView",
      "box_style": "",
      "children": [
       "IPY_MODEL_1edaae2807c7492293977753d36ba615",
       "IPY_MODEL_95b51dd6a9464e8781206a818b52d5b4",
       "IPY_MODEL_d45f5eb9c4fe453ba3669c6af7fcaabf"
      ],
      "layout": "IPY_MODEL_49c65a134e014f81b680f2a9a9f2bc66"
     }
    },
    "209861593d3e4bfe830bd2c4c6955443": {
     "model_module": "@jupyter-widgets/base",
     "model_module_version": "1.2.0",
     "model_name": "LayoutModel",
     "state": {
      "_model_module": "@jupyter-widgets/base",
      "_model_module_version": "1.2.0",
      "_model_name": "LayoutModel",
      "_view_count": null,
      "_view_module": "@jupyter-widgets/base",
      "_view_module_version": "1.2.0",
      "_view_name": "LayoutView",
      "align_content": null,
      "align_items": null,
      "align_self": null,
      "border": null,
      "bottom": null,
      "display": "inline-flex",
      "flex": null,
      "flex_flow": "row wrap",
      "grid_area": null,
      "grid_auto_columns": null,
      "grid_auto_flow": null,
      "grid_auto_rows": null,
      "grid_column": null,
      "grid_gap": null,
      "grid_row": null,
      "grid_template_areas": null,
      "grid_template_columns": null,
      "grid_template_rows": null,
      "height": null,
      "justify_content": null,
      "justify_items": null,
      "left": null,
      "margin": null,
      "max_height": null,
      "max_width": null,
      "min_height": null,
      "min_width": null,
      "object_fit": null,
      "object_position": null,
      "order": null,
      "overflow": null,
      "overflow_x": null,
      "overflow_y": null,
      "padding": null,
      "right": null,
      "top": null,
      "visibility": null,
      "width": "100%"
     }
    },
    "229779182d6247fda6b4917ee5a056e3": {
     "model_module": "@jupyter-widgets/controls",
     "model_module_version": "1.5.0",
     "model_name": "DescriptionStyleModel",
     "state": {
      "_model_module": "@jupyter-widgets/controls",
      "_model_module_version": "1.5.0",
      "_model_name": "DescriptionStyleModel",
      "_view_count": null,
      "_view_module": "@jupyter-widgets/base",
      "_view_module_version": "1.2.0",
      "_view_name": "StyleView",
      "description_width": ""
     }
    },
    "23c4eb5daaeb40529f49a978542bfe28": {
     "model_module": "@jupyter-widgets/controls",
     "model_module_version": "1.5.0",
     "model_name": "DescriptionStyleModel",
     "state": {
      "_model_module": "@jupyter-widgets/controls",
      "_model_module_version": "1.5.0",
      "_model_name": "DescriptionStyleModel",
      "_view_count": null,
      "_view_module": "@jupyter-widgets/base",
      "_view_module_version": "1.2.0",
      "_view_name": "StyleView",
      "description_width": ""
     }
    },
    "2b8a11f58be44d5ba2850eee663dfdf2": {
     "model_module": "@jupyter-widgets/base",
     "model_module_version": "1.2.0",
     "model_name": "LayoutModel",
     "state": {
      "_model_module": "@jupyter-widgets/base",
      "_model_module_version": "1.2.0",
      "_model_name": "LayoutModel",
      "_view_count": null,
      "_view_module": "@jupyter-widgets/base",
      "_view_module_version": "1.2.0",
      "_view_name": "LayoutView",
      "align_content": null,
      "align_items": null,
      "align_self": null,
      "border": null,
      "bottom": null,
      "display": null,
      "flex": "2",
      "flex_flow": null,
      "grid_area": null,
      "grid_auto_columns": null,
      "grid_auto_flow": null,
      "grid_auto_rows": null,
      "grid_column": null,
      "grid_gap": null,
      "grid_row": null,
      "grid_template_areas": null,
      "grid_template_columns": null,
      "grid_template_rows": null,
      "height": null,
      "justify_content": null,
      "justify_items": null,
      "left": null,
      "margin": null,
      "max_height": null,
      "max_width": null,
      "min_height": null,
      "min_width": null,
      "object_fit": null,
      "object_position": null,
      "order": null,
      "overflow": null,
      "overflow_x": null,
      "overflow_y": null,
      "padding": null,
      "right": null,
      "top": null,
      "visibility": null,
      "width": null
     }
    },
    "2c3e28a8cd8643139d971527bdd140c5": {
     "model_module": "@jupyter-widgets/base",
     "model_module_version": "1.2.0",
     "model_name": "LayoutModel",
     "state": {
      "_model_module": "@jupyter-widgets/base",
      "_model_module_version": "1.2.0",
      "_model_name": "LayoutModel",
      "_view_count": null,
      "_view_module": "@jupyter-widgets/base",
      "_view_module_version": "1.2.0",
      "_view_name": "LayoutView",
      "align_content": null,
      "align_items": null,
      "align_self": null,
      "border": null,
      "bottom": null,
      "display": null,
      "flex": null,
      "flex_flow": null,
      "grid_area": null,
      "grid_auto_columns": null,
      "grid_auto_flow": null,
      "grid_auto_rows": null,
      "grid_column": null,
      "grid_gap": null,
      "grid_row": null,
      "grid_template_areas": null,
      "grid_template_columns": null,
      "grid_template_rows": null,
      "height": null,
      "justify_content": null,
      "justify_items": null,
      "left": null,
      "margin": null,
      "max_height": null,
      "max_width": null,
      "min_height": null,
      "min_width": null,
      "object_fit": null,
      "object_position": null,
      "order": null,
      "overflow": null,
      "overflow_x": null,
      "overflow_y": null,
      "padding": null,
      "right": null,
      "top": null,
      "visibility": null,
      "width": null
     }
    },
    "2fdca230b33f491e9879595a0460c3c7": {
     "model_module": "@jupyter-widgets/controls",
     "model_module_version": "1.5.0",
     "model_name": "DescriptionStyleModel",
     "state": {
      "_model_module": "@jupyter-widgets/controls",
      "_model_module_version": "1.5.0",
      "_model_name": "DescriptionStyleModel",
      "_view_count": null,
      "_view_module": "@jupyter-widgets/base",
      "_view_module_version": "1.2.0",
      "_view_name": "StyleView",
      "description_width": ""
     }
    },
    "30fa95248d9f4bcfb3cd064c0adbc421": {
     "model_module": "@jupyter-widgets/base",
     "model_module_version": "1.2.0",
     "model_name": "LayoutModel",
     "state": {
      "_model_module": "@jupyter-widgets/base",
      "_model_module_version": "1.2.0",
      "_model_name": "LayoutModel",
      "_view_count": null,
      "_view_module": "@jupyter-widgets/base",
      "_view_module_version": "1.2.0",
      "_view_name": "LayoutView",
      "align_content": null,
      "align_items": null,
      "align_self": null,
      "border": null,
      "bottom": null,
      "display": null,
      "flex": null,
      "flex_flow": null,
      "grid_area": null,
      "grid_auto_columns": null,
      "grid_auto_flow": null,
      "grid_auto_rows": null,
      "grid_column": null,
      "grid_gap": null,
      "grid_row": null,
      "grid_template_areas": null,
      "grid_template_columns": null,
      "grid_template_rows": null,
      "height": null,
      "justify_content": null,
      "justify_items": null,
      "left": null,
      "margin": null,
      "max_height": null,
      "max_width": null,
      "min_height": null,
      "min_width": null,
      "object_fit": null,
      "object_position": null,
      "order": null,
      "overflow": null,
      "overflow_x": null,
      "overflow_y": null,
      "padding": null,
      "right": null,
      "top": null,
      "visibility": null,
      "width": null
     }
    },
    "37ab14b53fff420192ad8a71c9b96770": {
     "model_module": "@jupyter-widgets/base",
     "model_module_version": "1.2.0",
     "model_name": "LayoutModel",
     "state": {
      "_model_module": "@jupyter-widgets/base",
      "_model_module_version": "1.2.0",
      "_model_name": "LayoutModel",
      "_view_count": null,
      "_view_module": "@jupyter-widgets/base",
      "_view_module_version": "1.2.0",
      "_view_name": "LayoutView",
      "align_content": null,
      "align_items": null,
      "align_self": null,
      "border": null,
      "bottom": null,
      "display": "inline-flex",
      "flex": null,
      "flex_flow": "row wrap",
      "grid_area": null,
      "grid_auto_columns": null,
      "grid_auto_flow": null,
      "grid_auto_rows": null,
      "grid_column": null,
      "grid_gap": null,
      "grid_row": null,
      "grid_template_areas": null,
      "grid_template_columns": null,
      "grid_template_rows": null,
      "height": null,
      "justify_content": null,
      "justify_items": null,
      "left": null,
      "margin": null,
      "max_height": null,
      "max_width": null,
      "min_height": null,
      "min_width": null,
      "object_fit": null,
      "object_position": null,
      "order": null,
      "overflow": null,
      "overflow_x": null,
      "overflow_y": null,
      "padding": null,
      "right": null,
      "top": null,
      "visibility": "hidden",
      "width": "100%"
     }
    },
    "38023b956dbc4f73b44382ad7d31d598": {
     "model_module": "@jupyter-widgets/controls",
     "model_module_version": "1.5.0",
     "model_name": "DescriptionStyleModel",
     "state": {
      "_model_module": "@jupyter-widgets/controls",
      "_model_module_version": "1.5.0",
      "_model_name": "DescriptionStyleModel",
      "_view_count": null,
      "_view_module": "@jupyter-widgets/base",
      "_view_module_version": "1.2.0",
      "_view_name": "StyleView",
      "description_width": ""
     }
    },
    "3918f37359824eb8b8c43b4b176aa599": {
     "model_module": "@jupyter-widgets/base",
     "model_module_version": "1.2.0",
     "model_name": "LayoutModel",
     "state": {
      "_model_module": "@jupyter-widgets/base",
      "_model_module_version": "1.2.0",
      "_model_name": "LayoutModel",
      "_view_count": null,
      "_view_module": "@jupyter-widgets/base",
      "_view_module_version": "1.2.0",
      "_view_name": "LayoutView",
      "align_content": null,
      "align_items": null,
      "align_self": null,
      "border": null,
      "bottom": null,
      "display": null,
      "flex": null,
      "flex_flow": null,
      "grid_area": null,
      "grid_auto_columns": null,
      "grid_auto_flow": null,
      "grid_auto_rows": null,
      "grid_column": null,
      "grid_gap": null,
      "grid_row": null,
      "grid_template_areas": null,
      "grid_template_columns": null,
      "grid_template_rows": null,
      "height": null,
      "justify_content": null,
      "justify_items": null,
      "left": null,
      "margin": null,
      "max_height": null,
      "max_width": null,
      "min_height": null,
      "min_width": null,
      "object_fit": null,
      "object_position": null,
      "order": null,
      "overflow": null,
      "overflow_x": null,
      "overflow_y": null,
      "padding": null,
      "right": null,
      "top": null,
      "visibility": null,
      "width": null
     }
    },
    "3b0318a78e334445a30009adb81b9e21": {
     "model_module": "@jupyter-widgets/controls",
     "model_module_version": "1.5.0",
     "model_name": "FloatProgressModel",
     "state": {
      "_dom_classes": [],
      "_model_module": "@jupyter-widgets/controls",
      "_model_module_version": "1.5.0",
      "_model_name": "FloatProgressModel",
      "_view_count": null,
      "_view_module": "@jupyter-widgets/controls",
      "_view_module_version": "1.5.0",
      "_view_name": "ProgressView",
      "bar_style": "",
      "description": "",
      "description_tooltip": null,
      "layout": "IPY_MODEL_2b8a11f58be44d5ba2850eee663dfdf2",
      "max": 88,
      "min": 0,
      "orientation": "horizontal",
      "style": "IPY_MODEL_93d00b8e3943425ea5000e1744df48c8",
      "value": 88
     }
    },
    "407aea00c38a488dae713ef976771df9": {
     "model_module": "@jupyter-widgets/base",
     "model_module_version": "1.2.0",
     "model_name": "LayoutModel",
     "state": {
      "_model_module": "@jupyter-widgets/base",
      "_model_module_version": "1.2.0",
      "_model_name": "LayoutModel",
      "_view_count": null,
      "_view_module": "@jupyter-widgets/base",
      "_view_module_version": "1.2.0",
      "_view_name": "LayoutView",
      "align_content": null,
      "align_items": null,
      "align_self": null,
      "border": null,
      "bottom": null,
      "display": null,
      "flex": null,
      "flex_flow": null,
      "grid_area": null,
      "grid_auto_columns": null,
      "grid_auto_flow": null,
      "grid_auto_rows": null,
      "grid_column": null,
      "grid_gap": null,
      "grid_row": null,
      "grid_template_areas": null,
      "grid_template_columns": null,
      "grid_template_rows": null,
      "height": null,
      "justify_content": null,
      "justify_items": null,
      "left": null,
      "margin": null,
      "max_height": null,
      "max_width": null,
      "min_height": null,
      "min_width": null,
      "object_fit": null,
      "object_position": null,
      "order": null,
      "overflow": null,
      "overflow_x": null,
      "overflow_y": null,
      "padding": null,
      "right": null,
      "top": null,
      "visibility": null,
      "width": null
     }
    },
    "416a57bcdb97461783b4b80eda9ffc8f": {
     "model_module": "@jupyter-widgets/controls",
     "model_module_version": "1.5.0",
     "model_name": "HTMLModel",
     "state": {
      "_dom_classes": [],
      "_model_module": "@jupyter-widgets/controls",
      "_model_module_version": "1.5.0",
      "_model_name": "HTMLModel",
      "_view_count": null,
      "_view_module": "@jupyter-widgets/controls",
      "_view_module_version": "1.5.0",
      "_view_name": "HTMLView",
      "description": "",
      "description_tooltip": null,
      "layout": "IPY_MODEL_b39ebcf63b564eaa804ca822130d7e6f",
      "placeholder": "​",
      "style": "IPY_MODEL_1f6aa7618b9c4480bbe8a8d5c31526b2",
      "value": "Downloading (…)lve/main/config.json: 100%"
     }
    },
    "42bb2cfd4eb94e698741f225f71f8045": {
     "model_module": "@jupyter-widgets/base",
     "model_module_version": "1.2.0",
     "model_name": "LayoutModel",
     "state": {
      "_model_module": "@jupyter-widgets/base",
      "_model_module_version": "1.2.0",
      "_model_name": "LayoutModel",
      "_view_count": null,
      "_view_module": "@jupyter-widgets/base",
      "_view_module_version": "1.2.0",
      "_view_name": "LayoutView",
      "align_content": null,
      "align_items": null,
      "align_self": null,
      "border": null,
      "bottom": null,
      "display": null,
      "flex": null,
      "flex_flow": null,
      "grid_area": null,
      "grid_auto_columns": null,
      "grid_auto_flow": null,
      "grid_auto_rows": null,
      "grid_column": null,
      "grid_gap": null,
      "grid_row": null,
      "grid_template_areas": null,
      "grid_template_columns": null,
      "grid_template_rows": null,
      "height": null,
      "justify_content": null,
      "justify_items": null,
      "left": null,
      "margin": null,
      "max_height": null,
      "max_width": null,
      "min_height": null,
      "min_width": null,
      "object_fit": null,
      "object_position": null,
      "order": null,
      "overflow": null,
      "overflow_x": null,
      "overflow_y": null,
      "padding": null,
      "right": null,
      "top": null,
      "visibility": null,
      "width": null
     }
    },
    "42f608cf66ac4b1f9e57ccc58f2ad70f": {
     "model_module": "@jupyter-widgets/base",
     "model_module_version": "1.2.0",
     "model_name": "LayoutModel",
     "state": {
      "_model_module": "@jupyter-widgets/base",
      "_model_module_version": "1.2.0",
      "_model_name": "LayoutModel",
      "_view_count": null,
      "_view_module": "@jupyter-widgets/base",
      "_view_module_version": "1.2.0",
      "_view_name": "LayoutView",
      "align_content": null,
      "align_items": null,
      "align_self": null,
      "border": null,
      "bottom": null,
      "display": "inline-flex",
      "flex": null,
      "flex_flow": "row wrap",
      "grid_area": null,
      "grid_auto_columns": null,
      "grid_auto_flow": null,
      "grid_auto_rows": null,
      "grid_column": null,
      "grid_gap": null,
      "grid_row": null,
      "grid_template_areas": null,
      "grid_template_columns": null,
      "grid_template_rows": null,
      "height": null,
      "justify_content": null,
      "justify_items": null,
      "left": null,
      "margin": null,
      "max_height": null,
      "max_width": null,
      "min_height": null,
      "min_width": null,
      "object_fit": null,
      "object_position": null,
      "order": null,
      "overflow": null,
      "overflow_x": null,
      "overflow_y": null,
      "padding": null,
      "right": null,
      "top": null,
      "visibility": "hidden",
      "width": "100%"
     }
    },
    "431cae5190a54dd89e71b1f745cfd589": {
     "model_module": "@jupyter-widgets/controls",
     "model_module_version": "1.5.0",
     "model_name": "DescriptionStyleModel",
     "state": {
      "_model_module": "@jupyter-widgets/controls",
      "_model_module_version": "1.5.0",
      "_model_name": "DescriptionStyleModel",
      "_view_count": null,
      "_view_module": "@jupyter-widgets/base",
      "_view_module_version": "1.2.0",
      "_view_name": "StyleView",
      "description_width": ""
     }
    },
    "43ecff8be3c64e95956952e8d5e2455a": {
     "model_module": "@jupyter-widgets/base",
     "model_module_version": "1.2.0",
     "model_name": "LayoutModel",
     "state": {
      "_model_module": "@jupyter-widgets/base",
      "_model_module_version": "1.2.0",
      "_model_name": "LayoutModel",
      "_view_count": null,
      "_view_module": "@jupyter-widgets/base",
      "_view_module_version": "1.2.0",
      "_view_name": "LayoutView",
      "align_content": null,
      "align_items": null,
      "align_self": null,
      "border": null,
      "bottom": null,
      "display": null,
      "flex": null,
      "flex_flow": null,
      "grid_area": null,
      "grid_auto_columns": null,
      "grid_auto_flow": null,
      "grid_auto_rows": null,
      "grid_column": null,
      "grid_gap": null,
      "grid_row": null,
      "grid_template_areas": null,
      "grid_template_columns": null,
      "grid_template_rows": null,
      "height": null,
      "justify_content": null,
      "justify_items": null,
      "left": null,
      "margin": null,
      "max_height": null,
      "max_width": null,
      "min_height": null,
      "min_width": null,
      "object_fit": null,
      "object_position": null,
      "order": null,
      "overflow": null,
      "overflow_x": null,
      "overflow_y": null,
      "padding": null,
      "right": null,
      "top": null,
      "visibility": null,
      "width": null
     }
    },
    "49bb25203f9a4fb7bae9cf5d0ec26459": {
     "model_module": "@jupyter-widgets/controls",
     "model_module_version": "1.5.0",
     "model_name": "DescriptionStyleModel",
     "state": {
      "_model_module": "@jupyter-widgets/controls",
      "_model_module_version": "1.5.0",
      "_model_name": "DescriptionStyleModel",
      "_view_count": null,
      "_view_module": "@jupyter-widgets/base",
      "_view_module_version": "1.2.0",
      "_view_name": "StyleView",
      "description_width": ""
     }
    },
    "49c65a134e014f81b680f2a9a9f2bc66": {
     "model_module": "@jupyter-widgets/base",
     "model_module_version": "1.2.0",
     "model_name": "LayoutModel",
     "state": {
      "_model_module": "@jupyter-widgets/base",
      "_model_module_version": "1.2.0",
      "_model_name": "LayoutModel",
      "_view_count": null,
      "_view_module": "@jupyter-widgets/base",
      "_view_module_version": "1.2.0",
      "_view_name": "LayoutView",
      "align_content": null,
      "align_items": null,
      "align_self": null,
      "border": null,
      "bottom": null,
      "display": null,
      "flex": null,
      "flex_flow": null,
      "grid_area": null,
      "grid_auto_columns": null,
      "grid_auto_flow": null,
      "grid_auto_rows": null,
      "grid_column": null,
      "grid_gap": null,
      "grid_row": null,
      "grid_template_areas": null,
      "grid_template_columns": null,
      "grid_template_rows": null,
      "height": null,
      "justify_content": null,
      "justify_items": null,
      "left": null,
      "margin": null,
      "max_height": null,
      "max_width": null,
      "min_height": null,
      "min_width": null,
      "object_fit": null,
      "object_position": null,
      "order": null,
      "overflow": null,
      "overflow_x": null,
      "overflow_y": null,
      "padding": null,
      "right": null,
      "top": null,
      "visibility": null,
      "width": null
     }
    },
    "4a3a2eaff03846f0aa029b7a636e25ff": {
     "model_module": "@jupyter-widgets/base",
     "model_module_version": "1.2.0",
     "model_name": "LayoutModel",
     "state": {
      "_model_module": "@jupyter-widgets/base",
      "_model_module_version": "1.2.0",
      "_model_name": "LayoutModel",
      "_view_count": null,
      "_view_module": "@jupyter-widgets/base",
      "_view_module_version": "1.2.0",
      "_view_name": "LayoutView",
      "align_content": null,
      "align_items": null,
      "align_self": null,
      "border": null,
      "bottom": null,
      "display": null,
      "flex": null,
      "flex_flow": null,
      "grid_area": null,
      "grid_auto_columns": null,
      "grid_auto_flow": null,
      "grid_auto_rows": null,
      "grid_column": null,
      "grid_gap": null,
      "grid_row": null,
      "grid_template_areas": null,
      "grid_template_columns": null,
      "grid_template_rows": null,
      "height": null,
      "justify_content": null,
      "justify_items": null,
      "left": null,
      "margin": null,
      "max_height": null,
      "max_width": null,
      "min_height": null,
      "min_width": null,
      "object_fit": null,
      "object_position": null,
      "order": null,
      "overflow": null,
      "overflow_x": null,
      "overflow_y": null,
      "padding": null,
      "right": null,
      "top": null,
      "visibility": null,
      "width": null
     }
    },
    "4a99c04b72b0453cb59ef7cc350d287e": {
     "model_module": "@jupyter-widgets/controls",
     "model_module_version": "1.5.0",
     "model_name": "ProgressStyleModel",
     "state": {
      "_model_module": "@jupyter-widgets/controls",
      "_model_module_version": "1.5.0",
      "_model_name": "ProgressStyleModel",
      "_view_count": null,
      "_view_module": "@jupyter-widgets/base",
      "_view_module_version": "1.2.0",
      "_view_name": "StyleView",
      "bar_color": null,
      "description_width": ""
     }
    },
    "4b46fa11cff840d69bb9bfd6941f2011": {
     "model_module": "@jupyter-widgets/controls",
     "model_module_version": "1.5.0",
     "model_name": "HBoxModel",
     "state": {
      "_dom_classes": [],
      "_model_module": "@jupyter-widgets/controls",
      "_model_module_version": "1.5.0",
      "_model_name": "HBoxModel",
      "_view_count": null,
      "_view_module": "@jupyter-widgets/controls",
      "_view_module_version": "1.5.0",
      "_view_name": "HBoxView",
      "box_style": "",
      "children": [
       "IPY_MODEL_6466c48d904d4bd7ba2a1cd5a1ad6838",
       "IPY_MODEL_7863124cc7744146a74eaed0169d0ab6",
       "IPY_MODEL_e03673fbeecc40df9f3c38882e4b3544"
      ],
      "layout": "IPY_MODEL_37ab14b53fff420192ad8a71c9b96770"
     }
    },
    "4b91fe3cfd4244bc83b4149508fb8621": {
     "model_module": "@jupyter-widgets/base",
     "model_module_version": "1.2.0",
     "model_name": "LayoutModel",
     "state": {
      "_model_module": "@jupyter-widgets/base",
      "_model_module_version": "1.2.0",
      "_model_name": "LayoutModel",
      "_view_count": null,
      "_view_module": "@jupyter-widgets/base",
      "_view_module_version": "1.2.0",
      "_view_name": "LayoutView",
      "align_content": null,
      "align_items": null,
      "align_self": null,
      "border": null,
      "bottom": null,
      "display": null,
      "flex": null,
      "flex_flow": null,
      "grid_area": null,
      "grid_auto_columns": null,
      "grid_auto_flow": null,
      "grid_auto_rows": null,
      "grid_column": null,
      "grid_gap": null,
      "grid_row": null,
      "grid_template_areas": null,
      "grid_template_columns": null,
      "grid_template_rows": null,
      "height": null,
      "justify_content": null,
      "justify_items": null,
      "left": null,
      "margin": null,
      "max_height": null,
      "max_width": null,
      "min_height": null,
      "min_width": null,
      "object_fit": null,
      "object_position": null,
      "order": null,
      "overflow": null,
      "overflow_x": null,
      "overflow_y": null,
      "padding": null,
      "right": null,
      "top": null,
      "visibility": null,
      "width": null
     }
    },
    "4bc9254d5f3f4cab8c86e62304129119": {
     "model_module": "@jupyter-widgets/base",
     "model_module_version": "1.2.0",
     "model_name": "LayoutModel",
     "state": {
      "_model_module": "@jupyter-widgets/base",
      "_model_module_version": "1.2.0",
      "_model_name": "LayoutModel",
      "_view_count": null,
      "_view_module": "@jupyter-widgets/base",
      "_view_module_version": "1.2.0",
      "_view_name": "LayoutView",
      "align_content": null,
      "align_items": null,
      "align_self": null,
      "border": null,
      "bottom": null,
      "display": null,
      "flex": "2",
      "flex_flow": null,
      "grid_area": null,
      "grid_auto_columns": null,
      "grid_auto_flow": null,
      "grid_auto_rows": null,
      "grid_column": null,
      "grid_gap": null,
      "grid_row": null,
      "grid_template_areas": null,
      "grid_template_columns": null,
      "grid_template_rows": null,
      "height": null,
      "justify_content": null,
      "justify_items": null,
      "left": null,
      "margin": null,
      "max_height": null,
      "max_width": null,
      "min_height": null,
      "min_width": null,
      "object_fit": null,
      "object_position": null,
      "order": null,
      "overflow": null,
      "overflow_x": null,
      "overflow_y": null,
      "padding": null,
      "right": null,
      "top": null,
      "visibility": null,
      "width": null
     }
    },
    "4f2358c3006c42aaae9d4257ce69891b": {
     "model_module": "@jupyter-widgets/base",
     "model_module_version": "1.2.0",
     "model_name": "LayoutModel",
     "state": {
      "_model_module": "@jupyter-widgets/base",
      "_model_module_version": "1.2.0",
      "_model_name": "LayoutModel",
      "_view_count": null,
      "_view_module": "@jupyter-widgets/base",
      "_view_module_version": "1.2.0",
      "_view_name": "LayoutView",
      "align_content": null,
      "align_items": null,
      "align_self": null,
      "border": null,
      "bottom": null,
      "display": null,
      "flex": null,
      "flex_flow": null,
      "grid_area": null,
      "grid_auto_columns": null,
      "grid_auto_flow": null,
      "grid_auto_rows": null,
      "grid_column": null,
      "grid_gap": null,
      "grid_row": null,
      "grid_template_areas": null,
      "grid_template_columns": null,
      "grid_template_rows": null,
      "height": null,
      "justify_content": null,
      "justify_items": null,
      "left": null,
      "margin": null,
      "max_height": null,
      "max_width": null,
      "min_height": null,
      "min_width": null,
      "object_fit": null,
      "object_position": null,
      "order": null,
      "overflow": null,
      "overflow_x": null,
      "overflow_y": null,
      "padding": null,
      "right": null,
      "top": null,
      "visibility": null,
      "width": null
     }
    },
    "53797b3d0f6a469cb60d9a1a272a25b4": {
     "model_module": "@jupyter-widgets/controls",
     "model_module_version": "1.5.0",
     "model_name": "HBoxModel",
     "state": {
      "_dom_classes": [],
      "_model_module": "@jupyter-widgets/controls",
      "_model_module_version": "1.5.0",
      "_model_name": "HBoxModel",
      "_view_count": null,
      "_view_module": "@jupyter-widgets/controls",
      "_view_module_version": "1.5.0",
      "_view_name": "HBoxView",
      "box_style": "",
      "children": [
       "IPY_MODEL_ca9b659d49454063b233b3ef85858f99",
       "IPY_MODEL_3b0318a78e334445a30009adb81b9e21",
       "IPY_MODEL_57cdc43f6bb141718141ca0ec0c303f4"
      ],
      "layout": "IPY_MODEL_98fcb31ecd6146758e6b0d2752de6639"
     }
    },
    "54288eb2124a45ebadd68819445ece89": {
     "model_module": "@jupyter-widgets/controls",
     "model_module_version": "1.5.0",
     "model_name": "HTMLModel",
     "state": {
      "_dom_classes": [],
      "_model_module": "@jupyter-widgets/controls",
      "_model_module_version": "1.5.0",
      "_model_name": "HTMLModel",
      "_view_count": null,
      "_view_module": "@jupyter-widgets/controls",
      "_view_module_version": "1.5.0",
      "_view_name": "HTMLView",
      "description": "",
      "description_tooltip": null,
      "layout": "IPY_MODEL_15db55efd4a9421db4824be408f19174",
      "placeholder": "​",
      "style": "IPY_MODEL_d6838728d2b3469baa582226c42728a6",
      "value": "Epoch 5:   3%"
     }
    },
    "57cdc43f6bb141718141ca0ec0c303f4": {
     "model_module": "@jupyter-widgets/controls",
     "model_module_version": "1.5.0",
     "model_name": "HTMLModel",
     "state": {
      "_dom_classes": [],
      "_model_module": "@jupyter-widgets/controls",
      "_model_module_version": "1.5.0",
      "_model_name": "HTMLModel",
      "_view_count": null,
      "_view_module": "@jupyter-widgets/controls",
      "_view_module_version": "1.5.0",
      "_view_name": "HTMLView",
      "description": "",
      "description_tooltip": null,
      "layout": "IPY_MODEL_3918f37359824eb8b8c43b4b176aa599",
      "placeholder": "​",
      "style": "IPY_MODEL_154e48870ba6483aa1913f13f9b8f4f7",
      "value": " 88/88 [06:10&lt;00:00,  4.21s/it]"
     }
    },
    "595d6b4841d04cc19a35f051e965829f": {
     "model_module": "@jupyter-widgets/controls",
     "model_module_version": "1.5.0",
     "model_name": "DescriptionStyleModel",
     "state": {
      "_model_module": "@jupyter-widgets/controls",
      "_model_module_version": "1.5.0",
      "_model_name": "DescriptionStyleModel",
      "_view_count": null,
      "_view_module": "@jupyter-widgets/base",
      "_view_module_version": "1.2.0",
      "_view_name": "StyleView",
      "description_width": ""
     }
    },
    "59af692c3ff84682904579c6fbd3ffba": {
     "model_module": "@jupyter-widgets/controls",
     "model_module_version": "1.5.0",
     "model_name": "HBoxModel",
     "state": {
      "_dom_classes": [],
      "_model_module": "@jupyter-widgets/controls",
      "_model_module_version": "1.5.0",
      "_model_name": "HBoxModel",
      "_view_count": null,
      "_view_module": "@jupyter-widgets/controls",
      "_view_module_version": "1.5.0",
      "_view_name": "HBoxView",
      "box_style": "",
      "children": [
       "IPY_MODEL_66e9b2ef987c4fb8b8916475bd99be4d",
       "IPY_MODEL_b8356b49e87049328fc7d8c659a10f12",
       "IPY_MODEL_e114422ffcf948768731a29febb8a290"
      ],
      "layout": "IPY_MODEL_6d06d50b30bf4c8e845627022badae3f"
     }
    },
    "5d7a367dc43345e5a62db10d76b6c769": {
     "model_module": "@jupyter-widgets/base",
     "model_module_version": "1.2.0",
     "model_name": "LayoutModel",
     "state": {
      "_model_module": "@jupyter-widgets/base",
      "_model_module_version": "1.2.0",
      "_model_name": "LayoutModel",
      "_view_count": null,
      "_view_module": "@jupyter-widgets/base",
      "_view_module_version": "1.2.0",
      "_view_name": "LayoutView",
      "align_content": null,
      "align_items": null,
      "align_self": null,
      "border": null,
      "bottom": null,
      "display": null,
      "flex": null,
      "flex_flow": null,
      "grid_area": null,
      "grid_auto_columns": null,
      "grid_auto_flow": null,
      "grid_auto_rows": null,
      "grid_column": null,
      "grid_gap": null,
      "grid_row": null,
      "grid_template_areas": null,
      "grid_template_columns": null,
      "grid_template_rows": null,
      "height": null,
      "justify_content": null,
      "justify_items": null,
      "left": null,
      "margin": null,
      "max_height": null,
      "max_width": null,
      "min_height": null,
      "min_width": null,
      "object_fit": null,
      "object_position": null,
      "order": null,
      "overflow": null,
      "overflow_x": null,
      "overflow_y": null,
      "padding": null,
      "right": null,
      "top": null,
      "visibility": null,
      "width": null
     }
    },
    "5d8eb6272f614c2495d005b487b7750b": {
     "model_module": "@jupyter-widgets/base",
     "model_module_version": "1.2.0",
     "model_name": "LayoutModel",
     "state": {
      "_model_module": "@jupyter-widgets/base",
      "_model_module_version": "1.2.0",
      "_model_name": "LayoutModel",
      "_view_count": null,
      "_view_module": "@jupyter-widgets/base",
      "_view_module_version": "1.2.0",
      "_view_name": "LayoutView",
      "align_content": null,
      "align_items": null,
      "align_self": null,
      "border": null,
      "bottom": null,
      "display": null,
      "flex": null,
      "flex_flow": null,
      "grid_area": null,
      "grid_auto_columns": null,
      "grid_auto_flow": null,
      "grid_auto_rows": null,
      "grid_column": null,
      "grid_gap": null,
      "grid_row": null,
      "grid_template_areas": null,
      "grid_template_columns": null,
      "grid_template_rows": null,
      "height": null,
      "justify_content": null,
      "justify_items": null,
      "left": null,
      "margin": null,
      "max_height": null,
      "max_width": null,
      "min_height": null,
      "min_width": null,
      "object_fit": null,
      "object_position": null,
      "order": null,
      "overflow": null,
      "overflow_x": null,
      "overflow_y": null,
      "padding": null,
      "right": null,
      "top": null,
      "visibility": null,
      "width": null
     }
    },
    "5ec1b00d88724a07a789c83e0177735c": {
     "model_module": "@jupyter-widgets/base",
     "model_module_version": "1.2.0",
     "model_name": "LayoutModel",
     "state": {
      "_model_module": "@jupyter-widgets/base",
      "_model_module_version": "1.2.0",
      "_model_name": "LayoutModel",
      "_view_count": null,
      "_view_module": "@jupyter-widgets/base",
      "_view_module_version": "1.2.0",
      "_view_name": "LayoutView",
      "align_content": null,
      "align_items": null,
      "align_self": null,
      "border": null,
      "bottom": null,
      "display": null,
      "flex": null,
      "flex_flow": null,
      "grid_area": null,
      "grid_auto_columns": null,
      "grid_auto_flow": null,
      "grid_auto_rows": null,
      "grid_column": null,
      "grid_gap": null,
      "grid_row": null,
      "grid_template_areas": null,
      "grid_template_columns": null,
      "grid_template_rows": null,
      "height": null,
      "justify_content": null,
      "justify_items": null,
      "left": null,
      "margin": null,
      "max_height": null,
      "max_width": null,
      "min_height": null,
      "min_width": null,
      "object_fit": null,
      "object_position": null,
      "order": null,
      "overflow": null,
      "overflow_x": null,
      "overflow_y": null,
      "padding": null,
      "right": null,
      "top": null,
      "visibility": null,
      "width": null
     }
    },
    "5f11875a62fd4c34a86f816fb29c83f5": {
     "model_module": "@jupyter-widgets/controls",
     "model_module_version": "1.5.0",
     "model_name": "HTMLModel",
     "state": {
      "_dom_classes": [],
      "_model_module": "@jupyter-widgets/controls",
      "_model_module_version": "1.5.0",
      "_model_name": "HTMLModel",
      "_view_count": null,
      "_view_module": "@jupyter-widgets/controls",
      "_view_module_version": "1.5.0",
      "_view_name": "HTMLView",
      "description": "",
      "description_tooltip": null,
      "layout": "IPY_MODEL_194e489a80f1400f828800c2dc9fa47b",
      "placeholder": "​",
      "style": "IPY_MODEL_fd2d821a75404700b7e42631a03976c1",
      "value": "Sanity Checking DataLoader 0: 100%"
     }
    },
    "605a52a07da949839287bbd4e4e5c3a1": {
     "model_module": "@jupyter-widgets/controls",
     "model_module_version": "1.5.0",
     "model_name": "ProgressStyleModel",
     "state": {
      "_model_module": "@jupyter-widgets/controls",
      "_model_module_version": "1.5.0",
      "_model_name": "ProgressStyleModel",
      "_view_count": null,
      "_view_module": "@jupyter-widgets/base",
      "_view_module_version": "1.2.0",
      "_view_name": "StyleView",
      "bar_color": null,
      "description_width": ""
     }
    },
    "6466c48d904d4bd7ba2a1cd5a1ad6838": {
     "model_module": "@jupyter-widgets/controls",
     "model_module_version": "1.5.0",
     "model_name": "HTMLModel",
     "state": {
      "_dom_classes": [],
      "_model_module": "@jupyter-widgets/controls",
      "_model_module_version": "1.5.0",
      "_model_name": "HTMLModel",
      "_view_count": null,
      "_view_module": "@jupyter-widgets/controls",
      "_view_module_version": "1.5.0",
      "_view_name": "HTMLView",
      "description": "",
      "description_tooltip": null,
      "layout": "IPY_MODEL_4b91fe3cfd4244bc83b4149508fb8621",
      "placeholder": "​",
      "style": "IPY_MODEL_790e809edde14867aaef6b356b627927",
      "value": "Sanity Checking DataLoader 0: 100%"
     }
    },
    "66e9b2ef987c4fb8b8916475bd99be4d": {
     "model_module": "@jupyter-widgets/controls",
     "model_module_version": "1.5.0",
     "model_name": "HTMLModel",
     "state": {
      "_dom_classes": [],
      "_model_module": "@jupyter-widgets/controls",
      "_model_module_version": "1.5.0",
      "_model_name": "HTMLModel",
      "_view_count": null,
      "_view_module": "@jupyter-widgets/controls",
      "_view_module_version": "1.5.0",
      "_view_name": "HTMLView",
      "description": "",
      "description_tooltip": null,
      "layout": "IPY_MODEL_de88157a8c9e452e86c936a7d958384a",
      "placeholder": "​",
      "style": "IPY_MODEL_1f5320e28c904a86b96c751739880ef3",
      "value": "Downloading (…)okenizer_config.json: 100%"
     }
    },
    "68a68901df5349978fc1c5cacadf2364": {
     "model_module": "@jupyter-widgets/controls",
     "model_module_version": "1.5.0",
     "model_name": "ProgressStyleModel",
     "state": {
      "_model_module": "@jupyter-widgets/controls",
      "_model_module_version": "1.5.0",
      "_model_name": "ProgressStyleModel",
      "_view_count": null,
      "_view_module": "@jupyter-widgets/base",
      "_view_module_version": "1.2.0",
      "_view_name": "StyleView",
      "bar_color": null,
      "description_width": ""
     }
    },
    "6a74ede2b9bc414ba6c7967a492315ca": {
     "model_module": "@jupyter-widgets/controls",
     "model_module_version": "1.5.0",
     "model_name": "DescriptionStyleModel",
     "state": {
      "_model_module": "@jupyter-widgets/controls",
      "_model_module_version": "1.5.0",
      "_model_name": "DescriptionStyleModel",
      "_view_count": null,
      "_view_module": "@jupyter-widgets/base",
      "_view_module_version": "1.2.0",
      "_view_name": "StyleView",
      "description_width": ""
     }
    },
    "6cc18020c4654baf8e0ef55cfb67e556": {
     "model_module": "@jupyter-widgets/base",
     "model_module_version": "1.2.0",
     "model_name": "LayoutModel",
     "state": {
      "_model_module": "@jupyter-widgets/base",
      "_model_module_version": "1.2.0",
      "_model_name": "LayoutModel",
      "_view_count": null,
      "_view_module": "@jupyter-widgets/base",
      "_view_module_version": "1.2.0",
      "_view_name": "LayoutView",
      "align_content": null,
      "align_items": null,
      "align_self": null,
      "border": null,
      "bottom": null,
      "display": null,
      "flex": "2",
      "flex_flow": null,
      "grid_area": null,
      "grid_auto_columns": null,
      "grid_auto_flow": null,
      "grid_auto_rows": null,
      "grid_column": null,
      "grid_gap": null,
      "grid_row": null,
      "grid_template_areas": null,
      "grid_template_columns": null,
      "grid_template_rows": null,
      "height": null,
      "justify_content": null,
      "justify_items": null,
      "left": null,
      "margin": null,
      "max_height": null,
      "max_width": null,
      "min_height": null,
      "min_width": null,
      "object_fit": null,
      "object_position": null,
      "order": null,
      "overflow": null,
      "overflow_x": null,
      "overflow_y": null,
      "padding": null,
      "right": null,
      "top": null,
      "visibility": null,
      "width": null
     }
    },
    "6d06d50b30bf4c8e845627022badae3f": {
     "model_module": "@jupyter-widgets/base",
     "model_module_version": "1.2.0",
     "model_name": "LayoutModel",
     "state": {
      "_model_module": "@jupyter-widgets/base",
      "_model_module_version": "1.2.0",
      "_model_name": "LayoutModel",
      "_view_count": null,
      "_view_module": "@jupyter-widgets/base",
      "_view_module_version": "1.2.0",
      "_view_name": "LayoutView",
      "align_content": null,
      "align_items": null,
      "align_self": null,
      "border": null,
      "bottom": null,
      "display": null,
      "flex": null,
      "flex_flow": null,
      "grid_area": null,
      "grid_auto_columns": null,
      "grid_auto_flow": null,
      "grid_auto_rows": null,
      "grid_column": null,
      "grid_gap": null,
      "grid_row": null,
      "grid_template_areas": null,
      "grid_template_columns": null,
      "grid_template_rows": null,
      "height": null,
      "justify_content": null,
      "justify_items": null,
      "left": null,
      "margin": null,
      "max_height": null,
      "max_width": null,
      "min_height": null,
      "min_width": null,
      "object_fit": null,
      "object_position": null,
      "order": null,
      "overflow": null,
      "overflow_x": null,
      "overflow_y": null,
      "padding": null,
      "right": null,
      "top": null,
      "visibility": null,
      "width": null
     }
    },
    "6d5e79fa57d844f4abb37aeb869110d9": {
     "model_module": "@jupyter-widgets/base",
     "model_module_version": "1.2.0",
     "model_name": "LayoutModel",
     "state": {
      "_model_module": "@jupyter-widgets/base",
      "_model_module_version": "1.2.0",
      "_model_name": "LayoutModel",
      "_view_count": null,
      "_view_module": "@jupyter-widgets/base",
      "_view_module_version": "1.2.0",
      "_view_name": "LayoutView",
      "align_content": null,
      "align_items": null,
      "align_self": null,
      "border": null,
      "bottom": null,
      "display": null,
      "flex": null,
      "flex_flow": null,
      "grid_area": null,
      "grid_auto_columns": null,
      "grid_auto_flow": null,
      "grid_auto_rows": null,
      "grid_column": null,
      "grid_gap": null,
      "grid_row": null,
      "grid_template_areas": null,
      "grid_template_columns": null,
      "grid_template_rows": null,
      "height": null,
      "justify_content": null,
      "justify_items": null,
      "left": null,
      "margin": null,
      "max_height": null,
      "max_width": null,
      "min_height": null,
      "min_width": null,
      "object_fit": null,
      "object_position": null,
      "order": null,
      "overflow": null,
      "overflow_x": null,
      "overflow_y": null,
      "padding": null,
      "right": null,
      "top": null,
      "visibility": null,
      "width": null
     }
    },
    "70379345388e46449a93080a7fd88b98": {
     "model_module": "@jupyter-widgets/base",
     "model_module_version": "1.2.0",
     "model_name": "LayoutModel",
     "state": {
      "_model_module": "@jupyter-widgets/base",
      "_model_module_version": "1.2.0",
      "_model_name": "LayoutModel",
      "_view_count": null,
      "_view_module": "@jupyter-widgets/base",
      "_view_module_version": "1.2.0",
      "_view_name": "LayoutView",
      "align_content": null,
      "align_items": null,
      "align_self": null,
      "border": null,
      "bottom": null,
      "display": null,
      "flex": "2",
      "flex_flow": null,
      "grid_area": null,
      "grid_auto_columns": null,
      "grid_auto_flow": null,
      "grid_auto_rows": null,
      "grid_column": null,
      "grid_gap": null,
      "grid_row": null,
      "grid_template_areas": null,
      "grid_template_columns": null,
      "grid_template_rows": null,
      "height": null,
      "justify_content": null,
      "justify_items": null,
      "left": null,
      "margin": null,
      "max_height": null,
      "max_width": null,
      "min_height": null,
      "min_width": null,
      "object_fit": null,
      "object_position": null,
      "order": null,
      "overflow": null,
      "overflow_x": null,
      "overflow_y": null,
      "padding": null,
      "right": null,
      "top": null,
      "visibility": null,
      "width": null
     }
    },
    "7116fcace69640e1867b5097f0ffac5c": {
     "model_module": "@jupyter-widgets/controls",
     "model_module_version": "1.5.0",
     "model_name": "FloatProgressModel",
     "state": {
      "_dom_classes": [],
      "_model_module": "@jupyter-widgets/controls",
      "_model_module_version": "1.5.0",
      "_model_name": "FloatProgressModel",
      "_view_count": null,
      "_view_module": "@jupyter-widgets/controls",
      "_view_module_version": "1.5.0",
      "_view_name": "ProgressView",
      "bar_style": "",
      "description": "",
      "description_tooltip": null,
      "layout": "IPY_MODEL_12160cd1e61b43b49f14f7e522dff296",
      "max": 88,
      "min": 0,
      "orientation": "horizontal",
      "style": "IPY_MODEL_dfd3b8d7ad774a378e5e1213223737aa",
      "value": 88
     }
    },
    "72994df54e9343d7bb72f3bee40f362a": {
     "model_module": "@jupyter-widgets/base",
     "model_module_version": "1.2.0",
     "model_name": "LayoutModel",
     "state": {
      "_model_module": "@jupyter-widgets/base",
      "_model_module_version": "1.2.0",
      "_model_name": "LayoutModel",
      "_view_count": null,
      "_view_module": "@jupyter-widgets/base",
      "_view_module_version": "1.2.0",
      "_view_name": "LayoutView",
      "align_content": null,
      "align_items": null,
      "align_self": null,
      "border": null,
      "bottom": null,
      "display": "inline-flex",
      "flex": null,
      "flex_flow": "row wrap",
      "grid_area": null,
      "grid_auto_columns": null,
      "grid_auto_flow": null,
      "grid_auto_rows": null,
      "grid_column": null,
      "grid_gap": null,
      "grid_row": null,
      "grid_template_areas": null,
      "grid_template_columns": null,
      "grid_template_rows": null,
      "height": null,
      "justify_content": null,
      "justify_items": null,
      "left": null,
      "margin": null,
      "max_height": null,
      "max_width": null,
      "min_height": null,
      "min_width": null,
      "object_fit": null,
      "object_position": null,
      "order": null,
      "overflow": null,
      "overflow_x": null,
      "overflow_y": null,
      "padding": null,
      "right": null,
      "top": null,
      "visibility": "hidden",
      "width": "100%"
     }
    },
    "72e7cfeb08f243418ec950c2d79f2b76": {
     "model_module": "@jupyter-widgets/controls",
     "model_module_version": "1.5.0",
     "model_name": "HBoxModel",
     "state": {
      "_dom_classes": [],
      "_model_module": "@jupyter-widgets/controls",
      "_model_module_version": "1.5.0",
      "_model_name": "HBoxModel",
      "_view_count": null,
      "_view_module": "@jupyter-widgets/controls",
      "_view_module_version": "1.5.0",
      "_view_name": "HBoxView",
      "box_style": "",
      "children": [
       "IPY_MODEL_5f11875a62fd4c34a86f816fb29c83f5",
       "IPY_MODEL_d9a45b751a674531abb948f0f21a28bd",
       "IPY_MODEL_d44648ece54b46b19a74ec2ea1356211"
      ],
      "layout": "IPY_MODEL_95fb6d98003140789d75f9aed65807aa"
     }
    },
    "73bcb6bffb6c4470881e8414bb2a7f54": {
     "model_module": "@jupyter-widgets/controls",
     "model_module_version": "1.5.0",
     "model_name": "DescriptionStyleModel",
     "state": {
      "_model_module": "@jupyter-widgets/controls",
      "_model_module_version": "1.5.0",
      "_model_name": "DescriptionStyleModel",
      "_view_count": null,
      "_view_module": "@jupyter-widgets/base",
      "_view_module_version": "1.2.0",
      "_view_name": "StyleView",
      "description_width": ""
     }
    },
    "7863124cc7744146a74eaed0169d0ab6": {
     "model_module": "@jupyter-widgets/controls",
     "model_module_version": "1.5.0",
     "model_name": "FloatProgressModel",
     "state": {
      "_dom_classes": [],
      "_model_module": "@jupyter-widgets/controls",
      "_model_module_version": "1.5.0",
      "_model_name": "FloatProgressModel",
      "_view_count": null,
      "_view_module": "@jupyter-widgets/controls",
      "_view_module_version": "1.5.0",
      "_view_name": "ProgressView",
      "bar_style": "",
      "description": "",
      "description_tooltip": null,
      "layout": "IPY_MODEL_4bc9254d5f3f4cab8c86e62304129119",
      "max": 2,
      "min": 0,
      "orientation": "horizontal",
      "style": "IPY_MODEL_f9ae8d3065f94bf8878023d0c5500127",
      "value": 2
     }
    },
    "790e809edde14867aaef6b356b627927": {
     "model_module": "@jupyter-widgets/controls",
     "model_module_version": "1.5.0",
     "model_name": "DescriptionStyleModel",
     "state": {
      "_model_module": "@jupyter-widgets/controls",
      "_model_module_version": "1.5.0",
      "_model_name": "DescriptionStyleModel",
      "_view_count": null,
      "_view_module": "@jupyter-widgets/base",
      "_view_module_version": "1.2.0",
      "_view_name": "StyleView",
      "description_width": ""
     }
    },
    "7b08113ea2be47cf922ae3576e002150": {
     "model_module": "@jupyter-widgets/controls",
     "model_module_version": "1.5.0",
     "model_name": "DescriptionStyleModel",
     "state": {
      "_model_module": "@jupyter-widgets/controls",
      "_model_module_version": "1.5.0",
      "_model_name": "DescriptionStyleModel",
      "_view_count": null,
      "_view_module": "@jupyter-widgets/base",
      "_view_module_version": "1.2.0",
      "_view_name": "StyleView",
      "description_width": ""
     }
    },
    "7b76195c267448639a1d4146001e53cb": {
     "model_module": "@jupyter-widgets/base",
     "model_module_version": "1.2.0",
     "model_name": "LayoutModel",
     "state": {
      "_model_module": "@jupyter-widgets/base",
      "_model_module_version": "1.2.0",
      "_model_name": "LayoutModel",
      "_view_count": null,
      "_view_module": "@jupyter-widgets/base",
      "_view_module_version": "1.2.0",
      "_view_name": "LayoutView",
      "align_content": null,
      "align_items": null,
      "align_self": null,
      "border": null,
      "bottom": null,
      "display": null,
      "flex": null,
      "flex_flow": null,
      "grid_area": null,
      "grid_auto_columns": null,
      "grid_auto_flow": null,
      "grid_auto_rows": null,
      "grid_column": null,
      "grid_gap": null,
      "grid_row": null,
      "grid_template_areas": null,
      "grid_template_columns": null,
      "grid_template_rows": null,
      "height": null,
      "justify_content": null,
      "justify_items": null,
      "left": null,
      "margin": null,
      "max_height": null,
      "max_width": null,
      "min_height": null,
      "min_width": null,
      "object_fit": null,
      "object_position": null,
      "order": null,
      "overflow": null,
      "overflow_x": null,
      "overflow_y": null,
      "padding": null,
      "right": null,
      "top": null,
      "visibility": null,
      "width": null
     }
    },
    "7b93307030a1448095dfca8f60edecb4": {
     "model_module": "@jupyter-widgets/base",
     "model_module_version": "1.2.0",
     "model_name": "LayoutModel",
     "state": {
      "_model_module": "@jupyter-widgets/base",
      "_model_module_version": "1.2.0",
      "_model_name": "LayoutModel",
      "_view_count": null,
      "_view_module": "@jupyter-widgets/base",
      "_view_module_version": "1.2.0",
      "_view_name": "LayoutView",
      "align_content": null,
      "align_items": null,
      "align_self": null,
      "border": null,
      "bottom": null,
      "display": null,
      "flex": null,
      "flex_flow": null,
      "grid_area": null,
      "grid_auto_columns": null,
      "grid_auto_flow": null,
      "grid_auto_rows": null,
      "grid_column": null,
      "grid_gap": null,
      "grid_row": null,
      "grid_template_areas": null,
      "grid_template_columns": null,
      "grid_template_rows": null,
      "height": null,
      "justify_content": null,
      "justify_items": null,
      "left": null,
      "margin": null,
      "max_height": null,
      "max_width": null,
      "min_height": null,
      "min_width": null,
      "object_fit": null,
      "object_position": null,
      "order": null,
      "overflow": null,
      "overflow_x": null,
      "overflow_y": null,
      "padding": null,
      "right": null,
      "top": null,
      "visibility": null,
      "width": null
     }
    },
    "7da3fa74be26440aa9543ba739fd0013": {
     "model_module": "@jupyter-widgets/controls",
     "model_module_version": "1.5.0",
     "model_name": "HTMLModel",
     "state": {
      "_dom_classes": [],
      "_model_module": "@jupyter-widgets/controls",
      "_model_module_version": "1.5.0",
      "_model_name": "HTMLModel",
      "_view_count": null,
      "_view_module": "@jupyter-widgets/controls",
      "_view_module_version": "1.5.0",
      "_view_name": "HTMLView",
      "description": "",
      "description_tooltip": null,
      "layout": "IPY_MODEL_2c3e28a8cd8643139d971527bdd140c5",
      "placeholder": "​",
      "style": "IPY_MODEL_23c4eb5daaeb40529f49a978542bfe28",
      "value": " 1.47k/1.47k [00:00&lt;00:00, 63.7kB/s]"
     }
    },
    "7ff0ef6d62fa4a1a9000429f29a87771": {
     "model_module": "@jupyter-widgets/base",
     "model_module_version": "1.2.0",
     "model_name": "LayoutModel",
     "state": {
      "_model_module": "@jupyter-widgets/base",
      "_model_module_version": "1.2.0",
      "_model_name": "LayoutModel",
      "_view_count": null,
      "_view_module": "@jupyter-widgets/base",
      "_view_module_version": "1.2.0",
      "_view_name": "LayoutView",
      "align_content": null,
      "align_items": null,
      "align_self": null,
      "border": null,
      "bottom": null,
      "display": null,
      "flex": null,
      "flex_flow": null,
      "grid_area": null,
      "grid_auto_columns": null,
      "grid_auto_flow": null,
      "grid_auto_rows": null,
      "grid_column": null,
      "grid_gap": null,
      "grid_row": null,
      "grid_template_areas": null,
      "grid_template_columns": null,
      "grid_template_rows": null,
      "height": null,
      "justify_content": null,
      "justify_items": null,
      "left": null,
      "margin": null,
      "max_height": null,
      "max_width": null,
      "min_height": null,
      "min_width": null,
      "object_fit": null,
      "object_position": null,
      "order": null,
      "overflow": null,
      "overflow_x": null,
      "overflow_y": null,
      "padding": null,
      "right": null,
      "top": null,
      "visibility": null,
      "width": null
     }
    },
    "818ea82ea3d54d90b464053dbe8bd17d": {
     "model_module": "@jupyter-widgets/controls",
     "model_module_version": "1.5.0",
     "model_name": "HTMLModel",
     "state": {
      "_dom_classes": [],
      "_model_module": "@jupyter-widgets/controls",
      "_model_module_version": "1.5.0",
      "_model_name": "HTMLModel",
      "_view_count": null,
      "_view_module": "@jupyter-widgets/controls",
      "_view_module_version": "1.5.0",
      "_view_name": "HTMLView",
      "description": "",
      "description_tooltip": null,
      "layout": "IPY_MODEL_7ff0ef6d62fa4a1a9000429f29a87771",
      "placeholder": "​",
      "style": "IPY_MODEL_6a74ede2b9bc414ba6c7967a492315ca",
      "value": " 88/88 [06:11&lt;00:00,  4.22s/it]"
     }
    },
    "81f58b82ea684ffd8561e34cfbe973ef": {
     "model_module": "@jupyter-widgets/controls",
     "model_module_version": "1.5.0",
     "model_name": "DescriptionStyleModel",
     "state": {
      "_model_module": "@jupyter-widgets/controls",
      "_model_module_version": "1.5.0",
      "_model_name": "DescriptionStyleModel",
      "_view_count": null,
      "_view_module": "@jupyter-widgets/base",
      "_view_module_version": "1.2.0",
      "_view_name": "StyleView",
      "description_width": ""
     }
    },
    "864105f04c6446759b88fdb546e25217": {
     "model_module": "@jupyter-widgets/base",
     "model_module_version": "1.2.0",
     "model_name": "LayoutModel",
     "state": {
      "_model_module": "@jupyter-widgets/base",
      "_model_module_version": "1.2.0",
      "_model_name": "LayoutModel",
      "_view_count": null,
      "_view_module": "@jupyter-widgets/base",
      "_view_module_version": "1.2.0",
      "_view_name": "LayoutView",
      "align_content": null,
      "align_items": null,
      "align_self": null,
      "border": null,
      "bottom": null,
      "display": null,
      "flex": null,
      "flex_flow": null,
      "grid_area": null,
      "grid_auto_columns": null,
      "grid_auto_flow": null,
      "grid_auto_rows": null,
      "grid_column": null,
      "grid_gap": null,
      "grid_row": null,
      "grid_template_areas": null,
      "grid_template_columns": null,
      "grid_template_rows": null,
      "height": null,
      "justify_content": null,
      "justify_items": null,
      "left": null,
      "margin": null,
      "max_height": null,
      "max_width": null,
      "min_height": null,
      "min_width": null,
      "object_fit": null,
      "object_position": null,
      "order": null,
      "overflow": null,
      "overflow_x": null,
      "overflow_y": null,
      "padding": null,
      "right": null,
      "top": null,
      "visibility": null,
      "width": null
     }
    },
    "86d65684c6bd4be6abd61f92cc67b425": {
     "model_module": "@jupyter-widgets/base",
     "model_module_version": "1.2.0",
     "model_name": "LayoutModel",
     "state": {
      "_model_module": "@jupyter-widgets/base",
      "_model_module_version": "1.2.0",
      "_model_name": "LayoutModel",
      "_view_count": null,
      "_view_module": "@jupyter-widgets/base",
      "_view_module_version": "1.2.0",
      "_view_name": "LayoutView",
      "align_content": null,
      "align_items": null,
      "align_self": null,
      "border": null,
      "bottom": null,
      "display": null,
      "flex": null,
      "flex_flow": null,
      "grid_area": null,
      "grid_auto_columns": null,
      "grid_auto_flow": null,
      "grid_auto_rows": null,
      "grid_column": null,
      "grid_gap": null,
      "grid_row": null,
      "grid_template_areas": null,
      "grid_template_columns": null,
      "grid_template_rows": null,
      "height": null,
      "justify_content": null,
      "justify_items": null,
      "left": null,
      "margin": null,
      "max_height": null,
      "max_width": null,
      "min_height": null,
      "min_width": null,
      "object_fit": null,
      "object_position": null,
      "order": null,
      "overflow": null,
      "overflow_x": null,
      "overflow_y": null,
      "padding": null,
      "right": null,
      "top": null,
      "visibility": null,
      "width": null
     }
    },
    "91f532937daa430ebdf62d66d91089d1": {
     "model_module": "@jupyter-widgets/controls",
     "model_module_version": "1.5.0",
     "model_name": "FloatProgressModel",
     "state": {
      "_dom_classes": [],
      "_model_module": "@jupyter-widgets/controls",
      "_model_module_version": "1.5.0",
      "_model_name": "FloatProgressModel",
      "_view_count": null,
      "_view_module": "@jupyter-widgets/controls",
      "_view_module_version": "1.5.0",
      "_view_name": "ProgressView",
      "bar_style": "",
      "description": "",
      "description_tooltip": null,
      "layout": "IPY_MODEL_6cc18020c4654baf8e0ef55cfb67e556",
      "max": 792,
      "min": 0,
      "orientation": "horizontal",
      "style": "IPY_MODEL_a2616925ef9846be95e1cc133af910e5",
      "value": 30
     }
    },
    "922fa1bc65e340fd99ac94e7afdeae0e": {
     "model_module": "@jupyter-widgets/controls",
     "model_module_version": "1.5.0",
     "model_name": "HTMLModel",
     "state": {
      "_dom_classes": [],
      "_model_module": "@jupyter-widgets/controls",
      "_model_module_version": "1.5.0",
      "_model_name": "HTMLModel",
      "_view_count": null,
      "_view_module": "@jupyter-widgets/controls",
      "_view_module_version": "1.5.0",
      "_view_name": "HTMLView",
      "description": "",
      "description_tooltip": null,
      "layout": "IPY_MODEL_06112586a28b4e68b5eaa8867c67f0f2",
      "placeholder": "​",
      "style": "IPY_MODEL_81f58b82ea684ffd8561e34cfbe973ef",
      "value": " 792k/792k [00:01&lt;00:00, 646kB/s]"
     }
    },
    "93d00b8e3943425ea5000e1744df48c8": {
     "model_module": "@jupyter-widgets/controls",
     "model_module_version": "1.5.0",
     "model_name": "ProgressStyleModel",
     "state": {
      "_model_module": "@jupyter-widgets/controls",
      "_model_module_version": "1.5.0",
      "_model_name": "ProgressStyleModel",
      "_view_count": null,
      "_view_module": "@jupyter-widgets/base",
      "_view_module_version": "1.2.0",
      "_view_name": "StyleView",
      "bar_color": null,
      "description_width": ""
     }
    },
    "94c6dda3f5344361864e265c5a497ec5": {
     "model_module": "@jupyter-widgets/controls",
     "model_module_version": "1.5.0",
     "model_name": "ProgressStyleModel",
     "state": {
      "_model_module": "@jupyter-widgets/controls",
      "_model_module_version": "1.5.0",
      "_model_name": "ProgressStyleModel",
      "_view_count": null,
      "_view_module": "@jupyter-widgets/base",
      "_view_module_version": "1.2.0",
      "_view_name": "StyleView",
      "bar_color": null,
      "description_width": ""
     }
    },
    "95b08386c9ee4b02b03f11e430a38a67": {
     "model_module": "@jupyter-widgets/controls",
     "model_module_version": "1.5.0",
     "model_name": "DescriptionStyleModel",
     "state": {
      "_model_module": "@jupyter-widgets/controls",
      "_model_module_version": "1.5.0",
      "_model_name": "DescriptionStyleModel",
      "_view_count": null,
      "_view_module": "@jupyter-widgets/base",
      "_view_module_version": "1.2.0",
      "_view_name": "StyleView",
      "description_width": ""
     }
    },
    "95b51dd6a9464e8781206a818b52d5b4": {
     "model_module": "@jupyter-widgets/controls",
     "model_module_version": "1.5.0",
     "model_name": "FloatProgressModel",
     "state": {
      "_dom_classes": [],
      "_model_module": "@jupyter-widgets/controls",
      "_model_module_version": "1.5.0",
      "_model_name": "FloatProgressModel",
      "_view_count": null,
      "_view_module": "@jupyter-widgets/controls",
      "_view_module_version": "1.5.0",
      "_view_name": "ProgressView",
      "bar_style": "success",
      "description": "",
      "description_tooltip": null,
      "layout": "IPY_MODEL_5d7a367dc43345e5a62db10d76b6c769",
      "max": 1786,
      "min": 0,
      "orientation": "horizontal",
      "style": "IPY_MODEL_94c6dda3f5344361864e265c5a497ec5",
      "value": 1786
     }
    },
    "95fb6d98003140789d75f9aed65807aa": {
     "model_module": "@jupyter-widgets/base",
     "model_module_version": "1.2.0",
     "model_name": "LayoutModel",
     "state": {
      "_model_module": "@jupyter-widgets/base",
      "_model_module_version": "1.2.0",
      "_model_name": "LayoutModel",
      "_view_count": null,
      "_view_module": "@jupyter-widgets/base",
      "_view_module_version": "1.2.0",
      "_view_name": "LayoutView",
      "align_content": null,
      "align_items": null,
      "align_self": null,
      "border": null,
      "bottom": null,
      "display": "inline-flex",
      "flex": null,
      "flex_flow": "row wrap",
      "grid_area": null,
      "grid_auto_columns": null,
      "grid_auto_flow": null,
      "grid_auto_rows": null,
      "grid_column": null,
      "grid_gap": null,
      "grid_row": null,
      "grid_template_areas": null,
      "grid_template_columns": null,
      "grid_template_rows": null,
      "height": null,
      "justify_content": null,
      "justify_items": null,
      "left": null,
      "margin": null,
      "max_height": null,
      "max_width": null,
      "min_height": null,
      "min_width": null,
      "object_fit": null,
      "object_position": null,
      "order": null,
      "overflow": null,
      "overflow_x": null,
      "overflow_y": null,
      "padding": null,
      "right": null,
      "top": null,
      "visibility": "hidden",
      "width": "100%"
     }
    },
    "96bd15df444b49c59da2b8a9df9480fd": {
     "model_module": "@jupyter-widgets/controls",
     "model_module_version": "1.5.0",
     "model_name": "HBoxModel",
     "state": {
      "_dom_classes": [],
      "_model_module": "@jupyter-widgets/controls",
      "_model_module_version": "1.5.0",
      "_model_name": "HBoxModel",
      "_view_count": null,
      "_view_module": "@jupyter-widgets/controls",
      "_view_module_version": "1.5.0",
      "_view_name": "HBoxView",
      "box_style": "",
      "children": [
       "IPY_MODEL_c44d2d1c22804c68b9b56620ee148f3e",
       "IPY_MODEL_19358d716b63493a9a33ca05a0a16c15",
       "IPY_MODEL_818ea82ea3d54d90b464053dbe8bd17d"
      ],
      "layout": "IPY_MODEL_42f608cf66ac4b1f9e57ccc58f2ad70f"
     }
    },
    "97c0f5fabc174482abe22f594a5f9292": {
     "model_module": "@jupyter-widgets/controls",
     "model_module_version": "1.5.0",
     "model_name": "ProgressStyleModel",
     "state": {
      "_model_module": "@jupyter-widgets/controls",
      "_model_module_version": "1.5.0",
      "_model_name": "ProgressStyleModel",
      "_view_count": null,
      "_view_module": "@jupyter-widgets/base",
      "_view_module_version": "1.2.0",
      "_view_name": "StyleView",
      "bar_color": null,
      "description_width": ""
     }
    },
    "98fcb31ecd6146758e6b0d2752de6639": {
     "model_module": "@jupyter-widgets/base",
     "model_module_version": "1.2.0",
     "model_name": "LayoutModel",
     "state": {
      "_model_module": "@jupyter-widgets/base",
      "_model_module_version": "1.2.0",
      "_model_name": "LayoutModel",
      "_view_count": null,
      "_view_module": "@jupyter-widgets/base",
      "_view_module_version": "1.2.0",
      "_view_name": "LayoutView",
      "align_content": null,
      "align_items": null,
      "align_self": null,
      "border": null,
      "bottom": null,
      "display": "inline-flex",
      "flex": null,
      "flex_flow": "row wrap",
      "grid_area": null,
      "grid_auto_columns": null,
      "grid_auto_flow": null,
      "grid_auto_rows": null,
      "grid_column": null,
      "grid_gap": null,
      "grid_row": null,
      "grid_template_areas": null,
      "grid_template_columns": null,
      "grid_template_rows": null,
      "height": null,
      "justify_content": null,
      "justify_items": null,
      "left": null,
      "margin": null,
      "max_height": null,
      "max_width": null,
      "min_height": null,
      "min_width": null,
      "object_fit": null,
      "object_position": null,
      "order": null,
      "overflow": null,
      "overflow_x": null,
      "overflow_y": null,
      "padding": null,
      "right": null,
      "top": null,
      "visibility": "hidden",
      "width": "100%"
     }
    },
    "9ad485d1c0aa48ef80f545b951db3440": {
     "model_module": "@jupyter-widgets/base",
     "model_module_version": "1.2.0",
     "model_name": "LayoutModel",
     "state": {
      "_model_module": "@jupyter-widgets/base",
      "_model_module_version": "1.2.0",
      "_model_name": "LayoutModel",
      "_view_count": null,
      "_view_module": "@jupyter-widgets/base",
      "_view_module_version": "1.2.0",
      "_view_name": "LayoutView",
      "align_content": null,
      "align_items": null,
      "align_self": null,
      "border": null,
      "bottom": null,
      "display": "inline-flex",
      "flex": null,
      "flex_flow": "row wrap",
      "grid_area": null,
      "grid_auto_columns": null,
      "grid_auto_flow": null,
      "grid_auto_rows": null,
      "grid_column": null,
      "grid_gap": null,
      "grid_row": null,
      "grid_template_areas": null,
      "grid_template_columns": null,
      "grid_template_rows": null,
      "height": null,
      "justify_content": null,
      "justify_items": null,
      "left": null,
      "margin": null,
      "max_height": null,
      "max_width": null,
      "min_height": null,
      "min_width": null,
      "object_fit": null,
      "object_position": null,
      "order": null,
      "overflow": null,
      "overflow_x": null,
      "overflow_y": null,
      "padding": null,
      "right": null,
      "top": null,
      "visibility": "hidden",
      "width": "100%"
     }
    },
    "9adc60982c3f440a94a932fc9e0aab12": {
     "model_module": "@jupyter-widgets/base",
     "model_module_version": "1.2.0",
     "model_name": "LayoutModel",
     "state": {
      "_model_module": "@jupyter-widgets/base",
      "_model_module_version": "1.2.0",
      "_model_name": "LayoutModel",
      "_view_count": null,
      "_view_module": "@jupyter-widgets/base",
      "_view_module_version": "1.2.0",
      "_view_name": "LayoutView",
      "align_content": null,
      "align_items": null,
      "align_self": null,
      "border": null,
      "bottom": null,
      "display": null,
      "flex": null,
      "flex_flow": null,
      "grid_area": null,
      "grid_auto_columns": null,
      "grid_auto_flow": null,
      "grid_auto_rows": null,
      "grid_column": null,
      "grid_gap": null,
      "grid_row": null,
      "grid_template_areas": null,
      "grid_template_columns": null,
      "grid_template_rows": null,
      "height": null,
      "justify_content": null,
      "justify_items": null,
      "left": null,
      "margin": null,
      "max_height": null,
      "max_width": null,
      "min_height": null,
      "min_width": null,
      "object_fit": null,
      "object_position": null,
      "order": null,
      "overflow": null,
      "overflow_x": null,
      "overflow_y": null,
      "padding": null,
      "right": null,
      "top": null,
      "visibility": null,
      "width": null
     }
    },
    "9c0cdcf74c9242d8b4c653ec7aac6eb5": {
     "model_module": "@jupyter-widgets/base",
     "model_module_version": "1.2.0",
     "model_name": "LayoutModel",
     "state": {
      "_model_module": "@jupyter-widgets/base",
      "_model_module_version": "1.2.0",
      "_model_name": "LayoutModel",
      "_view_count": null,
      "_view_module": "@jupyter-widgets/base",
      "_view_module_version": "1.2.0",
      "_view_name": "LayoutView",
      "align_content": null,
      "align_items": null,
      "align_self": null,
      "border": null,
      "bottom": null,
      "display": null,
      "flex": "2",
      "flex_flow": null,
      "grid_area": null,
      "grid_auto_columns": null,
      "grid_auto_flow": null,
      "grid_auto_rows": null,
      "grid_column": null,
      "grid_gap": null,
      "grid_row": null,
      "grid_template_areas": null,
      "grid_template_columns": null,
      "grid_template_rows": null,
      "height": null,
      "justify_content": null,
      "justify_items": null,
      "left": null,
      "margin": null,
      "max_height": null,
      "max_width": null,
      "min_height": null,
      "min_width": null,
      "object_fit": null,
      "object_position": null,
      "order": null,
      "overflow": null,
      "overflow_x": null,
      "overflow_y": null,
      "padding": null,
      "right": null,
      "top": null,
      "visibility": null,
      "width": null
     }
    },
    "9ff3451c2ad745c0ab165c68f4b068a9": {
     "model_module": "@jupyter-widgets/controls",
     "model_module_version": "1.5.0",
     "model_name": "DescriptionStyleModel",
     "state": {
      "_model_module": "@jupyter-widgets/controls",
      "_model_module_version": "1.5.0",
      "_model_name": "DescriptionStyleModel",
      "_view_count": null,
      "_view_module": "@jupyter-widgets/base",
      "_view_module_version": "1.2.0",
      "_view_name": "StyleView",
      "description_width": ""
     }
    },
    "a1024f80886342a499e31c72a45bb1f3": {
     "model_module": "@jupyter-widgets/controls",
     "model_module_version": "1.5.0",
     "model_name": "HTMLModel",
     "state": {
      "_dom_classes": [],
      "_model_module": "@jupyter-widgets/controls",
      "_model_module_version": "1.5.0",
      "_model_name": "HTMLModel",
      "_view_count": null,
      "_view_module": "@jupyter-widgets/controls",
      "_view_module_version": "1.5.0",
      "_view_name": "HTMLView",
      "description": "",
      "description_tooltip": null,
      "layout": "IPY_MODEL_5d8eb6272f614c2495d005b487b7750b",
      "placeholder": "​",
      "style": "IPY_MODEL_2fdca230b33f491e9879595a0460c3c7",
      "value": " 20/792 [00:10&lt;06:51,  1.88it/s, loss=0.241, v_num=0, train_loss_step=0.173, val_loss_step=0.154, val_loss_epoch=0.231, train_loss_epoch=0.281]"
     }
    },
    "a1a4946d56464e96a99ed04bd4d67b8d": {
     "model_module": "@jupyter-widgets/controls",
     "model_module_version": "1.5.0",
     "model_name": "HTMLModel",
     "state": {
      "_dom_classes": [],
      "_model_module": "@jupyter-widgets/controls",
      "_model_module_version": "1.5.0",
      "_model_name": "HTMLModel",
      "_view_count": null,
      "_view_module": "@jupyter-widgets/controls",
      "_view_module_version": "1.5.0",
      "_view_name": "HTMLView",
      "description": "",
      "description_tooltip": null,
      "layout": "IPY_MODEL_c89f7ae70b74427691d885edcdfa60d7",
      "placeholder": "​",
      "style": "IPY_MODEL_9ff3451c2ad745c0ab165c68f4b068a9",
      "value": " 88/88 [06:11&lt;00:00,  4.22s/it]"
     }
    },
    "a2616925ef9846be95e1cc133af910e5": {
     "model_module": "@jupyter-widgets/controls",
     "model_module_version": "1.5.0",
     "model_name": "ProgressStyleModel",
     "state": {
      "_model_module": "@jupyter-widgets/controls",
      "_model_module_version": "1.5.0",
      "_model_name": "ProgressStyleModel",
      "_view_count": null,
      "_view_module": "@jupyter-widgets/base",
      "_view_module_version": "1.2.0",
      "_view_name": "StyleView",
      "bar_color": null,
      "description_width": ""
     }
    },
    "a6ef7eacbeb448dba7ec1def6ceef1dd": {
     "model_module": "@jupyter-widgets/base",
     "model_module_version": "1.2.0",
     "model_name": "LayoutModel",
     "state": {
      "_model_module": "@jupyter-widgets/base",
      "_model_module_version": "1.2.0",
      "_model_name": "LayoutModel",
      "_view_count": null,
      "_view_module": "@jupyter-widgets/base",
      "_view_module_version": "1.2.0",
      "_view_name": "LayoutView",
      "align_content": null,
      "align_items": null,
      "align_self": null,
      "border": null,
      "bottom": null,
      "display": null,
      "flex": null,
      "flex_flow": null,
      "grid_area": null,
      "grid_auto_columns": null,
      "grid_auto_flow": null,
      "grid_auto_rows": null,
      "grid_column": null,
      "grid_gap": null,
      "grid_row": null,
      "grid_template_areas": null,
      "grid_template_columns": null,
      "grid_template_rows": null,
      "height": null,
      "justify_content": null,
      "justify_items": null,
      "left": null,
      "margin": null,
      "max_height": null,
      "max_width": null,
      "min_height": null,
      "min_width": null,
      "object_fit": null,
      "object_position": null,
      "order": null,
      "overflow": null,
      "overflow_x": null,
      "overflow_y": null,
      "padding": null,
      "right": null,
      "top": null,
      "visibility": null,
      "width": null
     }
    },
    "a6f22a9e908c4aec84598a76feb9c4c4": {
     "model_module": "@jupyter-widgets/controls",
     "model_module_version": "1.5.0",
     "model_name": "HTMLModel",
     "state": {
      "_dom_classes": [],
      "_model_module": "@jupyter-widgets/controls",
      "_model_module_version": "1.5.0",
      "_model_name": "HTMLModel",
      "_view_count": null,
      "_view_module": "@jupyter-widgets/controls",
      "_view_module_version": "1.5.0",
      "_view_name": "HTMLView",
      "description": "",
      "description_tooltip": null,
      "layout": "IPY_MODEL_407aea00c38a488dae713ef976771df9",
      "placeholder": "​",
      "style": "IPY_MODEL_e06c2e6267d44ae7bdbc78341368e92b",
      "value": "Epoch 0:   4%"
     }
    },
    "a8913f0c67f743338b6cf491e73e241f": {
     "model_module": "@jupyter-widgets/base",
     "model_module_version": "1.2.0",
     "model_name": "LayoutModel",
     "state": {
      "_model_module": "@jupyter-widgets/base",
      "_model_module_version": "1.2.0",
      "_model_name": "LayoutModel",
      "_view_count": null,
      "_view_module": "@jupyter-widgets/base",
      "_view_module_version": "1.2.0",
      "_view_name": "LayoutView",
      "align_content": null,
      "align_items": null,
      "align_self": null,
      "border": null,
      "bottom": null,
      "display": null,
      "flex": null,
      "flex_flow": null,
      "grid_area": null,
      "grid_auto_columns": null,
      "grid_auto_flow": null,
      "grid_auto_rows": null,
      "grid_column": null,
      "grid_gap": null,
      "grid_row": null,
      "grid_template_areas": null,
      "grid_template_columns": null,
      "grid_template_rows": null,
      "height": null,
      "justify_content": null,
      "justify_items": null,
      "left": null,
      "margin": null,
      "max_height": null,
      "max_width": null,
      "min_height": null,
      "min_width": null,
      "object_fit": null,
      "object_position": null,
      "order": null,
      "overflow": null,
      "overflow_x": null,
      "overflow_y": null,
      "padding": null,
      "right": null,
      "top": null,
      "visibility": null,
      "width": null
     }
    },
    "aeab7601cb5e4fce8ade7eb0a700a46e": {
     "model_module": "@jupyter-widgets/base",
     "model_module_version": "1.2.0",
     "model_name": "LayoutModel",
     "state": {
      "_model_module": "@jupyter-widgets/base",
      "_model_module_version": "1.2.0",
      "_model_name": "LayoutModel",
      "_view_count": null,
      "_view_module": "@jupyter-widgets/base",
      "_view_module_version": "1.2.0",
      "_view_name": "LayoutView",
      "align_content": null,
      "align_items": null,
      "align_self": null,
      "border": null,
      "bottom": null,
      "display": null,
      "flex": null,
      "flex_flow": null,
      "grid_area": null,
      "grid_auto_columns": null,
      "grid_auto_flow": null,
      "grid_auto_rows": null,
      "grid_column": null,
      "grid_gap": null,
      "grid_row": null,
      "grid_template_areas": null,
      "grid_template_columns": null,
      "grid_template_rows": null,
      "height": null,
      "justify_content": null,
      "justify_items": null,
      "left": null,
      "margin": null,
      "max_height": null,
      "max_width": null,
      "min_height": null,
      "min_width": null,
      "object_fit": null,
      "object_position": null,
      "order": null,
      "overflow": null,
      "overflow_x": null,
      "overflow_y": null,
      "padding": null,
      "right": null,
      "top": null,
      "visibility": null,
      "width": null
     }
    },
    "aecab0544ac44df293260c366e65c56e": {
     "model_module": "@jupyter-widgets/controls",
     "model_module_version": "1.5.0",
     "model_name": "HBoxModel",
     "state": {
      "_dom_classes": [],
      "_model_module": "@jupyter-widgets/controls",
      "_model_module_version": "1.5.0",
      "_model_name": "HBoxModel",
      "_view_count": null,
      "_view_module": "@jupyter-widgets/controls",
      "_view_module_version": "1.5.0",
      "_view_name": "HBoxView",
      "box_style": "",
      "children": [
       "IPY_MODEL_ed293177ba2645fd92eb244167ca3b52",
       "IPY_MODEL_b41de24293ad48bb9fcf6cf644099270",
       "IPY_MODEL_bbfee30ecced4fa794a1f70ff5b69a2a"
      ],
      "layout": "IPY_MODEL_d55acd98af48449d9b655a5c71230385"
     }
    },
    "b39ebcf63b564eaa804ca822130d7e6f": {
     "model_module": "@jupyter-widgets/base",
     "model_module_version": "1.2.0",
     "model_name": "LayoutModel",
     "state": {
      "_model_module": "@jupyter-widgets/base",
      "_model_module_version": "1.2.0",
      "_model_name": "LayoutModel",
      "_view_count": null,
      "_view_module": "@jupyter-widgets/base",
      "_view_module_version": "1.2.0",
      "_view_name": "LayoutView",
      "align_content": null,
      "align_items": null,
      "align_self": null,
      "border": null,
      "bottom": null,
      "display": null,
      "flex": null,
      "flex_flow": null,
      "grid_area": null,
      "grid_auto_columns": null,
      "grid_auto_flow": null,
      "grid_auto_rows": null,
      "grid_column": null,
      "grid_gap": null,
      "grid_row": null,
      "grid_template_areas": null,
      "grid_template_columns": null,
      "grid_template_rows": null,
      "height": null,
      "justify_content": null,
      "justify_items": null,
      "left": null,
      "margin": null,
      "max_height": null,
      "max_width": null,
      "min_height": null,
      "min_width": null,
      "object_fit": null,
      "object_position": null,
      "order": null,
      "overflow": null,
      "overflow_x": null,
      "overflow_y": null,
      "padding": null,
      "right": null,
      "top": null,
      "visibility": null,
      "width": null
     }
    },
    "b41de24293ad48bb9fcf6cf644099270": {
     "model_module": "@jupyter-widgets/controls",
     "model_module_version": "1.5.0",
     "model_name": "FloatProgressModel",
     "state": {
      "_dom_classes": [],
      "_model_module": "@jupyter-widgets/controls",
      "_model_module_version": "1.5.0",
      "_model_name": "FloatProgressModel",
      "_view_count": null,
      "_view_module": "@jupyter-widgets/controls",
      "_view_module_version": "1.5.0",
      "_view_name": "ProgressView",
      "bar_style": "success",
      "description": "",
      "description_tooltip": null,
      "layout": "IPY_MODEL_43ecff8be3c64e95956952e8d5e2455a",
      "max": 242068411,
      "min": 0,
      "orientation": "horizontal",
      "style": "IPY_MODEL_c75bdeee51a6472b8ea9c1724d7c99f4",
      "value": 242068411
     }
    },
    "b48b1ca397194b25a0def5e122e3ffaa": {
     "model_module": "@jupyter-widgets/controls",
     "model_module_version": "1.5.0",
     "model_name": "ProgressStyleModel",
     "state": {
      "_model_module": "@jupyter-widgets/controls",
      "_model_module_version": "1.5.0",
      "_model_name": "ProgressStyleModel",
      "_view_count": null,
      "_view_module": "@jupyter-widgets/base",
      "_view_module_version": "1.2.0",
      "_view_name": "StyleView",
      "bar_color": null,
      "description_width": ""
     }
    },
    "b574c88e8cba436a8336abee107c41f8": {
     "model_module": "@jupyter-widgets/controls",
     "model_module_version": "1.5.0",
     "model_name": "HTMLModel",
     "state": {
      "_dom_classes": [],
      "_model_module": "@jupyter-widgets/controls",
      "_model_module_version": "1.5.0",
      "_model_name": "HTMLModel",
      "_view_count": null,
      "_view_module": "@jupyter-widgets/controls",
      "_view_module_version": "1.5.0",
      "_view_name": "HTMLView",
      "description": "",
      "description_tooltip": null,
      "layout": "IPY_MODEL_ff796ee660c34226a092c4e07e25cf41",
      "placeholder": "​",
      "style": "IPY_MODEL_49bb25203f9a4fb7bae9cf5d0ec26459",
      "value": "Validation DataLoader 0: 100%"
     }
    },
    "b8356b49e87049328fc7d8c659a10f12": {
     "model_module": "@jupyter-widgets/controls",
     "model_module_version": "1.5.0",
     "model_name": "FloatProgressModel",
     "state": {
      "_dom_classes": [],
      "_model_module": "@jupyter-widgets/controls",
      "_model_module_version": "1.5.0",
      "_model_name": "FloatProgressModel",
      "_view_count": null,
      "_view_module": "@jupyter-widgets/controls",
      "_view_module_version": "1.5.0",
      "_view_name": "ProgressView",
      "bar_style": "success",
      "description": "",
      "description_tooltip": null,
      "layout": "IPY_MODEL_e018eda7cf104dc2886c33d3f3a79532",
      "max": 1998,
      "min": 0,
      "orientation": "horizontal",
      "style": "IPY_MODEL_68a68901df5349978fc1c5cacadf2364",
      "value": 1998
     }
    },
    "b92fa01e720d412f90b163c4d7f0bcc3": {
     "model_module": "@jupyter-widgets/controls",
     "model_module_version": "1.5.0",
     "model_name": "ProgressStyleModel",
     "state": {
      "_model_module": "@jupyter-widgets/controls",
      "_model_module_version": "1.5.0",
      "_model_name": "ProgressStyleModel",
      "_view_count": null,
      "_view_module": "@jupyter-widgets/base",
      "_view_module_version": "1.2.0",
      "_view_name": "StyleView",
      "bar_color": null,
      "description_width": ""
     }
    },
    "b97cba018d494cb7837876e6aa38e2b1": {
     "model_module": "@jupyter-widgets/controls",
     "model_module_version": "1.5.0",
     "model_name": "DescriptionStyleModel",
     "state": {
      "_model_module": "@jupyter-widgets/controls",
      "_model_module_version": "1.5.0",
      "_model_name": "DescriptionStyleModel",
      "_view_count": null,
      "_view_module": "@jupyter-widgets/base",
      "_view_module_version": "1.2.0",
      "_view_name": "StyleView",
      "description_width": ""
     }
    },
    "bbfee30ecced4fa794a1f70ff5b69a2a": {
     "model_module": "@jupyter-widgets/controls",
     "model_module_version": "1.5.0",
     "model_name": "HTMLModel",
     "state": {
      "_dom_classes": [],
      "_model_module": "@jupyter-widgets/controls",
      "_model_module_version": "1.5.0",
      "_model_name": "HTMLModel",
      "_view_count": null,
      "_view_module": "@jupyter-widgets/controls",
      "_view_module_version": "1.5.0",
      "_view_name": "HTMLView",
      "description": "",
      "description_tooltip": null,
      "layout": "IPY_MODEL_4a3a2eaff03846f0aa029b7a636e25ff",
      "placeholder": "​",
      "style": "IPY_MODEL_7b08113ea2be47cf922ae3576e002150",
      "value": " 242M/242M [00:17&lt;00:00, 15.1MB/s]"
     }
    },
    "bdc10ff6e44b4cf1b2f5fe969ef268cb": {
     "model_module": "@jupyter-widgets/controls",
     "model_module_version": "1.5.0",
     "model_name": "DescriptionStyleModel",
     "state": {
      "_model_module": "@jupyter-widgets/controls",
      "_model_module_version": "1.5.0",
      "_model_name": "DescriptionStyleModel",
      "_view_count": null,
      "_view_module": "@jupyter-widgets/base",
      "_view_module_version": "1.2.0",
      "_view_name": "StyleView",
      "description_width": ""
     }
    },
    "bdf3f27824fa4ae19bb2e15aa66dba67": {
     "model_module": "@jupyter-widgets/controls",
     "model_module_version": "1.5.0",
     "model_name": "ProgressStyleModel",
     "state": {
      "_model_module": "@jupyter-widgets/controls",
      "_model_module_version": "1.5.0",
      "_model_name": "ProgressStyleModel",
      "_view_count": null,
      "_view_module": "@jupyter-widgets/base",
      "_view_module_version": "1.2.0",
      "_view_name": "StyleView",
      "bar_color": null,
      "description_width": ""
     }
    },
    "c33cd3cdf38c4533b8b5473c5e4329ff": {
     "model_module": "@jupyter-widgets/controls",
     "model_module_version": "1.5.0",
     "model_name": "HBoxModel",
     "state": {
      "_dom_classes": [],
      "_model_module": "@jupyter-widgets/controls",
      "_model_module_version": "1.5.0",
      "_model_name": "HBoxModel",
      "_view_count": null,
      "_view_module": "@jupyter-widgets/controls",
      "_view_module_version": "1.5.0",
      "_view_name": "HBoxView",
      "box_style": "",
      "children": [
       "IPY_MODEL_f5f38c04aacc483a8aef016114a4db68",
       "IPY_MODEL_00ae957e9224428394fc0b2ed6ab3b8c",
       "IPY_MODEL_922fa1bc65e340fd99ac94e7afdeae0e"
      ],
      "layout": "IPY_MODEL_86d65684c6bd4be6abd61f92cc67b425"
     }
    },
    "c44d2d1c22804c68b9b56620ee148f3e": {
     "model_module": "@jupyter-widgets/controls",
     "model_module_version": "1.5.0",
     "model_name": "HTMLModel",
     "state": {
      "_dom_classes": [],
      "_model_module": "@jupyter-widgets/controls",
      "_model_module_version": "1.5.0",
      "_model_name": "HTMLModel",
      "_view_count": null,
      "_view_module": "@jupyter-widgets/controls",
      "_view_module_version": "1.5.0",
      "_view_name": "HTMLView",
      "description": "",
      "description_tooltip": null,
      "layout": "IPY_MODEL_864105f04c6446759b88fdb546e25217",
      "placeholder": "​",
      "style": "IPY_MODEL_b97cba018d494cb7837876e6aa38e2b1",
      "value": "Validation DataLoader 0: 100%"
     }
    },
    "c75bdeee51a6472b8ea9c1724d7c99f4": {
     "model_module": "@jupyter-widgets/controls",
     "model_module_version": "1.5.0",
     "model_name": "ProgressStyleModel",
     "state": {
      "_model_module": "@jupyter-widgets/controls",
      "_model_module_version": "1.5.0",
      "_model_name": "ProgressStyleModel",
      "_view_count": null,
      "_view_module": "@jupyter-widgets/base",
      "_view_module_version": "1.2.0",
      "_view_name": "StyleView",
      "bar_color": null,
      "description_width": ""
     }
    },
    "c89f7ae70b74427691d885edcdfa60d7": {
     "model_module": "@jupyter-widgets/base",
     "model_module_version": "1.2.0",
     "model_name": "LayoutModel",
     "state": {
      "_model_module": "@jupyter-widgets/base",
      "_model_module_version": "1.2.0",
      "_model_name": "LayoutModel",
      "_view_count": null,
      "_view_module": "@jupyter-widgets/base",
      "_view_module_version": "1.2.0",
      "_view_name": "LayoutView",
      "align_content": null,
      "align_items": null,
      "align_self": null,
      "border": null,
      "bottom": null,
      "display": null,
      "flex": null,
      "flex_flow": null,
      "grid_area": null,
      "grid_auto_columns": null,
      "grid_auto_flow": null,
      "grid_auto_rows": null,
      "grid_column": null,
      "grid_gap": null,
      "grid_row": null,
      "grid_template_areas": null,
      "grid_template_columns": null,
      "grid_template_rows": null,
      "height": null,
      "justify_content": null,
      "justify_items": null,
      "left": null,
      "margin": null,
      "max_height": null,
      "max_width": null,
      "min_height": null,
      "min_width": null,
      "object_fit": null,
      "object_position": null,
      "order": null,
      "overflow": null,
      "overflow_x": null,
      "overflow_y": null,
      "padding": null,
      "right": null,
      "top": null,
      "visibility": null,
      "width": null
     }
    },
    "c96d94c5c0b3438b9c0fcb8002c43262": {
     "model_module": "@jupyter-widgets/base",
     "model_module_version": "1.2.0",
     "model_name": "LayoutModel",
     "state": {
      "_model_module": "@jupyter-widgets/base",
      "_model_module_version": "1.2.0",
      "_model_name": "LayoutModel",
      "_view_count": null,
      "_view_module": "@jupyter-widgets/base",
      "_view_module_version": "1.2.0",
      "_view_name": "LayoutView",
      "align_content": null,
      "align_items": null,
      "align_self": null,
      "border": null,
      "bottom": null,
      "display": "inline-flex",
      "flex": null,
      "flex_flow": "row wrap",
      "grid_area": null,
      "grid_auto_columns": null,
      "grid_auto_flow": null,
      "grid_auto_rows": null,
      "grid_column": null,
      "grid_gap": null,
      "grid_row": null,
      "grid_template_areas": null,
      "grid_template_columns": null,
      "grid_template_rows": null,
      "height": null,
      "justify_content": null,
      "justify_items": null,
      "left": null,
      "margin": null,
      "max_height": null,
      "max_width": null,
      "min_height": null,
      "min_width": null,
      "object_fit": null,
      "object_position": null,
      "order": null,
      "overflow": null,
      "overflow_x": null,
      "overflow_y": null,
      "padding": null,
      "right": null,
      "top": null,
      "visibility": "hidden",
      "width": "100%"
     }
    },
    "c9949c5ae1694ba5af3ec8505f7c32a7": {
     "model_module": "@jupyter-widgets/controls",
     "model_module_version": "1.5.0",
     "model_name": "ProgressStyleModel",
     "state": {
      "_model_module": "@jupyter-widgets/controls",
      "_model_module_version": "1.5.0",
      "_model_name": "ProgressStyleModel",
      "_view_count": null,
      "_view_module": "@jupyter-widgets/base",
      "_view_module_version": "1.2.0",
      "_view_name": "StyleView",
      "bar_color": null,
      "description_width": ""
     }
    },
    "ca9b659d49454063b233b3ef85858f99": {
     "model_module": "@jupyter-widgets/controls",
     "model_module_version": "1.5.0",
     "model_name": "HTMLModel",
     "state": {
      "_dom_classes": [],
      "_model_module": "@jupyter-widgets/controls",
      "_model_module_version": "1.5.0",
      "_model_name": "HTMLModel",
      "_view_count": null,
      "_view_module": "@jupyter-widgets/controls",
      "_view_module_version": "1.5.0",
      "_view_name": "HTMLView",
      "description": "",
      "description_tooltip": null,
      "layout": "IPY_MODEL_cbc2db2437c644389b461267e06f9fb1",
      "placeholder": "​",
      "style": "IPY_MODEL_95b08386c9ee4b02b03f11e430a38a67",
      "value": "Validation DataLoader 0: 100%"
     }
    },
    "caf9f04de2444517abc679d174b5936b": {
     "model_module": "@jupyter-widgets/controls",
     "model_module_version": "1.5.0",
     "model_name": "FloatProgressModel",
     "state": {
      "_dom_classes": [],
      "_model_module": "@jupyter-widgets/controls",
      "_model_module_version": "1.5.0",
      "_model_name": "FloatProgressModel",
      "_view_count": null,
      "_view_module": "@jupyter-widgets/controls",
      "_view_module_version": "1.5.0",
      "_view_name": "ProgressView",
      "bar_style": "",
      "description": "",
      "description_tooltip": null,
      "layout": "IPY_MODEL_70379345388e46449a93080a7fd88b98",
      "max": 792,
      "min": 0,
      "orientation": "horizontal",
      "style": "IPY_MODEL_97c0f5fabc174482abe22f594a5f9292",
      "value": 20
     }
    },
    "cbc2db2437c644389b461267e06f9fb1": {
     "model_module": "@jupyter-widgets/base",
     "model_module_version": "1.2.0",
     "model_name": "LayoutModel",
     "state": {
      "_model_module": "@jupyter-widgets/base",
      "_model_module_version": "1.2.0",
      "_model_name": "LayoutModel",
      "_view_count": null,
      "_view_module": "@jupyter-widgets/base",
      "_view_module_version": "1.2.0",
      "_view_name": "LayoutView",
      "align_content": null,
      "align_items": null,
      "align_self": null,
      "border": null,
      "bottom": null,
      "display": null,
      "flex": null,
      "flex_flow": null,
      "grid_area": null,
      "grid_auto_columns": null,
      "grid_auto_flow": null,
      "grid_auto_rows": null,
      "grid_column": null,
      "grid_gap": null,
      "grid_row": null,
      "grid_template_areas": null,
      "grid_template_columns": null,
      "grid_template_rows": null,
      "height": null,
      "justify_content": null,
      "justify_items": null,
      "left": null,
      "margin": null,
      "max_height": null,
      "max_width": null,
      "min_height": null,
      "min_width": null,
      "object_fit": null,
      "object_position": null,
      "order": null,
      "overflow": null,
      "overflow_x": null,
      "overflow_y": null,
      "padding": null,
      "right": null,
      "top": null,
      "visibility": null,
      "width": null
     }
    },
    "d00e6c536d7242b5aa6bc9ef22d460a5": {
     "model_module": "@jupyter-widgets/controls",
     "model_module_version": "1.5.0",
     "model_name": "HTMLModel",
     "state": {
      "_dom_classes": [],
      "_model_module": "@jupyter-widgets/controls",
      "_model_module_version": "1.5.0",
      "_model_name": "HTMLModel",
      "_view_count": null,
      "_view_module": "@jupyter-widgets/controls",
      "_view_module_version": "1.5.0",
      "_view_name": "HTMLView",
      "description": "",
      "description_tooltip": null,
      "layout": "IPY_MODEL_edcbbacfb9094c639965c13ca7f40d1c",
      "placeholder": "​",
      "style": "IPY_MODEL_eb87dd541fa548c4ac17a070d34e61ba",
      "value": " 88/88 [06:09&lt;00:00,  4.20s/it]"
     }
    },
    "d3b6fdbe4153443eae2ada05095e210a": {
     "model_module": "@jupyter-widgets/controls",
     "model_module_version": "1.5.0",
     "model_name": "HTMLModel",
     "state": {
      "_dom_classes": [],
      "_model_module": "@jupyter-widgets/controls",
      "_model_module_version": "1.5.0",
      "_model_name": "HTMLModel",
      "_view_count": null,
      "_view_module": "@jupyter-widgets/controls",
      "_view_module_version": "1.5.0",
      "_view_name": "HTMLView",
      "description": "",
      "description_tooltip": null,
      "layout": "IPY_MODEL_42bb2cfd4eb94e698741f225f71f8045",
      "placeholder": "​",
      "style": "IPY_MODEL_229779182d6247fda6b4917ee5a056e3",
      "value": "Validation DataLoader 0: 100%"
     }
    },
    "d44648ece54b46b19a74ec2ea1356211": {
     "model_module": "@jupyter-widgets/controls",
     "model_module_version": "1.5.0",
     "model_name": "HTMLModel",
     "state": {
      "_dom_classes": [],
      "_model_module": "@jupyter-widgets/controls",
      "_model_module_version": "1.5.0",
      "_model_name": "HTMLModel",
      "_view_count": null,
      "_view_module": "@jupyter-widgets/controls",
      "_view_module_version": "1.5.0",
      "_view_name": "HTMLView",
      "description": "",
      "description_tooltip": null,
      "layout": "IPY_MODEL_7b93307030a1448095dfca8f60edecb4",
      "placeholder": "​",
      "style": "IPY_MODEL_06018fa83bb2447aba341ae41c3b7c91",
      "value": " 2/2 [00:11&lt;00:00,  5.96s/it]"
     }
    },
    "d45f5eb9c4fe453ba3669c6af7fcaabf": {
     "model_module": "@jupyter-widgets/controls",
     "model_module_version": "1.5.0",
     "model_name": "HTMLModel",
     "state": {
      "_dom_classes": [],
      "_model_module": "@jupyter-widgets/controls",
      "_model_module_version": "1.5.0",
      "_model_name": "HTMLModel",
      "_view_count": null,
      "_view_module": "@jupyter-widgets/controls",
      "_view_module_version": "1.5.0",
      "_view_name": "HTMLView",
      "description": "",
      "description_tooltip": null,
      "layout": "IPY_MODEL_a8913f0c67f743338b6cf491e73e241f",
      "placeholder": "​",
      "style": "IPY_MODEL_431cae5190a54dd89e71b1f745cfd589",
      "value": " 1.79k/1.79k [00:00&lt;00:00, 87.3kB/s]"
     }
    },
    "d55acd98af48449d9b655a5c71230385": {
     "model_module": "@jupyter-widgets/base",
     "model_module_version": "1.2.0",
     "model_name": "LayoutModel",
     "state": {
      "_model_module": "@jupyter-widgets/base",
      "_model_module_version": "1.2.0",
      "_model_name": "LayoutModel",
      "_view_count": null,
      "_view_module": "@jupyter-widgets/base",
      "_view_module_version": "1.2.0",
      "_view_name": "LayoutView",
      "align_content": null,
      "align_items": null,
      "align_self": null,
      "border": null,
      "bottom": null,
      "display": null,
      "flex": null,
      "flex_flow": null,
      "grid_area": null,
      "grid_auto_columns": null,
      "grid_auto_flow": null,
      "grid_auto_rows": null,
      "grid_column": null,
      "grid_gap": null,
      "grid_row": null,
      "grid_template_areas": null,
      "grid_template_columns": null,
      "grid_template_rows": null,
      "height": null,
      "justify_content": null,
      "justify_items": null,
      "left": null,
      "margin": null,
      "max_height": null,
      "max_width": null,
      "min_height": null,
      "min_width": null,
      "object_fit": null,
      "object_position": null,
      "order": null,
      "overflow": null,
      "overflow_x": null,
      "overflow_y": null,
      "padding": null,
      "right": null,
      "top": null,
      "visibility": null,
      "width": null
     }
    },
    "d6838728d2b3469baa582226c42728a6": {
     "model_module": "@jupyter-widgets/controls",
     "model_module_version": "1.5.0",
     "model_name": "DescriptionStyleModel",
     "state": {
      "_model_module": "@jupyter-widgets/controls",
      "_model_module_version": "1.5.0",
      "_model_name": "DescriptionStyleModel",
      "_view_count": null,
      "_view_module": "@jupyter-widgets/base",
      "_view_module_version": "1.2.0",
      "_view_name": "StyleView",
      "description_width": ""
     }
    },
    "d7fed56bae394e0dacb7c5a3c45e272d": {
     "model_module": "@jupyter-widgets/base",
     "model_module_version": "1.2.0",
     "model_name": "LayoutModel",
     "state": {
      "_model_module": "@jupyter-widgets/base",
      "_model_module_version": "1.2.0",
      "_model_name": "LayoutModel",
      "_view_count": null,
      "_view_module": "@jupyter-widgets/base",
      "_view_module_version": "1.2.0",
      "_view_name": "LayoutView",
      "align_content": null,
      "align_items": null,
      "align_self": null,
      "border": null,
      "bottom": null,
      "display": null,
      "flex": "2",
      "flex_flow": null,
      "grid_area": null,
      "grid_auto_columns": null,
      "grid_auto_flow": null,
      "grid_auto_rows": null,
      "grid_column": null,
      "grid_gap": null,
      "grid_row": null,
      "grid_template_areas": null,
      "grid_template_columns": null,
      "grid_template_rows": null,
      "height": null,
      "justify_content": null,
      "justify_items": null,
      "left": null,
      "margin": null,
      "max_height": null,
      "max_width": null,
      "min_height": null,
      "min_width": null,
      "object_fit": null,
      "object_position": null,
      "order": null,
      "overflow": null,
      "overflow_x": null,
      "overflow_y": null,
      "padding": null,
      "right": null,
      "top": null,
      "visibility": null,
      "width": null
     }
    },
    "d91f172699a24adca9fa3d3f5a755e5d": {
     "model_module": "@jupyter-widgets/controls",
     "model_module_version": "1.5.0",
     "model_name": "HBoxModel",
     "state": {
      "_dom_classes": [],
      "_model_module": "@jupyter-widgets/controls",
      "_model_module_version": "1.5.0",
      "_model_name": "HBoxModel",
      "_view_count": null,
      "_view_module": "@jupyter-widgets/controls",
      "_view_module_version": "1.5.0",
      "_view_name": "HBoxView",
      "box_style": "",
      "children": [
       "IPY_MODEL_416a57bcdb97461783b4b80eda9ffc8f",
       "IPY_MODEL_dab3738849eb4171af778953b9ea5af6",
       "IPY_MODEL_7da3fa74be26440aa9543ba739fd0013"
      ],
      "layout": "IPY_MODEL_7b76195c267448639a1d4146001e53cb"
     }
    },
    "d9a45b751a674531abb948f0f21a28bd": {
     "model_module": "@jupyter-widgets/controls",
     "model_module_version": "1.5.0",
     "model_name": "FloatProgressModel",
     "state": {
      "_dom_classes": [],
      "_model_module": "@jupyter-widgets/controls",
      "_model_module_version": "1.5.0",
      "_model_name": "FloatProgressModel",
      "_view_count": null,
      "_view_module": "@jupyter-widgets/controls",
      "_view_module_version": "1.5.0",
      "_view_name": "ProgressView",
      "bar_style": "",
      "description": "",
      "description_tooltip": null,
      "layout": "IPY_MODEL_f227586086404e0fb2b1f7e6bbc23853",
      "max": 2,
      "min": 0,
      "orientation": "horizontal",
      "style": "IPY_MODEL_605a52a07da949839287bbd4e4e5c3a1",
      "value": 2
     }
    },
    "dab3738849eb4171af778953b9ea5af6": {
     "model_module": "@jupyter-widgets/controls",
     "model_module_version": "1.5.0",
     "model_name": "FloatProgressModel",
     "state": {
      "_dom_classes": [],
      "_model_module": "@jupyter-widgets/controls",
      "_model_module_version": "1.5.0",
      "_model_name": "FloatProgressModel",
      "_view_count": null,
      "_view_module": "@jupyter-widgets/controls",
      "_view_module_version": "1.5.0",
      "_view_name": "ProgressView",
      "bar_style": "success",
      "description": "",
      "description_tooltip": null,
      "layout": "IPY_MODEL_e8d5936dc20345c1a50847da5b0870e9",
      "max": 1473,
      "min": 0,
      "orientation": "horizontal",
      "style": "IPY_MODEL_c9949c5ae1694ba5af3ec8505f7c32a7",
      "value": 1473
     }
    },
    "dcf07a79e7a741c097b0ea7d72c15986": {
     "model_module": "@jupyter-widgets/base",
     "model_module_version": "1.2.0",
     "model_name": "LayoutModel",
     "state": {
      "_model_module": "@jupyter-widgets/base",
      "_model_module_version": "1.2.0",
      "_model_name": "LayoutModel",
      "_view_count": null,
      "_view_module": "@jupyter-widgets/base",
      "_view_module_version": "1.2.0",
      "_view_name": "LayoutView",
      "align_content": null,
      "align_items": null,
      "align_self": null,
      "border": null,
      "bottom": null,
      "display": null,
      "flex": "2",
      "flex_flow": null,
      "grid_area": null,
      "grid_auto_columns": null,
      "grid_auto_flow": null,
      "grid_auto_rows": null,
      "grid_column": null,
      "grid_gap": null,
      "grid_row": null,
      "grid_template_areas": null,
      "grid_template_columns": null,
      "grid_template_rows": null,
      "height": null,
      "justify_content": null,
      "justify_items": null,
      "left": null,
      "margin": null,
      "max_height": null,
      "max_width": null,
      "min_height": null,
      "min_width": null,
      "object_fit": null,
      "object_position": null,
      "order": null,
      "overflow": null,
      "overflow_x": null,
      "overflow_y": null,
      "padding": null,
      "right": null,
      "top": null,
      "visibility": null,
      "width": null
     }
    },
    "dd382c9f5b9e40b1a17c2b8de4539dbc": {
     "model_module": "@jupyter-widgets/controls",
     "model_module_version": "1.5.0",
     "model_name": "FloatProgressModel",
     "state": {
      "_dom_classes": [],
      "_model_module": "@jupyter-widgets/controls",
      "_model_module_version": "1.5.0",
      "_model_name": "FloatProgressModel",
      "_view_count": null,
      "_view_module": "@jupyter-widgets/controls",
      "_view_module_version": "1.5.0",
      "_view_name": "ProgressView",
      "bar_style": "",
      "description": "",
      "description_tooltip": null,
      "layout": "IPY_MODEL_d7fed56bae394e0dacb7c5a3c45e272d",
      "max": 88,
      "min": 0,
      "orientation": "horizontal",
      "style": "IPY_MODEL_4a99c04b72b0453cb59ef7cc350d287e",
      "value": 88
     }
    },
    "de88157a8c9e452e86c936a7d958384a": {
     "model_module": "@jupyter-widgets/base",
     "model_module_version": "1.2.0",
     "model_name": "LayoutModel",
     "state": {
      "_model_module": "@jupyter-widgets/base",
      "_model_module_version": "1.2.0",
      "_model_name": "LayoutModel",
      "_view_count": null,
      "_view_module": "@jupyter-widgets/base",
      "_view_module_version": "1.2.0",
      "_view_name": "LayoutView",
      "align_content": null,
      "align_items": null,
      "align_self": null,
      "border": null,
      "bottom": null,
      "display": null,
      "flex": null,
      "flex_flow": null,
      "grid_area": null,
      "grid_auto_columns": null,
      "grid_auto_flow": null,
      "grid_auto_rows": null,
      "grid_column": null,
      "grid_gap": null,
      "grid_row": null,
      "grid_template_areas": null,
      "grid_template_columns": null,
      "grid_template_rows": null,
      "height": null,
      "justify_content": null,
      "justify_items": null,
      "left": null,
      "margin": null,
      "max_height": null,
      "max_width": null,
      "min_height": null,
      "min_width": null,
      "object_fit": null,
      "object_position": null,
      "order": null,
      "overflow": null,
      "overflow_x": null,
      "overflow_y": null,
      "padding": null,
      "right": null,
      "top": null,
      "visibility": null,
      "width": null
     }
    },
    "dfd3b8d7ad774a378e5e1213223737aa": {
     "model_module": "@jupyter-widgets/controls",
     "model_module_version": "1.5.0",
     "model_name": "ProgressStyleModel",
     "state": {
      "_model_module": "@jupyter-widgets/controls",
      "_model_module_version": "1.5.0",
      "_model_name": "ProgressStyleModel",
      "_view_count": null,
      "_view_module": "@jupyter-widgets/base",
      "_view_module_version": "1.2.0",
      "_view_name": "StyleView",
      "bar_color": null,
      "description_width": ""
     }
    },
    "e018eda7cf104dc2886c33d3f3a79532": {
     "model_module": "@jupyter-widgets/base",
     "model_module_version": "1.2.0",
     "model_name": "LayoutModel",
     "state": {
      "_model_module": "@jupyter-widgets/base",
      "_model_module_version": "1.2.0",
      "_model_name": "LayoutModel",
      "_view_count": null,
      "_view_module": "@jupyter-widgets/base",
      "_view_module_version": "1.2.0",
      "_view_name": "LayoutView",
      "align_content": null,
      "align_items": null,
      "align_self": null,
      "border": null,
      "bottom": null,
      "display": null,
      "flex": null,
      "flex_flow": null,
      "grid_area": null,
      "grid_auto_columns": null,
      "grid_auto_flow": null,
      "grid_auto_rows": null,
      "grid_column": null,
      "grid_gap": null,
      "grid_row": null,
      "grid_template_areas": null,
      "grid_template_columns": null,
      "grid_template_rows": null,
      "height": null,
      "justify_content": null,
      "justify_items": null,
      "left": null,
      "margin": null,
      "max_height": null,
      "max_width": null,
      "min_height": null,
      "min_width": null,
      "object_fit": null,
      "object_position": null,
      "order": null,
      "overflow": null,
      "overflow_x": null,
      "overflow_y": null,
      "padding": null,
      "right": null,
      "top": null,
      "visibility": null,
      "width": null
     }
    },
    "e03673fbeecc40df9f3c38882e4b3544": {
     "model_module": "@jupyter-widgets/controls",
     "model_module_version": "1.5.0",
     "model_name": "HTMLModel",
     "state": {
      "_dom_classes": [],
      "_model_module": "@jupyter-widgets/controls",
      "_model_module_version": "1.5.0",
      "_model_name": "HTMLModel",
      "_view_count": null,
      "_view_module": "@jupyter-widgets/controls",
      "_view_module_version": "1.5.0",
      "_view_name": "HTMLView",
      "description": "",
      "description_tooltip": null,
      "layout": "IPY_MODEL_4f2358c3006c42aaae9d4257ce69891b",
      "placeholder": "​",
      "style": "IPY_MODEL_bdc10ff6e44b4cf1b2f5fe969ef268cb",
      "value": " 2/2 [00:09&lt;00:00,  4.63s/it]"
     }
    },
    "e06c2e6267d44ae7bdbc78341368e92b": {
     "model_module": "@jupyter-widgets/controls",
     "model_module_version": "1.5.0",
     "model_name": "DescriptionStyleModel",
     "state": {
      "_model_module": "@jupyter-widgets/controls",
      "_model_module_version": "1.5.0",
      "_model_name": "DescriptionStyleModel",
      "_view_count": null,
      "_view_module": "@jupyter-widgets/base",
      "_view_module_version": "1.2.0",
      "_view_name": "StyleView",
      "description_width": ""
     }
    },
    "e114422ffcf948768731a29febb8a290": {
     "model_module": "@jupyter-widgets/controls",
     "model_module_version": "1.5.0",
     "model_name": "HTMLModel",
     "state": {
      "_dom_classes": [],
      "_model_module": "@jupyter-widgets/controls",
      "_model_module_version": "1.5.0",
      "_model_name": "HTMLModel",
      "_view_count": null,
      "_view_module": "@jupyter-widgets/controls",
      "_view_module_version": "1.5.0",
      "_view_name": "HTMLView",
      "description": "",
      "description_tooltip": null,
      "layout": "IPY_MODEL_5ec1b00d88724a07a789c83e0177735c",
      "placeholder": "​",
      "style": "IPY_MODEL_38023b956dbc4f73b44382ad7d31d598",
      "value": " 2.00k/2.00k [00:00&lt;00:00, 79.1kB/s]"
     }
    },
    "e8d5936dc20345c1a50847da5b0870e9": {
     "model_module": "@jupyter-widgets/base",
     "model_module_version": "1.2.0",
     "model_name": "LayoutModel",
     "state": {
      "_model_module": "@jupyter-widgets/base",
      "_model_module_version": "1.2.0",
      "_model_name": "LayoutModel",
      "_view_count": null,
      "_view_module": "@jupyter-widgets/base",
      "_view_module_version": "1.2.0",
      "_view_name": "LayoutView",
      "align_content": null,
      "align_items": null,
      "align_self": null,
      "border": null,
      "bottom": null,
      "display": null,
      "flex": null,
      "flex_flow": null,
      "grid_area": null,
      "grid_auto_columns": null,
      "grid_auto_flow": null,
      "grid_auto_rows": null,
      "grid_column": null,
      "grid_gap": null,
      "grid_row": null,
      "grid_template_areas": null,
      "grid_template_columns": null,
      "grid_template_rows": null,
      "height": null,
      "justify_content": null,
      "justify_items": null,
      "left": null,
      "margin": null,
      "max_height": null,
      "max_width": null,
      "min_height": null,
      "min_width": null,
      "object_fit": null,
      "object_position": null,
      "order": null,
      "overflow": null,
      "overflow_x": null,
      "overflow_y": null,
      "padding": null,
      "right": null,
      "top": null,
      "visibility": null,
      "width": null
     }
    },
    "e9108092a9e94a3cac9169c3ccc704be": {
     "model_module": "@jupyter-widgets/base",
     "model_module_version": "1.2.0",
     "model_name": "LayoutModel",
     "state": {
      "_model_module": "@jupyter-widgets/base",
      "_model_module_version": "1.2.0",
      "_model_name": "LayoutModel",
      "_view_count": null,
      "_view_module": "@jupyter-widgets/base",
      "_view_module_version": "1.2.0",
      "_view_name": "LayoutView",
      "align_content": null,
      "align_items": null,
      "align_self": null,
      "border": null,
      "bottom": null,
      "display": null,
      "flex": null,
      "flex_flow": null,
      "grid_area": null,
      "grid_auto_columns": null,
      "grid_auto_flow": null,
      "grid_auto_rows": null,
      "grid_column": null,
      "grid_gap": null,
      "grid_row": null,
      "grid_template_areas": null,
      "grid_template_columns": null,
      "grid_template_rows": null,
      "height": null,
      "justify_content": null,
      "justify_items": null,
      "left": null,
      "margin": null,
      "max_height": null,
      "max_width": null,
      "min_height": null,
      "min_width": null,
      "object_fit": null,
      "object_position": null,
      "order": null,
      "overflow": null,
      "overflow_x": null,
      "overflow_y": null,
      "padding": null,
      "right": null,
      "top": null,
      "visibility": null,
      "width": null
     }
    },
    "eb87dd541fa548c4ac17a070d34e61ba": {
     "model_module": "@jupyter-widgets/controls",
     "model_module_version": "1.5.0",
     "model_name": "DescriptionStyleModel",
     "state": {
      "_model_module": "@jupyter-widgets/controls",
      "_model_module_version": "1.5.0",
      "_model_name": "DescriptionStyleModel",
      "_view_count": null,
      "_view_module": "@jupyter-widgets/base",
      "_view_module_version": "1.2.0",
      "_view_name": "StyleView",
      "description_width": ""
     }
    },
    "ed293177ba2645fd92eb244167ca3b52": {
     "model_module": "@jupyter-widgets/controls",
     "model_module_version": "1.5.0",
     "model_name": "HTMLModel",
     "state": {
      "_dom_classes": [],
      "_model_module": "@jupyter-widgets/controls",
      "_model_module_version": "1.5.0",
      "_model_name": "HTMLModel",
      "_view_count": null,
      "_view_module": "@jupyter-widgets/controls",
      "_view_module_version": "1.5.0",
      "_view_name": "HTMLView",
      "description": "",
      "description_tooltip": null,
      "layout": "IPY_MODEL_a6ef7eacbeb448dba7ec1def6ceef1dd",
      "placeholder": "​",
      "style": "IPY_MODEL_73bcb6bffb6c4470881e8414bb2a7f54",
      "value": "Downloading (…)&quot;pytorch_model.bin&quot;;: 100%"
     }
    },
    "ed3d0e209df54d568f901809c8193287": {
     "model_module": "@jupyter-widgets/controls",
     "model_module_version": "1.5.0",
     "model_name": "HBoxModel",
     "state": {
      "_dom_classes": [],
      "_model_module": "@jupyter-widgets/controls",
      "_model_module_version": "1.5.0",
      "_model_name": "HBoxModel",
      "_view_count": null,
      "_view_module": "@jupyter-widgets/controls",
      "_view_module_version": "1.5.0",
      "_view_name": "HBoxView",
      "box_style": "",
      "children": [
       "IPY_MODEL_121ec13d324549e29374397fc0def67b",
       "IPY_MODEL_f3218471b5c040739fba304a0fdbe21b",
       "IPY_MODEL_0043b3676b00462c96c41c198912d1f2"
      ],
      "layout": "IPY_MODEL_72994df54e9343d7bb72f3bee40f362a"
     }
    },
    "edcbbacfb9094c639965c13ca7f40d1c": {
     "model_module": "@jupyter-widgets/base",
     "model_module_version": "1.2.0",
     "model_name": "LayoutModel",
     "state": {
      "_model_module": "@jupyter-widgets/base",
      "_model_module_version": "1.2.0",
      "_model_name": "LayoutModel",
      "_view_count": null,
      "_view_module": "@jupyter-widgets/base",
      "_view_module_version": "1.2.0",
      "_view_name": "LayoutView",
      "align_content": null,
      "align_items": null,
      "align_self": null,
      "border": null,
      "bottom": null,
      "display": null,
      "flex": null,
      "flex_flow": null,
      "grid_area": null,
      "grid_auto_columns": null,
      "grid_auto_flow": null,
      "grid_auto_rows": null,
      "grid_column": null,
      "grid_gap": null,
      "grid_row": null,
      "grid_template_areas": null,
      "grid_template_columns": null,
      "grid_template_rows": null,
      "height": null,
      "justify_content": null,
      "justify_items": null,
      "left": null,
      "margin": null,
      "max_height": null,
      "max_width": null,
      "min_height": null,
      "min_width": null,
      "object_fit": null,
      "object_position": null,
      "order": null,
      "overflow": null,
      "overflow_x": null,
      "overflow_y": null,
      "padding": null,
      "right": null,
      "top": null,
      "visibility": null,
      "width": null
     }
    },
    "f1955543693c4b2caf15385c7c4579f2": {
     "model_module": "@jupyter-widgets/controls",
     "model_module_version": "1.5.0",
     "model_name": "DescriptionStyleModel",
     "state": {
      "_model_module": "@jupyter-widgets/controls",
      "_model_module_version": "1.5.0",
      "_model_name": "DescriptionStyleModel",
      "_view_count": null,
      "_view_module": "@jupyter-widgets/base",
      "_view_module_version": "1.2.0",
      "_view_name": "StyleView",
      "description_width": ""
     }
    },
    "f227586086404e0fb2b1f7e6bbc23853": {
     "model_module": "@jupyter-widgets/base",
     "model_module_version": "1.2.0",
     "model_name": "LayoutModel",
     "state": {
      "_model_module": "@jupyter-widgets/base",
      "_model_module_version": "1.2.0",
      "_model_name": "LayoutModel",
      "_view_count": null,
      "_view_module": "@jupyter-widgets/base",
      "_view_module_version": "1.2.0",
      "_view_name": "LayoutView",
      "align_content": null,
      "align_items": null,
      "align_self": null,
      "border": null,
      "bottom": null,
      "display": null,
      "flex": "2",
      "flex_flow": null,
      "grid_area": null,
      "grid_auto_columns": null,
      "grid_auto_flow": null,
      "grid_auto_rows": null,
      "grid_column": null,
      "grid_gap": null,
      "grid_row": null,
      "grid_template_areas": null,
      "grid_template_columns": null,
      "grid_template_rows": null,
      "height": null,
      "justify_content": null,
      "justify_items": null,
      "left": null,
      "margin": null,
      "max_height": null,
      "max_width": null,
      "min_height": null,
      "min_width": null,
      "object_fit": null,
      "object_position": null,
      "order": null,
      "overflow": null,
      "overflow_x": null,
      "overflow_y": null,
      "padding": null,
      "right": null,
      "top": null,
      "visibility": null,
      "width": null
     }
    },
    "f2eb476c4be1430aa1f7699d5ca280bb": {
     "model_module": "@jupyter-widgets/base",
     "model_module_version": "1.2.0",
     "model_name": "LayoutModel",
     "state": {
      "_model_module": "@jupyter-widgets/base",
      "_model_module_version": "1.2.0",
      "_model_name": "LayoutModel",
      "_view_count": null,
      "_view_module": "@jupyter-widgets/base",
      "_view_module_version": "1.2.0",
      "_view_name": "LayoutView",
      "align_content": null,
      "align_items": null,
      "align_self": null,
      "border": null,
      "bottom": null,
      "display": "inline-flex",
      "flex": null,
      "flex_flow": "row wrap",
      "grid_area": null,
      "grid_auto_columns": null,
      "grid_auto_flow": null,
      "grid_auto_rows": null,
      "grid_column": null,
      "grid_gap": null,
      "grid_row": null,
      "grid_template_areas": null,
      "grid_template_columns": null,
      "grid_template_rows": null,
      "height": null,
      "justify_content": null,
      "justify_items": null,
      "left": null,
      "margin": null,
      "max_height": null,
      "max_width": null,
      "min_height": null,
      "min_width": null,
      "object_fit": null,
      "object_position": null,
      "order": null,
      "overflow": null,
      "overflow_x": null,
      "overflow_y": null,
      "padding": null,
      "right": null,
      "top": null,
      "visibility": null,
      "width": "100%"
     }
    },
    "f3218471b5c040739fba304a0fdbe21b": {
     "model_module": "@jupyter-widgets/controls",
     "model_module_version": "1.5.0",
     "model_name": "FloatProgressModel",
     "state": {
      "_dom_classes": [],
      "_model_module": "@jupyter-widgets/controls",
      "_model_module_version": "1.5.0",
      "_model_name": "FloatProgressModel",
      "_view_count": null,
      "_view_module": "@jupyter-widgets/controls",
      "_view_module_version": "1.5.0",
      "_view_name": "ProgressView",
      "bar_style": "",
      "description": "",
      "description_tooltip": null,
      "layout": "IPY_MODEL_dcf07a79e7a741c097b0ea7d72c15986",
      "max": 88,
      "min": 0,
      "orientation": "horizontal",
      "style": "IPY_MODEL_b48b1ca397194b25a0def5e122e3ffaa",
      "value": 88
     }
    },
    "f55c02d86b6843fb84e7f11906738c4f": {
     "model_module": "@jupyter-widgets/controls",
     "model_module_version": "1.5.0",
     "model_name": "HTMLModel",
     "state": {
      "_dom_classes": [],
      "_model_module": "@jupyter-widgets/controls",
      "_model_module_version": "1.5.0",
      "_model_name": "HTMLModel",
      "_view_count": null,
      "_view_module": "@jupyter-widgets/controls",
      "_view_module_version": "1.5.0",
      "_view_name": "HTMLView",
      "description": "",
      "description_tooltip": null,
      "layout": "IPY_MODEL_e9108092a9e94a3cac9169c3ccc704be",
      "placeholder": "​",
      "style": "IPY_MODEL_595d6b4841d04cc19a35f051e965829f",
      "value": " 30/792 [00:14&lt;06:05,  2.09it/s, loss=0.594, v_num=0, train_loss_step=0.486]"
     }
    },
    "f5f38c04aacc483a8aef016114a4db68": {
     "model_module": "@jupyter-widgets/controls",
     "model_module_version": "1.5.0",
     "model_name": "HTMLModel",
     "state": {
      "_dom_classes": [],
      "_model_module": "@jupyter-widgets/controls",
      "_model_module_version": "1.5.0",
      "_model_name": "HTMLModel",
      "_view_count": null,
      "_view_module": "@jupyter-widgets/controls",
      "_view_module_version": "1.5.0",
      "_view_name": "HTMLView",
      "description": "",
      "description_tooltip": null,
      "layout": "IPY_MODEL_aeab7601cb5e4fce8ade7eb0a700a46e",
      "placeholder": "​",
      "style": "IPY_MODEL_1c34055810e842b1b7e618bc4846c7c4",
      "value": "Downloading (…)&quot;spiece.model&quot;;: 100%"
     }
    },
    "f9ae8d3065f94bf8878023d0c5500127": {
     "model_module": "@jupyter-widgets/controls",
     "model_module_version": "1.5.0",
     "model_name": "ProgressStyleModel",
     "state": {
      "_model_module": "@jupyter-widgets/controls",
      "_model_module_version": "1.5.0",
      "_model_name": "ProgressStyleModel",
      "_view_count": null,
      "_view_module": "@jupyter-widgets/base",
      "_view_module_version": "1.2.0",
      "_view_name": "StyleView",
      "bar_color": null,
      "description_width": ""
     }
    },
    "fd2d821a75404700b7e42631a03976c1": {
     "model_module": "@jupyter-widgets/controls",
     "model_module_version": "1.5.0",
     "model_name": "DescriptionStyleModel",
     "state": {
      "_model_module": "@jupyter-widgets/controls",
      "_model_module_version": "1.5.0",
      "_model_name": "DescriptionStyleModel",
      "_view_count": null,
      "_view_module": "@jupyter-widgets/base",
      "_view_module_version": "1.2.0",
      "_view_name": "StyleView",
      "description_width": ""
     }
    },
    "fe1f7d0b17dc482d9a0c92fb8dbb7299": {
     "model_module": "@jupyter-widgets/controls",
     "model_module_version": "1.5.0",
     "model_name": "HBoxModel",
     "state": {
      "_dom_classes": [],
      "_model_module": "@jupyter-widgets/controls",
      "_model_module_version": "1.5.0",
      "_model_name": "HBoxModel",
      "_view_count": null,
      "_view_module": "@jupyter-widgets/controls",
      "_view_module_version": "1.5.0",
      "_view_name": "HBoxView",
      "box_style": "",
      "children": [
       "IPY_MODEL_b574c88e8cba436a8336abee107c41f8",
       "IPY_MODEL_7116fcace69640e1867b5097f0ffac5c",
       "IPY_MODEL_a1a4946d56464e96a99ed04bd4d67b8d"
      ],
      "layout": "IPY_MODEL_c96d94c5c0b3438b9c0fcb8002c43262"
     }
    },
    "ff796ee660c34226a092c4e07e25cf41": {
     "model_module": "@jupyter-widgets/base",
     "model_module_version": "1.2.0",
     "model_name": "LayoutModel",
     "state": {
      "_model_module": "@jupyter-widgets/base",
      "_model_module_version": "1.2.0",
      "_model_name": "LayoutModel",
      "_view_count": null,
      "_view_module": "@jupyter-widgets/base",
      "_view_module_version": "1.2.0",
      "_view_name": "LayoutView",
      "align_content": null,
      "align_items": null,
      "align_self": null,
      "border": null,
      "bottom": null,
      "display": null,
      "flex": null,
      "flex_flow": null,
      "grid_area": null,
      "grid_auto_columns": null,
      "grid_auto_flow": null,
      "grid_auto_rows": null,
      "grid_column": null,
      "grid_gap": null,
      "grid_row": null,
      "grid_template_areas": null,
      "grid_template_columns": null,
      "grid_template_rows": null,
      "height": null,
      "justify_content": null,
      "justify_items": null,
      "left": null,
      "margin": null,
      "max_height": null,
      "max_width": null,
      "min_height": null,
      "min_width": null,
      "object_fit": null,
      "object_position": null,
      "order": null,
      "overflow": null,
      "overflow_x": null,
      "overflow_y": null,
      "padding": null,
      "right": null,
      "top": null,
      "visibility": null,
      "width": null
     }
    }
   }
  }
 },
 "nbformat": 4,
 "nbformat_minor": 1
}
